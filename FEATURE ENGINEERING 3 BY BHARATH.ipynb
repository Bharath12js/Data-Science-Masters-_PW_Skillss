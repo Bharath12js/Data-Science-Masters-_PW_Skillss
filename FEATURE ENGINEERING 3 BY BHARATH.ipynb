{
 "cells": [
  {
   "cell_type": "markdown",
   "id": "add189c5",
   "metadata": {},
   "source": [
    "# FEATURE ENGINEERING 3 BY BHARATH"
   ]
  },
  {
   "cell_type": "markdown",
   "id": "de8a8ad7",
   "metadata": {},
   "source": [
    "# QUESTIONS:"
   ]
  },
  {
   "cell_type": "markdown",
   "id": "e7d3b1b3",
   "metadata": {},
   "source": [
    "Q1. What is data encoding? How is it useful in data science?\n",
    "\n",
    "Q2. What is nominal encoding? Provide an example of how you would use it in a real-world scenario.\n",
    "\n",
    "Q3. In what situations is nominal encoding preferred over one-hot encoding? Provide a practical example.\n",
    "\n",
    "Q4. Suppose you have a dataset containing categorical data with 5 unique values. Which encoding \n",
    "technique would you use to transform this data into a format suitable for machine learning algorithms? \n",
    "Explain why you made this choice.\n",
    "\n",
    "Q5. In a machine learning project, you have a dataset with 1000 rows and 5 columns. Two of the columns \n",
    "are categorical, and the remaining three columns are numerical. If you were to use nominal encoding to \n",
    "transform the categorical data, how many new columns would be created? Show your calculations.\n",
    "\n",
    "Q6. You are working with a dataset containing information about different types of animals, including their \n",
    "species, habitat, and diet. Which encoding technique would you use to transform the categorical data into \n",
    "a format suitable for machine learning algorithms? Justify your answer.\n",
    "\n",
    "Q7.You are working on a project that involves predicting customer churn for a telecommunications \n",
    "company. You have a dataset with 5 features, including the customer's gender, age, contract type, \n",
    "monthly charges, and tenure. Which encoding technique(s) would you use to transform the categorical \n",
    "data into numerical data? Provide a step-by-step explanation of how you would implement the encoding"
   ]
  },
  {
   "cell_type": "markdown",
   "id": "9fdbef86",
   "metadata": {},
   "source": [
    "# SOLUTIONS:"
   ]
  },
  {
   "cell_type": "markdown",
   "id": "16396a44",
   "metadata": {},
   "source": [
    "Q1: **Data Encoding and its Use in Data Science**:\n",
    "\n",
    "Data encoding is the process of converting categorical or textual data into numerical representations that can be used by machine learning algorithms. It is useful in data science because many machine learning algorithms require numerical input data. Encoding categorical data allows algorithms to work effectively with diverse types of data, enabling accurate predictions and analyses.\n",
    "\n",
    "Q2: **Nominal Encoding**:\n",
    "\n",
    "Nominal encoding assigns a unique integer to each category without any specific order or ranking among them. It is useful when categories have no inherent order or when the algorithm doesn't assume any relationship between categories.\n",
    "\n",
    "Example:\n",
    "Suppose you have a dataset of movie genres: [Action, Romance, Comedy, Sci-Fi]. Nominal encoding could map these genres to integers: Action (0), Romance (1), Comedy (2), Sci-Fi (3).\n",
    "\n",
    "Q3: **When Nominal Encoding is Preferred Over One-Hot Encoding**:\n",
    "\n",
    "Nominal encoding is preferred when:\n",
    "- Categories have no meaningful order or ranking.\n",
    "- The number of unique categories is relatively large.\n",
    "- The algorithm can handle ordinal relationships between categories.\n",
    "\n",
    "Practical Example:\n",
    "In a dataset of car colors, where colors have no inherent order (e.g., Red, Blue, Green, Yellow), nominal encoding could be used to represent each color with a unique integer.\n",
    "\n",
    "Q4: **Encoding Technique for Categorical Data with 5 Unique Values**:\n",
    "\n",
    "For a small number of unique values, nominal encoding can be used, as it assigns a unique integer to each category. This approach maintains the information while reducing dimensionality compared to one-hot encoding, which could be less efficient for a small number of categories.\n",
    "\n",
    "Q5: **Calculating New Columns for Nominal Encoding**:\n",
    "\n",
    "If you use nominal encoding to transform two categorical columns in a dataset with 1000 rows, you would create one new column for each categorical column. Each new column contains unique integers representing the categories.\n",
    "\n",
    "Q6: **Encoding for Animal Dataset**:\n",
    "\n",
    "For the animal dataset, you could use nominal encoding if the categorical features, such as species, habitat, and diet, do not have a specific order or ranking. This would allow you to represent each category with a unique integer.\n",
    "\n",
    "Q7: **Encoding Categorical Data for Customer Churn Prediction**:\n",
    "\n",
    "For the given dataset with 5 features, you could use the following encoding techniques:\n",
    "1. **Nominal Encoding**:\n",
    "   - Apply nominal encoding to gender and contract type columns since they have no inherent order.\n",
    "   - For gender: Male (0), Female (1)\n",
    "   - For contract type: Month-to-Month (0), One Year (1), Two Year (2)\n",
    "2. **Leave Numerical Columns Unchanged**:\n",
    "   - Monthly charges and tenure are numerical and can be used as they are.\n",
    "\n",
    "After encoding, your dataset would have the transformed gender and contract type columns, ready for use in machine learning algorithms."
   ]
  },
  {
   "cell_type": "code",
   "execution_count": null,
   "id": "50ed0e10",
   "metadata": {},
   "outputs": [],
   "source": []
  }
 ],
 "metadata": {
  "kernelspec": {
   "display_name": "Python 3 (ipykernel)",
   "language": "python",
   "name": "python3"
  },
  "language_info": {
   "codemirror_mode": {
    "name": "ipython",
    "version": 3
   },
   "file_extension": ".py",
   "mimetype": "text/x-python",
   "name": "python",
   "nbconvert_exporter": "python",
   "pygments_lexer": "ipython3",
   "version": "3.9.13"
  }
 },
 "nbformat": 4,
 "nbformat_minor": 5
}
