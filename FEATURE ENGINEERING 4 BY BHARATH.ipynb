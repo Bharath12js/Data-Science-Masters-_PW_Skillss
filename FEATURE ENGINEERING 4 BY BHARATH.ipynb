{
 "cells": [
  {
   "cell_type": "markdown",
   "id": "851cf047",
   "metadata": {},
   "source": [
    "# FEATURE ENGINEERING 4 BY BHARATH"
   ]
  },
  {
   "cell_type": "markdown",
   "id": "09099330",
   "metadata": {},
   "source": [
    "# QUESTIONS:"
   ]
  },
  {
   "cell_type": "markdown",
   "id": "e8656089",
   "metadata": {},
   "source": [
    "Q1. What is the difference between Ordinal Encoding and Label Encoding? Provide an example of when you \n",
    "might choose one over the other.\n",
    "\n",
    "Q2. Explain how Target Guided Ordinal Encoding works and provide an example of when you might use it in \n",
    "a machine learning project.\n",
    "\n",
    "Q3. Define covariance and explain why it is important in statistical analysis. How is covariance calculated?\n",
    "\n",
    "Q4. For a dataset with the following categorical variables: Color (red, green, blue), Size (small, medium, \n",
    "large), and Material (wood, metal, plastic), perform label encoding using Python's scikit-learn library. \n",
    "Show your code and explain the output.\n",
    "\n",
    "Q5. Calculate the covariance matrix for the following variables in a dataset: Age, Income, and Education \n",
    "level. Interpret the results.\n",
    "\n",
    "Q6. You are working on a machine learning project with a dataset containing several categorical \n",
    "variables, including \"Gender\" (Male/Female), \"Education Level\" (High School/Bachelor's/Master's/PhD), \n",
    "and \"Employment Status\" (Unemployed/Part-Time/Full-Time). Which encoding method would you use for \n",
    "each variable, and why?\n",
    "\n",
    "Q7. You are analyzing a dataset with two continuous variables, \"Temperature\" and \"Humidity\", and two \n",
    "categorical variables, \"Weather Condition\" (Sunny/Cloudy/Rainy) and \"Wind Direction\" (North/South/\n",
    "East/West). Calculate the covariance between each pair of variables and interpret the results"
   ]
  },
  {
   "cell_type": "markdown",
   "id": "dd37adf0",
   "metadata": {},
   "source": [
    "# SOLUTIONS:"
   ]
  },
  {
   "cell_type": "markdown",
   "id": "bfa2f963",
   "metadata": {},
   "source": [
    "Q1: **Difference Between Ordinal Encoding and Label Encoding**:\n",
    "\n",
    "- **Label Encoding**: In label encoding, each unique category is assigned an integer value. It's commonly used for categorical features where there is no inherent order among the categories.\n",
    "\n",
    "- **Ordinal Encoding**: Ordinal encoding is used when categorical features have a meaningful order or ranking. Each category is assigned an integer based on its rank or order.\n",
    "\n",
    "Example:\n",
    "Suppose you have a dataset of education levels: [High School, Bachelor's, Master's, PhD].\n",
    "- **Label Encoding**: High School (0), Bachelor's (1), Master's (2), PhD (3)\n",
    "- **Ordinal Encoding**: High School (1), Bachelor's (2), Master's (3), PhD (4)\n",
    "\n",
    "You might choose ordinal encoding when there is a clear order or hierarchy among categories, like education levels.\n",
    "\n",
    "Q2: **Target Guided Ordinal Encoding**:\n",
    "\n",
    "Target Guided Ordinal Encoding is a technique where categories are encoded based on the mean of the target variable within each category. It's useful when there is a relationship between the categorical feature and the target variable, and you want to capture this relationship in the encoding.\n",
    "\n",
    "Example:\n",
    "In a loan default prediction project, you could use Target Guided Ordinal Encoding to encode education levels based on the default rate within each education level. This encoding could capture the impact of education on the likelihood of loan default.\n",
    "\n",
    "Q3: **Covariance**:\n",
    "\n",
    "Covariance measures the degree to which two variables change together. It indicates the direction of the linear relationship between variables. A positive covariance suggests that both variables tend to increase or decrease together, while a negative covariance indicates that one variable tends to increase when the other decreases.\n",
    "\n",
    "Covariance is important in statistical analysis because it helps understand how variables interact and potentially influence each other. However, it doesn't provide the strength of the relationship or if it's a causal relationship.\n",
    "\n",
    "Covariance between two variables X and Y is calculated using the formula:\n",
    "```\n",
    "cov(X, Y) = Σ((Xᵢ - X̄) * (Yᵢ - Ȳ)) / (n - 1)\n",
    "```\n",
    "\n",
    "Q4: **Label Encoding with scikit-learn**:\n",
    "\n",
    "```python\n",
    "from sklearn.preprocessing import LabelEncoder\n",
    "\n",
    "data = ['red', 'green', 'blue', 'green', 'red']\n",
    "encoder = LabelEncoder()\n",
    "encoded_data = encoder.fit_transform(data)\n",
    "\n",
    "print(encoded_data)\n",
    "```\n",
    "Output: [2 1 0 1 2]\n",
    "\n",
    "Q5: **Covariance Matrix**:\n",
    "\n",
    "A covariance matrix is a square matrix that shows the covariances between pairs of variables in a dataset. Each element (i, j) of the matrix represents the covariance between variables i and j.\n",
    "\n",
    "Interpretation: Positive covariance indicates that the variables tend to move in the same direction. Negative covariance indicates that the variables move in opposite directions. A covariance close to zero suggests little linear relationship.\n",
    "\n",
    "Q6: **Encoding Categorical Variables**:\n",
    "\n",
    "- **Gender**: Label encoding (no inherent order)\n",
    "- **Education Level**: Ordinal encoding (meaningful order)\n",
    "- **Employment Status**: Nominal encoding (no inherent order)\n",
    "\n",
    "Q7: **Calculating Covariance Between Variables**:\n",
    "\n",
    "Covariance between Temperature and Humidity: Indicates the direction of change (positive/negative) between temperature and humidity levels.\n",
    "\n",
    "Covariance between Weather Condition and Wind Direction: Indicates whether specific weather conditions (e.g., Rainy) tend to occur with specific wind directions (e.g., East)."
   ]
  }
 ],
 "metadata": {
  "kernelspec": {
   "display_name": "Python 3 (ipykernel)",
   "language": "python",
   "name": "python3"
  },
  "language_info": {
   "codemirror_mode": {
    "name": "ipython",
    "version": 3
   },
   "file_extension": ".py",
   "mimetype": "text/x-python",
   "name": "python",
   "nbconvert_exporter": "python",
   "pygments_lexer": "ipython3",
   "version": "3.9.13"
  }
 },
 "nbformat": 4,
 "nbformat_minor": 5
}
