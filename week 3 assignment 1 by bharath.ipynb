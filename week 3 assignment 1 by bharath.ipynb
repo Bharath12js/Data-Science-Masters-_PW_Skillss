{
 "cells": [
  {
   "cell_type": "markdown",
   "id": "061937c1",
   "metadata": {},
   "source": [
    "# WEEK 3 ASSIGNMENT 1"
   ]
  },
  {
   "cell_type": "markdown",
   "id": "51c8e438",
   "metadata": {},
   "source": [
    "**Q1. Which keyword is used to create a function? Create a function to return a list of odd numbers in the\n",
    "range of 1 to 25.**"
   ]
  },
  {
   "cell_type": "markdown",
   "id": "443929f5",
   "metadata": {},
   "source": [
    "solution:  \n",
    "The keyword used to create a function is typically   \"def\"  (short for \"define\"). "
   ]
  },
  {
   "cell_type": "code",
   "execution_count": 4,
   "id": "de5704ab",
   "metadata": {},
   "outputs": [],
   "source": [
    "def get_odd_numbers():\n",
    "    odd_numbers = []\n",
    "    for number in range(1, 26):\n",
    "        if number % 2 != 0:\n",
    "            odd_numbers.append(number)\n",
    "    return odd_numbers"
   ]
  },
  {
   "cell_type": "code",
   "execution_count": 5,
   "id": "4708bddd",
   "metadata": {},
   "outputs": [
    {
     "name": "stdout",
     "output_type": "stream",
     "text": [
      "[1, 3, 5, 7, 9, 11, 13, 15, 17, 19, 21, 23, 25]\n"
     ]
    }
   ],
   "source": [
    "result = get_odd_numbers()\n",
    "print(result)"
   ]
  },
  {
   "cell_type": "markdown",
   "id": "e93e719b",
   "metadata": {},
   "source": [
    "In the code above, the function get_odd_numbers is created using the def keyword. It initializes an empty list odd_numbers and then iterates through the range of numbers from 1 to 25. If a number is odd (i.e., not divisible by 2), it is appended to the odd_numbers list. Finally, the function returns the list of odd numbers. The function is invoked by calling get_odd_numbers(), and the result is printed."
   ]
  },
  {
   "cell_type": "markdown",
   "id": "9e92fc9e",
   "metadata": {},
   "source": [
    "**Q2. Why args and kwargs is used in some functions? Create a function each for args and kwargs\n",
    "    to demonstrate their use.**"
   ]
  },
  {
   "cell_type": "markdown",
   "id": "4c80076b",
   "metadata": {},
   "source": [
    "Solution:\n",
    "\n",
    "(*args) and (*kwargs) are used to handle arbitrary numbers of arguments in a function. They allow you to pass a variable number of positional arguments and keyword arguments to a function.\n",
    "\n",
    "In simple words we can pass multiple arguments.\n",
    "\n",
    "The *args syntax is used to pass a variable number of positional arguments to a function. It collects all the positional arguments into a tuple within the function.\n",
    "\n",
    "Here's an example of how *args can be used:"
   ]
  },
  {
   "cell_type": "code",
   "execution_count": 7,
   "id": "6333a9fa",
   "metadata": {},
   "outputs": [
    {
     "data": {
      "text/plain": [
       "(1, 2, 3, 4)"
      ]
     },
     "execution_count": 7,
     "metadata": {},
     "output_type": "execute_result"
    }
   ],
   "source": [
    "def my_function(*args):\n",
    "      \n",
    "        return args\n",
    "\n",
    "my_function(1, 2, 3, 4)\n"
   ]
  },
  {
   "cell_type": "markdown",
   "id": "5b3472d1",
   "metadata": {},
   "source": [
    "The **kwargs syntax is used to pass a variable number of keyword arguments to a function. It collects all the keyword arguments into a dictionary within the function. \n",
    "\n",
    "The arguments which are being passed will be in key value pair.\n",
    "\n",
    "Here's an example of how **kwargs can be used:"
   ]
  },
  {
   "cell_type": "code",
   "execution_count": 8,
   "id": "46bc0834",
   "metadata": {},
   "outputs": [
    {
     "data": {
      "text/plain": [
       "{'name': 'Alice', 'age': 25, 'city': 'New York'}"
      ]
     },
     "execution_count": 8,
     "metadata": {},
     "output_type": "execute_result"
    }
   ],
   "source": [
    "def my_function(**kwargs):\n",
    "    \n",
    "    return kwargs\n",
    "        \n",
    "my_function(name=\"Alice\", age=25, city=\"New York\")\n"
   ]
  },
  {
   "cell_type": "markdown",
   "id": "d470ff3b",
   "metadata": {},
   "source": [
    "Both args and kwargs are useful when you want to create flexible functions that can accept a varying number of arguments."
   ]
  },
  {
   "cell_type": "markdown",
   "id": "59a65e5d",
   "metadata": {},
   "source": [
    "**Q3. What is an iterator in python? Name the method used to initialise the iterator object and the method\n",
    "used for iteration. Use these methods to print the first five elements of the given list [2, 4, 6, 8, 10, 12, 14,\n",
    "16, 18, 20].**\n",
    "\n",
    "\n",
    "Solution:"
   ]
  },
  {
   "cell_type": "markdown",
   "id": "0125557c",
   "metadata": {},
   "source": [
    "In Python, an iterator is an object that allows you to iterate over a sequence of elements. It provides a way to access the elements of a container (like a list) one by one, without needing to know the specific internal implementation of the container.\n",
    "\n",
    "To initialize an iterator object, you can use the iter() function. To iterate over the elements of an iterator, you can use the next() function or a for loop.\n",
    "\n",
    "Here's an example that demonstrates how to print the first five elements of the given list [2, 4, 6, 8, 10, 12, 14, 16, 18, 20]:"
   ]
  },
  {
   "cell_type": "code",
   "execution_count": 9,
   "id": "820937f2",
   "metadata": {},
   "outputs": [
    {
     "name": "stdout",
     "output_type": "stream",
     "text": [
      "2\n",
      "4\n",
      "6\n",
      "8\n",
      "10\n"
     ]
    }
   ],
   "source": [
    "my_list = [2, 4, 6, 8, 10, 12, 14, 16, 18, 20]\n",
    "my_iterator = iter(my_list)  # Initializing the iterator object\n",
    "\n",
    "# Using next() to iterate and print the first five elements\n",
    "for _ in range(5):\n",
    "    element = next(my_iterator)\n",
    "    print(element)\n"
   ]
  },
  {
   "cell_type": "markdown",
   "id": "63acd03e",
   "metadata": {},
   "source": [
    "In the code above, we first create a list called my_list. Then, we initialize an iterator object my_iterator using the iter() function. Next, we use a for loop and the next() function to iterate over the iterator and print the first five elements of the list."
   ]
  },
  {
   "cell_type": "markdown",
   "id": "d95f8b94",
   "metadata": {},
   "source": [
    "**Q4. What is a generator function in python? Why yield keyword is used? Give an example of a generator\n",
    "function.**\n",
    "\n",
    "Solution:"
   ]
  },
  {
   "cell_type": "markdown",
   "id": "37cb93ca",
   "metadata": {},
   "source": [
    "The generator function is a special type of function that generates a sequence of values using the yield keyword. Instead of using return to return a single value, a generator function uses yield to produce a series of values one at a time. Each time the generator function encounters a yield statement, it suspends its execution, saves its internal state, and returns the yielded value. The next time the generator is called, it resumes execution from where it left off, allowing it to produce the next value in the sequence.\n",
    "\n",
    "The yield keyword is used in generator functions to define points at which the function should yield its intermediate result and return it to the caller. The function's state is saved, and it can be resumed later to continue where it left off. This allows generator functions to produce a series of values lazily, on-demand, without generating the entire sequence upfront. It provides a memory-efficient way to iterate over large or infinite sequences.\n",
    "\n",
    "Here's an example of a generator function that generates a sequence of even numbers:"
   ]
  },
  {
   "cell_type": "code",
   "execution_count": 11,
   "id": "ee2d4511",
   "metadata": {},
   "outputs": [
    {
     "name": "stdout",
     "output_type": "stream",
     "text": [
      "0\n",
      "2\n",
      "4\n",
      "6\n",
      "8\n"
     ]
    }
   ],
   "source": [
    "def even_numbers(n):\n",
    "    for i in range(n):\n",
    "        if i % 2 == 0:\n",
    "            yield i\n",
    "\n",
    "\n",
    "my_generator = even_numbers(10)\n",
    "\n",
    "# Iterating over the generator and printing the values\n",
    "for number in my_generator:\n",
    "    print(number)\n"
   ]
  },
  {
   "cell_type": "markdown",
   "id": "57f4eb9f",
   "metadata": {},
   "source": [
    "Generator functions are useful when dealing with large data sets, as they allow you to generate and process data on the fly, without needing to store all the values in memory at once."
   ]
  },
  {
   "cell_type": "markdown",
   "id": "033d56be",
   "metadata": {},
   "source": [
    "**Q5. Create a generator function for prime numbers less than 1000. Use the next() method to print the\n",
    "first 20 prime numbers.**"
   ]
  },
  {
   "cell_type": "markdown",
   "id": "afeb822a",
   "metadata": {},
   "source": [
    "Solution:"
   ]
  },
  {
   "cell_type": "code",
   "execution_count": 14,
   "id": "568434f4",
   "metadata": {},
   "outputs": [
    {
     "name": "stdout",
     "output_type": "stream",
     "text": [
      "2\n",
      "3\n",
      "5\n",
      "7\n",
      "11\n",
      "13\n",
      "17\n",
      "19\n",
      "23\n",
      "29\n",
      "31\n",
      "37\n",
      "41\n",
      "43\n",
      "47\n",
      "53\n",
      "59\n",
      "61\n",
      "67\n",
      "71\n"
     ]
    }
   ],
   "source": [
    "def generate_primes():\n",
    "    primes = []\n",
    "    number = 2\n",
    "    while number < 1000:\n",
    "        if all(number % prime != 0 for prime in primes):\n",
    "            primes.append(number)\n",
    "            yield number\n",
    "        number += 1\n",
    "\n",
    "\n",
    "prime_generator = generate_primes()\n",
    "\n",
    "# Printing the first 20 prime numbers less than 1000 using next()\n",
    "for _ in range(20):\n",
    "    prime = next(prime_generator)\n",
    "    print(prime)\n"
   ]
  },
  {
   "cell_type": "markdown",
   "id": "4204356d",
   "metadata": {},
   "source": [
    "When you run the code, it will generate and print the first 20 prime numbers that are less than 1000 using the next() method.Again, you can continue calling next() to generate more prime numbers within the given limit if desired."
   ]
  },
  {
   "cell_type": "markdown",
   "id": "47894cf4",
   "metadata": {},
   "source": [
    "**Q6. Write a python program to print the first 10 Fibonacci numbers using a while loop.**"
   ]
  },
  {
   "cell_type": "markdown",
   "id": "c8b31c87",
   "metadata": {},
   "source": [
    "Solution:"
   ]
  },
  {
   "cell_type": "code",
   "execution_count": 16,
   "id": "2fb7d3a9",
   "metadata": {},
   "outputs": [
    {
     "name": "stdout",
     "output_type": "stream",
     "text": [
      "0\n",
      "1\n",
      "1\n",
      "2\n",
      "3\n",
      "5\n",
      "8\n",
      "13\n",
      "21\n",
      "34\n"
     ]
    }
   ],
   "source": [
    "# Function to print the first 10 Fibonacci numbers using a while loop\n",
    "def print_fibonacci():\n",
    "    # Initialize the first two Fibonacci numbers\n",
    "    num1 = 0\n",
    "    num2 = 1\n",
    "\n",
    "    # Print the first two Fibonacci numbers\n",
    "    print(num1)\n",
    "    print(num2)\n",
    "\n",
    "    # Initialize a counter\n",
    "    count = 2\n",
    "\n",
    "    # Generate and print the remaining Fibonacci numbers using a while loop\n",
    "    while count < 10:\n",
    "        # Calculate the next Fibonacci number\n",
    "        next_num = num1 + num2\n",
    "\n",
    "        # Print the next Fibonacci number\n",
    "        print(next_num)\n",
    "\n",
    "        # Update the variables for the next iteration\n",
    "        num1 = num2\n",
    "        num2 = next_num\n",
    "\n",
    "        # Increment the counter\n",
    "        count += 1\n",
    "\n",
    "# Call the function to print the Fibonacci numbers\n",
    "print_fibonacci()\n"
   ]
  },
  {
   "cell_type": "markdown",
   "id": "5d262734",
   "metadata": {},
   "source": [
    "**Q7. Write a List Comprehension to iterate through the given string: ‘pwskills’.\n",
    "Expected output: ['p', 'w', 's', 'k', 'i', 'l', 'l', 's']**"
   ]
  },
  {
   "cell_type": "markdown",
   "id": "e880e10d",
   "metadata": {},
   "source": [
    "Solution:\n",
    "    "
   ]
  },
  {
   "cell_type": "code",
   "execution_count": 28,
   "id": "13c06556",
   "metadata": {},
   "outputs": [],
   "source": [
    "#1st method:\n",
    "string='pwskills'\n",
    "iter(string)\n",
    "list1=[]\n",
    "for i in string:\n",
    "    list1.append(i)"
   ]
  },
  {
   "cell_type": "code",
   "execution_count": 29,
   "id": "37d63cfb",
   "metadata": {},
   "outputs": [
    {
     "data": {
      "text/plain": [
       "['p', 'w', 's', 'k', 'i', 'l', 'l', 's']"
      ]
     },
     "execution_count": 29,
     "metadata": {},
     "output_type": "execute_result"
    }
   ],
   "source": [
    "list1"
   ]
  },
  {
   "cell_type": "code",
   "execution_count": 30,
   "id": "a4c2b0cd",
   "metadata": {},
   "outputs": [
    {
     "name": "stdout",
     "output_type": "stream",
     "text": [
      "['p', 'w', 's', 'k', 'i', 'l', 'l', 's']\n"
     ]
    }
   ],
   "source": [
    "#2nd method\n",
    "string = 'pwskills'\n",
    "iter_string = iter(string)\n",
    "result = [next(iter_string) for _ in range(len(string))]\n",
    "\n",
    "print(result)\n"
   ]
  },
  {
   "cell_type": "markdown",
   "id": "f96f8dbf",
   "metadata": {},
   "source": [
    "**Q8. Write a python program to check whether a given number is Palindrome or not using a while loop.**"
   ]
  },
  {
   "cell_type": "markdown",
   "id": "35a5a775",
   "metadata": {},
   "source": [
    "Solution:"
   ]
  },
  {
   "cell_type": "code",
   "execution_count": 33,
   "id": "bf05cf39",
   "metadata": {},
   "outputs": [
    {
     "name": "stdout",
     "output_type": "stream",
     "text": [
      "Enter a number: 23432\n",
      "23432 is a palindrome\n"
     ]
    }
   ],
   "source": [
    "def is_palindrome(number):\n",
    "    # Store a copy of the original number\n",
    "    original_number = number\n",
    "\n",
    "    # Variables for reversing the number and checking palindrome\n",
    "    reverse = 0\n",
    "    while number > 0:\n",
    "        # Extract the last digit of the number\n",
    "        last_digit = number % 10\n",
    "\n",
    "        # Append the last digit to the reverse number\n",
    "        reverse = (reverse * 10) + last_digit\n",
    "\n",
    "        # Remove the last digit from the number\n",
    "        number = number // 10\n",
    "\n",
    "    # Check if the original number and reverse number are equal\n",
    "    if original_number == reverse:\n",
    "        return True\n",
    "    else:\n",
    "        return False\n",
    "\n",
    "# Example usage:\n",
    "num = int(input(\"Enter a number: \"))\n",
    "\n",
    "if is_palindrome(num):\n",
    "    print(num, \"is a palindrome\")\n",
    "else:\n",
    "    print(num, \"is not a palindrome\")\n"
   ]
  },
  {
   "cell_type": "markdown",
   "id": "f6ed85a5",
   "metadata": {},
   "source": [
    "**Q9. Write a code to print odd numbers from 1 to 100 using list comprehension.\n",
    "Note: Use a list comprehension to create a list from 1 to 100 and use another List comprehension to filter\n",
    "out odd numbers.**"
   ]
  },
  {
   "cell_type": "markdown",
   "id": "5112aff9",
   "metadata": {},
   "source": [
    "Solution:"
   ]
  },
  {
   "cell_type": "code",
   "execution_count": 35,
   "id": "590ef37c",
   "metadata": {},
   "outputs": [
    {
     "name": "stdout",
     "output_type": "stream",
     "text": [
      "[1, 3, 5, 7, 9, 11, 13, 15, 17, 19, 21, 23, 25, 27, 29, 31, 33, 35, 37, 39, 41, 43, 45, 47, 49, 51, 53, 55, 57, 59, 61, 63, 65, 67, 69, 71, 73, 75, 77, 79, 81, 83, 85, 87, 89, 91, 93, 95, 97, 99]\n"
     ]
    }
   ],
   "source": [
    "# List comprehension to create a list from 1 to 100\n",
    "numbers = [num for num in range(1, 101)]\n",
    "\n",
    "# List comprehension to filter out odd numbers\n",
    "odd_numbers = [num for num in numbers if num % 2 != 0]\n",
    "\n",
    "# Print the odd numbers\n",
    "print(odd_numbers)\n"
   ]
  },
  {
   "cell_type": "markdown",
   "id": "8d6b17d5",
   "metadata": {},
   "source": [
    "# -----------------------------------------------END-----------------------------------------------"
   ]
  }
 ],
 "metadata": {
  "kernelspec": {
   "display_name": "Python 3 (ipykernel)",
   "language": "python",
   "name": "python3"
  },
  "language_info": {
   "codemirror_mode": {
    "name": "ipython",
    "version": 3
   },
   "file_extension": ".py",
   "mimetype": "text/x-python",
   "name": "python",
   "nbconvert_exporter": "python",
   "pygments_lexer": "ipython3",
   "version": "3.9.13"
  }
 },
 "nbformat": 4,
 "nbformat_minor": 5
}
