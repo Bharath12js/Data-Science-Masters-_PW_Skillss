{
 "cells": [
  {
   "cell_type": "markdown",
   "id": "6eedca8e",
   "metadata": {},
   "source": [
    "# FEATURE ENGINEERING 2 BY BHARATH"
   ]
  },
  {
   "cell_type": "markdown",
   "id": "72ac3129",
   "metadata": {},
   "source": [
    "# QUESTIONS:"
   ]
  },
  {
   "cell_type": "markdown",
   "id": "8cd20002",
   "metadata": {},
   "source": [
    "Q1. What is Min-Max scaling, and how is it used in data preprocessing? Provide an example to illustrate its \n",
    "application.\n",
    "\n",
    "Q2. What is the Unit Vector technique in feature scaling, and how does it differ from Min-Max scaling? \n",
    "Provide an example to illustrate its application.\n",
    "\n",
    "Q3. What is PCA (Principle Component Analysis), and how is it used in dimensionality reduction? Provide an \n",
    "example to illustrate its application.\n",
    "\n",
    "Q4. What is the relationship between PCA and Feature Extraction, and how can PCA be used for Feature \n",
    "Extraction? Provide an example to illustrate this concept.\n",
    "\n",
    "Q5. You are working on a project to build a recommendation system for a food delivery service. The dataset \n",
    "contains features such as price, rating, and delivery time. Explain how you would use Min-Max scaling to \n",
    "preprocess the data.\n",
    "\n",
    "Q6. You are working on a project to build a model to predict stock prices. The dataset contains many \n",
    "features, such as company financial data and market trends. Explain how you would use PCA to reduce the \n",
    "dimensionality of the dataset.\n",
    "\n",
    "Q7. For a dataset containing the following values: [1, 5, 10, 15, 20], perform Min-Max scaling to transform the \n",
    "values to a range of -1 to 1.\n",
    "\n",
    "Q8. For a dataset containing the following features: [height, weight, age, gender, blood pressure], perform \n",
    "Feature Extraction using PCA. How many principal components would you choose to retain, and why?"
   ]
  },
  {
   "cell_type": "markdown",
   "id": "6005d01e",
   "metadata": {},
   "source": [
    "# ANSWERS:"
   ]
  },
  {
   "cell_type": "markdown",
   "id": "a2ef89ea",
   "metadata": {},
   "source": [
    "Q1: **Min-Max Scaling**:\n",
    "\n",
    "Min-Max scaling is a data preprocessing technique used to transform features so that they have a specific range, typically between 0 and 1. It works by subtracting the minimum value of the feature and then dividing by the range (difference between maximum and minimum values). This ensures that the scaled values are in a consistent range, making the features comparable.\n",
    "\n",
    "Example:\n",
    "Suppose you have a dataset of exam scores ranging from 50 to 100. To apply Min-Max scaling, you would use the formula:\n",
    "```\n",
    "scaled_value = (x - min) / (max - min)\n",
    "```\n",
    "So, if a score of 75 is scaled:\n",
    "```\n",
    "scaled_value = (75 - 50) / (100 - 50) = 0.5\n",
    "```\n",
    "\n",
    "Q2: **Unit Vector Technique vs. Min-Max Scaling**:\n",
    "\n",
    "**Unit Vector Technique (Normalization)**: In this technique, each feature is scaled to have a unit norm (magnitude) by dividing each value by the Euclidean norm of the feature vector.\n",
    "\n",
    "**Min-Max Scaling**: Scales features within a specific range (usually between 0 and 1) based on the minimum and maximum values of the feature.\n",
    "\n",
    "Example:\n",
    "Suppose you have a dataset with two features [age, income] where age ranges from 20 to 60 and income ranges from $20,000 to $100,000.\n",
    "\n",
    "- For Unit Vector technique:\n",
    "  ```\n",
    "  normalized_age = age / sqrt(age^2 + income^2)\n",
    "  normalized_income = income / sqrt(age^2 + income^2)\n",
    "  ```\n",
    "\n",
    "- For Min-Max Scaling:\n",
    "  ```\n",
    "  scaled_age = (age - 20) / (60 - 20)\n",
    "  scaled_income = (income - 20000) / (100000 - 20000)\n",
    "  ```\n",
    "\n",
    "Q3: **Principle Component Analysis (PCA)**:\n",
    "\n",
    "PCA is a dimensionality reduction technique used to transform high-dimensional data into a lower-dimensional space while preserving as much of the original data's variance as possible. It does this by identifying orthogonal axes (principal components) along which the data varies the most.\n",
    "\n",
    "Example:\n",
    "Consider a dataset of customer purchasing habits with features like total spending, number of items bought, and average transaction value. By applying PCA, you can reduce these features to a few principal components that capture the most significant variations in customer behavior.\n",
    "\n",
    "Q4: **Relationship between PCA and Feature Extraction**:\n",
    "\n",
    "PCA is a type of feature extraction technique that transforms the original features into a new set of uncorrelated features (principal components). These principal components are linear combinations of the original features and are ordered by the amount of variance they explain. PCA helps in reducing dimensionality while retaining as much information as possible.\n",
    "\n",
    "Example:\n",
    "In image processing, PCA can be used to extract features from images. Each pixel is treated as a feature, and PCA identifies the most important patterns (principal components) in the images. These patterns could represent edges, textures, or shapes, which can be used for various tasks like image compression or recognition.\n",
    "\n",
    "Q5: **Using Min-Max Scaling for Food Delivery Recommendation System**:\n",
    "\n",
    "In the food delivery recommendation system, features like price, rating, and delivery time might have different scales. By applying Min-Max scaling to these features, you ensure that they are on the same scale (e.g., 0 to 1), making them directly comparable and preventing one feature from dominating the others during modeling.\n",
    "\n",
    "Q6: **Using PCA for Stock Price Prediction**:\n",
    "\n",
    "In the stock price prediction project, you can use PCA to reduce the dimensionality of the dataset, which may contain a large number of features. PCA identifies the main components of variability in the dataset, allowing you to capture the most important information with fewer features. This can help prevent overfitting and improve the model's efficiency.\n",
    "\n",
    "Q7: **Min-Max Scaling for a Dataset**:\n",
    "\n",
    "Given the dataset [1, 5, 10, 15, 20], to transform the values to a range of -1 to 1 using Min-Max scaling:\n",
    "```\n",
    "scaled_value = 2 * (x - min) / (max - min) - 1\n",
    "```\n",
    "Scaled values: [-1, -0.5, 0, 0.5, 1]\n",
    "\n",
    "Q8: **Feature Extraction using PCA**:\n",
    "\n",
    "The number of principal components to retain depends on the amount of variance explained. You would typically choose a number that retains a significant portion of the total variance. For instance, if the first three principal components explain, say, 90% of the total variance, you might choose to retain those three components. The exact number can be determined by analyzing the cumulative explained variance plot."
   ]
  },
  {
   "cell_type": "code",
   "execution_count": null,
   "id": "a08d2771",
   "metadata": {},
   "outputs": [],
   "source": []
  }
 ],
 "metadata": {
  "kernelspec": {
   "display_name": "Python 3 (ipykernel)",
   "language": "python",
   "name": "python3"
  },
  "language_info": {
   "codemirror_mode": {
    "name": "ipython",
    "version": 3
   },
   "file_extension": ".py",
   "mimetype": "text/x-python",
   "name": "python",
   "nbconvert_exporter": "python",
   "pygments_lexer": "ipython3",
   "version": "3.9.13"
  }
 },
 "nbformat": 4,
 "nbformat_minor": 5
}
