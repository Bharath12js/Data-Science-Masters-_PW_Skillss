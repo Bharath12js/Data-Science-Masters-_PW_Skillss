{
 "cells": [
  {
   "cell_type": "markdown",
   "id": "32fd00b9",
   "metadata": {},
   "source": [
    "# INTRO TO ML 1"
   ]
  },
  {
   "cell_type": "markdown",
   "id": "7f92ce98",
   "metadata": {},
   "source": [
    "# QUESTIONS AND SOLUTIONS:"
   ]
  },
  {
   "cell_type": "markdown",
   "id": "12319265",
   "metadata": {},
   "source": [
    "Q1: Explain the following with an example:\n",
    "a) Artificial Intelligence\n",
    "b) Machine Learning\n",
    "c) Deep Learning\n",
    "\n",
    "**a) Artificial Intelligence (AI)**: Artificial Intelligence refers to the simulation of human intelligence in machines that are programmed to perform tasks that typically require human intelligence. AI systems can process information, learn from experience, and adapt to new inputs. For example, a voice-controlled virtual assistant like Siri or Google Assistant uses AI to understand and respond to user commands, schedule appointments, and provide information.\n",
    "\n",
    "**b) Machine Learning (ML)**: Machine Learning is a subset of AI that focuses on enabling machines to learn from data and improve their performance over time without being explicitly programmed. It involves algorithms that allow computers to identify patterns and make decisions based on data. For instance, a spam email filter learns to differentiate between spam and legitimate emails based on the user's behavior and feedback.\n",
    "\n",
    "**c) Deep Learning (DL)**: Deep Learning is a specialized branch of machine learning that involves artificial neural networks with multiple layers (deep architectures). These networks can automatically learn to represent complex patterns in data. An example of deep learning is image recognition, where a deep neural network can identify objects, people, or animals in images.\n",
    "\n",
    "Q2: What is supervised learning? List some examples of supervised learning.\n",
    "\n",
    "**Supervised Learning**: Supervised learning is a type of machine learning where the algorithm is trained on a labeled dataset, meaning the input data is paired with the corresponding desired output (target). The goal is to learn a mapping from inputs to outputs so that the algorithm can make predictions or classifications on new, unseen data.\n",
    "\n",
    "Examples of Supervised Learning:\n",
    "1. Image Classification: Identifying objects or animals in images (e.g., cat vs. dog).\n",
    "2. Sentiment Analysis: Determining the sentiment (positive/negative) of text or reviews.\n",
    "3. Regression: Predicting a continuous value, such as predicting house prices based on features.\n",
    "4. Spam Detection: Classifying emails as spam or not spam.\n",
    "5. Language Translation: Translating text from one language to another.\n",
    "6. Medical Diagnosis: Diagnosing diseases based on medical data and patient history.\n",
    "\n",
    "Q3: What is unsupervised learning? List some examples of unsupervised learning.\n",
    "\n",
    "**Unsupervised Learning**: Unsupervised learning is a type of machine learning where the algorithm is trained on an unlabeled dataset, and the goal is to find patterns, structures, or relationships in the data without explicit target labels.\n",
    "\n",
    "Examples of Unsupervised Learning:\n",
    "1. Clustering: Grouping similar data points together (e.g., customer segmentation).\n",
    "2. Dimensionality Reduction: Reducing the number of features while preserving important information (e.g., Principal Component Analysis).\n",
    "3. Anomaly Detection: Identifying unusual or anomalous data points in a dataset.\n",
    "4. Topic Modeling: Identifying topics or themes in a collection of documents.\n",
    "5. Recommender Systems: Suggesting products or content based on user preferences and behavior.\n",
    "\n",
    "Q4: What is the difference between AI, ML, DL, and DS?\n",
    "\n",
    "**Artificial Intelligence (AI)**: The broader field focused on creating machines that can simulate human intelligence and perform tasks that would normally require human intelligence.\n",
    "\n",
    "**Machine Learning (ML)**: A subset of AI that involves developing algorithms that can learn patterns from data and improve over time.\n",
    "\n",
    "**Deep Learning (DL)**: A subset of machine learning that uses neural networks with multiple layers to automatically learn representations from data.\n",
    "\n",
    "**Data Science (DS)**: The interdisciplinary field that involves extracting insights and knowledge from data using various techniques, including machine learning and statistical analysis.\n",
    "\n",
    "Q5: What are the main differences between supervised, unsupervised, and semi-supervised learning?\n",
    "\n",
    "**Supervised Learning**: Requires labeled training data with input-output pairs. The algorithm learns to map inputs to outputs and can make predictions on new data.\n",
    "\n",
    "**Unsupervised Learning**: Involves unlabeled data and focuses on finding patterns or structures within the data without explicit target labels.\n",
    "\n",
    "**Semi-Supervised Learning**: Utilizes a combination of labeled and unlabeled data for training. It can improve performance when labeled data is scarce.\n",
    "\n",
    "Q6: What is train, test, and validation split? Explain the importance of each term.\n",
    "\n",
    "**Train, Test, and Validation Split**: When building machine learning models, the dataset is often divided into three sets:\n",
    "\n",
    "1. Training Set: Used to train the model and learn patterns from the data.\n",
    "2. Validation Set: Used to fine-tune model hyperparameters and prevent overfitting.\n",
    "3. Test Set: Used to evaluate the model's performance on new, unseen data.\n",
    "\n",
    "Importance:\n",
    "- Training Set: Provides data for the model to learn from and adjust its parameters.\n",
    "- Validation Set: Helps tune hyperparameters and prevent overfitting by assessing model performance on data not seen during training.\n",
    "- Test Set: Measures the model's generalization performance on completely new data, providing an unbiased evaluation of its effectiveness.\n",
    "\n",
    "Q7: How can unsupervised learning be used in anomaly detection?\n",
    "\n",
    "Unsupervised learning can be used in anomaly detection by identifying patterns that deviate significantly from the norm in a dataset. Clustering algorithms can group normal data points together, and any data point that doesn't fit into any cluster may be considered an anomaly. Dimensionality reduction techniques can also help highlight anomalies by visualizing data in lower-dimensional space.\n",
    "\n",
    "Q8: List down some commonly used supervised learning algorithms and unsupervised learning algorithms.\n",
    "\n",
    "Common Supervised Learning Algorithms:\n",
    "1. Linear Regression\n",
    "2. Decision Trees\n",
    "3. Random Forest\n",
    "4. Support Vector Machines (SVM)\n",
    "5. K-Nearest Neighbors (KNN)\n",
    "6. Naive Bayes\n",
    "7. Neural Networks\n",
    "\n",
    "Common Unsupervised Learning Algorithms:\n",
    "1. K-Means Clustering\n",
    "2. Hierarchical Clustering\n",
    "3. Principal Component Analysis (PCA)\n",
    "4. Autoencoders\n",
    "5. Gaussian Mixture Models (GMM)\n",
    "6. t-Distributed Stochastic Neighbor Embedding (t-SNE)\n",
    "7. Self-Organizing Maps (SOM)"
   ]
  },
  {
   "cell_type": "markdown",
   "id": "c4ddf947",
   "metadata": {},
   "source": [
    "# ------------------------------------------------END---------------------------------"
   ]
  }
 ],
 "metadata": {
  "kernelspec": {
   "display_name": "Python 3 (ipykernel)",
   "language": "python",
   "name": "python3"
  },
  "language_info": {
   "codemirror_mode": {
    "name": "ipython",
    "version": 3
   },
   "file_extension": ".py",
   "mimetype": "text/x-python",
   "name": "python",
   "nbconvert_exporter": "python",
   "pygments_lexer": "ipython3",
   "version": "3.9.13"
  }
 },
 "nbformat": 4,
 "nbformat_minor": 5
}
