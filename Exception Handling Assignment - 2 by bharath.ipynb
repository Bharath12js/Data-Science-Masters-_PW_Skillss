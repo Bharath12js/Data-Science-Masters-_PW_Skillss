{
 "cells": [
  {
   "cell_type": "markdown",
   "id": "6fbe485e",
   "metadata": {},
   "source": [
    "# Exception Handling Assignment - 2"
   ]
  },
  {
   "cell_type": "markdown",
   "id": "dda3d909",
   "metadata": {},
   "source": [
    "**Q1. Explain why we have to use the Exception class while creating a Custom Exception.\n",
    "Note: Here Exception class refers to the base class for all the exceptions.**"
   ]
  },
  {
   "cell_type": "markdown",
   "id": "bfd94884",
   "metadata": {},
   "source": [
    "Solution:"
   ]
  },
  {
   "cell_type": "markdown",
   "id": "1ea7c712",
   "metadata": {},
   "source": [
    " Python, the Exception class serves as the base class for all built-in and user-defined exceptions. When creating a custom exception, it is recommended to inherit from the Exception class because it provides a consistent and standardized way to define and handle exceptions in Python.\n",
    "\n",
    "Few reasons why we use the Exception class as the base class for custom exceptions:\n",
    "\n",
    "**Inheritance of Exception Behavior**: By inheriting from the Exception class, the custom exception inherits all the behavior and functionality of the base class. This includes attributes, methods, and properties that are common to all exceptions in Python. It ensures that the custom exception is compatible with the exception handling mechanism and can be handled similarly to other exceptions.\n",
    "\n",
    "**Consistent Exception Hierarchy**: Inheriting from the Exception class ensures that the custom exception becomes part of the standard exception hierarchy in Python. This hierarchy allows for a clear organization and categorization of exceptions, making it easier to understand and handle different types of errors.\n",
    "\n",
    "**Interoperability with Exception Handling Mechanisms**: Python's exception handling mechanism is designed to work with the Exception class and its subclasses. By using the Exception class as the base class, the custom exception can seamlessly integrate with the existing exception handling constructs, such as try-except blocks, allowing for consistent and robust error handling in Python programs.\n",
    "\n",
    "**Compatibility with Built-in Exceptions**: Inheriting from the Exception class makes the custom exception compatible with the built-in exceptions in Python. This allows the custom exception to be caught alongside other exceptions using the same except block, making the exception handling code more concise and maintainable.\n",
    "\n",
    "**By using the Exception class as the base class for custom exceptions**, we ensure that the custom exception follows the established conventions and patterns for exceptions in Python. It provides compatibility, consistency, and interoperability within the Python exception handling framework, making it easier to create, handle, and maintain custom exceptions in Python code."
   ]
  },
  {
   "cell_type": "markdown",
   "id": "25db5f46",
   "metadata": {},
   "source": [
    "**Q2. Write a python program to print Python Exception Hierarchy.**"
   ]
  },
  {
   "cell_type": "markdown",
   "id": "cf85363b",
   "metadata": {},
   "source": [
    "Solution:"
   ]
  },
  {
   "cell_type": "code",
   "execution_count": 1,
   "id": "a4546e43",
   "metadata": {},
   "outputs": [
    {
     "name": "stdout",
     "output_type": "stream",
     "text": [
      "Python Exception Hierarchy:\n",
      "BaseException\n",
      "  Exception\n",
      "    TypeError\n",
      "      FloatOperation\n",
      "      MultipartConversionError\n",
      "    StopAsyncIteration\n",
      "    StopIteration\n",
      "    ImportError\n",
      "      ModuleNotFoundError\n",
      "      ZipImportError\n",
      "    OSError\n",
      "      ConnectionError\n",
      "        BrokenPipeError\n",
      "        ConnectionAbortedError\n",
      "        ConnectionRefusedError\n",
      "        ConnectionResetError\n",
      "          RemoteDisconnected\n",
      "      BlockingIOError\n",
      "      ChildProcessError\n",
      "      FileExistsError\n",
      "      FileNotFoundError\n",
      "      IsADirectoryError\n",
      "      NotADirectoryError\n",
      "      InterruptedError\n",
      "        InterruptedSystemCall\n",
      "      PermissionError\n",
      "      ProcessLookupError\n",
      "      TimeoutError\n",
      "      UnsupportedOperation\n",
      "      herror\n",
      "      gaierror\n",
      "      timeout\n",
      "      SSLError\n",
      "        SSLCertVerificationError\n",
      "        SSLZeroReturnError\n",
      "        SSLWantReadError\n",
      "        SSLWantWriteError\n",
      "        SSLSyscallError\n",
      "        SSLEOFError\n",
      "      Error\n",
      "        SameFileError\n",
      "      SpecialFileError\n",
      "      ExecError\n",
      "      ReadError\n",
      "      URLError\n",
      "        HTTPError\n",
      "        ContentTooShortError\n",
      "      BadGzipFile\n",
      "    EOFError\n",
      "      IncompleteReadError\n",
      "    RuntimeError\n",
      "      RecursionError\n",
      "      NotImplementedError\n",
      "        ZMQVersionError\n",
      "        StdinNotImplementedError\n",
      "      _DeadlockError\n",
      "      BrokenBarrierError\n",
      "      BrokenExecutor\n",
      "        BrokenThreadPool\n",
      "      SendfileNotAvailableError\n",
      "      ExtractionError\n",
      "      VariableError\n",
      "    NameError\n",
      "      UnboundLocalError\n",
      "    AttributeError\n",
      "      FrozenInstanceError\n",
      "    SyntaxError\n",
      "      IndentationError\n",
      "        TabError\n",
      "    LookupError\n",
      "      IndexError\n",
      "      KeyError\n",
      "        NoSuchKernel\n",
      "        UnknownBackend\n",
      "      CodecRegistryError\n",
      "    ValueError\n",
      "      UnicodeError\n",
      "        UnicodeEncodeError\n",
      "        UnicodeDecodeError\n",
      "        UnicodeTranslateError\n",
      "      UnsupportedOperation\n",
      "      JSONDecodeError\n",
      "      SSLCertVerificationError\n",
      "      Error\n",
      "      IllegalMonthError\n",
      "      IllegalWeekdayError\n",
      "      ParserError\n",
      "      ClassNotFound\n",
      "      ClipboardEmpty\n",
      "      MessageDefect\n",
      "        NoBoundaryInMultipartDefect\n",
      "        StartBoundaryNotFoundDefect\n",
      "        CloseBoundaryNotFoundDefect\n",
      "        FirstHeaderLineIsContinuationDefect\n",
      "        MisplacedEnvelopeHeaderDefect\n",
      "        MissingHeaderBodySeparatorDefect\n",
      "        MultipartInvariantViolationDefect\n",
      "        InvalidMultipartContentTransferEncodingDefect\n",
      "        UndecodableBytesDefect\n",
      "        InvalidBase64PaddingDefect\n",
      "        InvalidBase64CharactersDefect\n",
      "        InvalidBase64LengthDefect\n",
      "        HeaderDefect\n",
      "          InvalidHeaderDefect\n",
      "          HeaderMissingRequiredValue\n",
      "          NonPrintableDefect\n",
      "          ObsoleteHeaderDefect\n",
      "          NonASCIILocalPartDefect\n",
      "      MacroToEdit\n",
      "      InvalidFileException\n",
      "      UnequalIterablesError\n",
      "      InvalidVersion\n",
      "      _InvalidELFFileHeader\n",
      "      InvalidWheelFilename\n",
      "      InvalidSdistFilename\n",
      "      InvalidSpecifier\n",
      "      InvalidMarker\n",
      "      UndefinedComparison\n",
      "      UndefinedEnvironmentName\n",
      "      InvalidRequirement\n",
      "        RequirementParseError\n",
      "      InvalidVersion\n",
      "    AssertionError\n",
      "    ArithmeticError\n",
      "      FloatingPointError\n",
      "      OverflowError\n",
      "      ZeroDivisionError\n",
      "        DivisionByZero\n",
      "        DivisionUndefined\n",
      "      DecimalException\n",
      "        Clamped\n",
      "        Rounded\n",
      "          Underflow\n",
      "          Overflow\n",
      "        Inexact\n",
      "          Underflow\n",
      "          Overflow\n",
      "        Subnormal\n",
      "          Underflow\n",
      "        DivisionByZero\n",
      "        FloatOperation\n",
      "        InvalidOperation\n",
      "          ConversionSyntax\n",
      "          DivisionImpossible\n",
      "          DivisionUndefined\n",
      "          InvalidContext\n",
      "    SystemError\n",
      "      CodecRegistryError\n",
      "    ReferenceError\n",
      "    MemoryError\n",
      "    BufferError\n",
      "    Warning\n",
      "      UserWarning\n",
      "        GetPassWarning\n",
      "        FormatterWarning\n",
      "      DeprecationWarning\n",
      "        ProvisionalWarning\n",
      "      PendingDeprecationWarning\n",
      "      SyntaxWarning\n",
      "      RuntimeWarning\n",
      "        ProactorSelectorThreadWarning\n",
      "        UnknownTimezoneWarning\n",
      "        PEP440Warning\n",
      "      FutureWarning\n",
      "        ProvisionalCompleterWarning\n",
      "      ImportWarning\n",
      "      UnicodeWarning\n",
      "      BytesWarning\n",
      "      ResourceWarning\n",
      "      DeprecatedTzFormatWarning\n",
      "      PkgResourcesDeprecationWarning\n",
      "    Error\n",
      "    _OptionError\n",
      "    error\n",
      "    Verbose\n",
      "    _Error\n",
      "    SubprocessError\n",
      "      CalledProcessError\n",
      "      TimeoutExpired\n",
      "    TokenError\n",
      "    StopTokenizing\n",
      "    ClassFoundException\n",
      "    EndOfBlock\n",
      "    TraitError\n",
      "    Error\n",
      "    Error\n",
      "      CancelledError\n",
      "      TimeoutError\n",
      "      InvalidStateError\n",
      "    _GiveupOnSendfile\n",
      "    error\n",
      "    Incomplete\n",
      "    TimeoutError\n",
      "    InvalidStateError\n",
      "    LimitOverrunError\n",
      "    QueueEmpty\n",
      "    QueueFull\n",
      "    error\n",
      "    LZMAError\n",
      "    RegistryError\n",
      "    _GiveupOnFastCopy\n",
      "    Empty\n",
      "    Full\n",
      "    ZMQBaseError\n",
      "      ZMQError\n",
      "        ContextTerminated\n",
      "        Again\n",
      "        InterruptedSystemCall\n",
      "      ZMQBindError\n",
      "      NotDone\n",
      "    PickleError\n",
      "      PicklingError\n",
      "      UnpicklingError\n",
      "    _Stop\n",
      "    ArgumentError\n",
      "    ArgumentTypeError\n",
      "    ConfigError\n",
      "      ConfigLoaderError\n",
      "        ArgumentError\n",
      "      ConfigFileNotFound\n",
      "    ConfigurableError\n",
      "      MultipleInstanceError\n",
      "    ApplicationError\n",
      "    TimeoutError\n",
      "    COMError\n",
      "    ArgumentError\n",
      "    ReturnValueIgnoredError\n",
      "    KeyReuseError\n",
      "    UnknownKeyError\n",
      "    LeakedCallbackError\n",
      "    BadYieldError\n",
      "    ReturnValueIgnoredError\n",
      "    Return\n",
      "    InvalidPortNumber\n",
      "    NoIPAddresses\n",
      "    BadZipFile\n",
      "    LargeZipFile\n",
      "    Error\n",
      "      NoSectionError\n",
      "      DuplicateSectionError\n",
      "      DuplicateOptionError\n",
      "      NoOptionError\n",
      "      InterpolationError\n",
      "        InterpolationMissingOptionError\n",
      "        InterpolationSyntaxError\n",
      "        InterpolationDepthError\n",
      "      ParsingError\n",
      "        MissingSectionHeaderError\n",
      "    BadEntryPoint\n",
      "    NoSuchEntryPoint\n",
      "    DuplicateKernelError\n",
      "    ErrorDuringImport\n",
      "    BdbQuit\n",
      "    Restart\n",
      "    FindCmdError\n",
      "    HomeDirError\n",
      "    ProfileDirError\n",
      "    IPythonCoreError\n",
      "      TryNext\n",
      "      UsageError\n",
      "      StdinNotImplementedError\n",
      "    InputRejected\n",
      "    GetoptError\n",
      "    OptionError\n",
      "    ErrorToken\n",
      "    PrefilterError\n",
      "    AliasError\n",
      "      InvalidAliasError\n",
      "    Error\n",
      "      InterfaceError\n",
      "      DatabaseError\n",
      "        InternalError\n",
      "        OperationalError\n",
      "        ProgrammingError\n",
      "        IntegrityError\n",
      "        DataError\n",
      "        NotSupportedError\n",
      "    Warning\n",
      "    SpaceInInput\n",
      "    DOMException\n",
      "      IndexSizeErr\n",
      "      DomstringSizeErr\n",
      "      HierarchyRequestErr\n",
      "      WrongDocumentErr\n",
      "      InvalidCharacterErr\n",
      "      NoDataAllowedErr\n",
      "      NoModificationAllowedErr\n",
      "      NotFoundErr\n",
      "      NotSupportedErr\n",
      "      InuseAttributeErr\n",
      "      InvalidStateErr\n",
      "      SyntaxErr\n",
      "      InvalidModificationErr\n",
      "      NamespaceErr\n",
      "      InvalidAccessErr\n",
      "      ValidationErr\n",
      "    ValidationError\n",
      "    EditReadOnlyBuffer\n",
      "    _Retry\n",
      "    InvalidLayoutError\n",
      "    HeightIsUnknownError\n",
      "    ParserSyntaxError\n",
      "    InternalParseError\n",
      "    _PositionUpdatingFinished\n",
      "    SimpleGetItemNotFound\n",
      "    UncaughtAttributeError\n",
      "    HasNoContext\n",
      "    ParamIssue\n",
      "    _JediError\n",
      "      InternalError\n",
      "      WrongVersion\n",
      "      RefactoringError\n",
      "    OnErrorLeaf\n",
      "    InvalidPythonEnvironment\n",
      "    MessageError\n",
      "      MessageParseError\n",
      "        HeaderParseError\n",
      "        BoundaryError\n",
      "      MultipartConversionError\n",
      "      CharsetError\n",
      "    Error\n",
      "    HTTPException\n",
      "      NotConnected\n",
      "      InvalidURL\n",
      "      UnknownProtocol\n",
      "      UnknownTransferEncoding\n",
      "      UnimplementedFileMode\n",
      "      IncompleteRead\n",
      "      ImproperConnectionState\n",
      "        CannotSendRequest\n",
      "        CannotSendHeader\n",
      "        ResponseNotReady\n",
      "      BadStatusLine\n",
      "        RemoteDisconnected\n",
      "      LineTooLong\n",
      "    InteractivelyDefined\n",
      "    KillEmbedded\n",
      "    Error\n",
      "      NoSuchProcess\n",
      "        ZombieProcess\n",
      "      AccessDenied\n",
      "      TimeoutExpired\n",
      "    Error\n",
      "    TimeoutExpired\n",
      "    TimeoutAbandoned\n",
      "    QueueEmpty\n",
      "    QueueFull\n",
      "    ExpatError\n",
      "    Error\n",
      "      ProtocolError\n",
      "      ResponseError\n",
      "      Fault\n",
      "    error\n",
      "    com_error\n",
      "    internal_error\n",
      "    ParseBaseException\n",
      "      ParseException\n",
      "      ParseFatalException\n",
      "        ParseSyntaxException\n",
      "    RecursiveGrammarException\n",
      "    ResolutionError\n",
      "      VersionConflict\n",
      "        ContextualVersionConflict\n",
      "      DistributionNotFound\n",
      "      UnknownExtra\n",
      "    UnableToResolveVariableException\n",
      "    InvalidTypeInArgsException\n",
      "  GeneratorExit\n",
      "  SystemExit\n",
      "  KeyboardInterrupt\n",
      "  CancelledError\n",
      "  DebuggerInitializationError\n",
      "  AbortThread\n"
     ]
    }
   ],
   "source": [
    "#program that prints the Python Exception Hierarchy:\n",
    "def print_exception_hierarchy(exception_class, indent=0):\n",
    "    print(\"  \" * indent + exception_class.__name__)\n",
    "    for subclass in exception_class.__subclasses__():\n",
    "        print_exception_hierarchy(subclass, indent + 1)\n",
    "\n",
    "print(\"Python Exception Hierarchy:\")\n",
    "print_exception_hierarchy(BaseException)\n"
   ]
  },
  {
   "cell_type": "markdown",
   "id": "f5dfb030",
   "metadata": {},
   "source": [
    "In this program, we define a recursive function called print_exception_hierarchy that takes an exception_class parameter and an indent parameter (defaulted to 0). It prints the name of the given exception class and then recursively calls itself for each subclass of the exception class, incrementing the indent level by 1.\n",
    "\n",
    "The program starts by printing a header line indicating the Python Exception Hierarchy. Then, it calls the print_exception_hierarchy function with the base class BaseException, which is the root of the exception hierarchy in Python. This will traverse the entire hierarchy and print each exception class along with its subclasses.\n",
    "\n",
    "When you run this program, it will display the complete Python Exception Hierarchy, organized in a tree-like structure, with increasing indentation representing the hierarchy level. Each exception class is printed with its subclasses indented beneath it.\n",
    "\n",
    "Note that the Python Exception Hierarchy includes various built-in exception classes, such as Exception, TypeError, ValueError, IOError, etc., along with their subclasses."
   ]
  },
  {
   "cell_type": "markdown",
   "id": "3efdf1cc",
   "metadata": {},
   "source": [
    "**Q3. What errors are defined in the ArithmeticError class? Explain any two with an example.**"
   ]
  },
  {
   "cell_type": "markdown",
   "id": "af7f3ed2",
   "metadata": {},
   "source": [
    "Solution:"
   ]
  },
  {
   "cell_type": "markdown",
   "id": "0b8c2de8",
   "metadata": {},
   "source": [
    "The ArithmeticError class in Python is a base class for exceptions that occur during arithmetic operations. It serves as a superclass for specific arithmetic-related exceptions. Here are two common errors defined in the ArithmeticError class:\n",
    "\n",
    "**ZeroDivisionError**: This error occurs when an arithmetic operation attempts to divide a number by zero.\n",
    "\n",
    "Example:"
   ]
  },
  {
   "cell_type": "code",
   "execution_count": 2,
   "id": "8fdfb8e0",
   "metadata": {},
   "outputs": [
    {
     "name": "stdout",
     "output_type": "stream",
     "text": [
      "Error: Division by zero is not allowed.\n"
     ]
    }
   ],
   "source": [
    "a = 10\n",
    "b = 0\n",
    "try:\n",
    "    result = a / b\n",
    "except ZeroDivisionError:\n",
    "    print(\"Error: Division by zero is not allowed.\")\n"
   ]
  },
  {
   "cell_type": "markdown",
   "id": "fa45668e",
   "metadata": {},
   "source": [
    "**OverflowError**: This error occurs when the result of an arithmetic operation exceeds the maximum representable value for a numeric type.\n",
    "\n",
    "Example:"
   ]
  },
  {
   "cell_type": "code",
   "execution_count": 3,
   "id": "d273beb2",
   "metadata": {},
   "outputs": [],
   "source": [
    "import sys\n",
    "a = sys.maxsize\n",
    "b = 2\n",
    "try:\n",
    "    result = a * b\n",
    "except OverflowError:\n",
    "    print(\"Error: Result exceeds maximum representable value.\")\n"
   ]
  },
  {
   "cell_type": "markdown",
   "id": "db856e78",
   "metadata": {},
   "source": [
    "Both ZeroDivisionError and OverflowError are subclasses of ArithmeticError. By catching these specific exceptions, you can handle arithmetic-related errors in a more targeted and appropriate manner, providing informative error messages or performing alternative actions as needed."
   ]
  },
  {
   "cell_type": "markdown",
   "id": "e72fcd4a",
   "metadata": {},
   "source": [
    "**Q4. Why LookupError class is used? Explain with an example KeyError and IndexError.**"
   ]
  },
  {
   "cell_type": "markdown",
   "id": "e0669afd",
   "metadata": {},
   "source": [
    "Solution:"
   ]
  },
  {
   "cell_type": "markdown",
   "id": "460ddaef",
   "metadata": {},
   "source": [
    "The LookupError class in Python is a base class for exceptions that occur when a lookup or indexing operation fails. It serves as a superclass for more specific lookup-related exceptions, such as KeyError and IndexError. The purpose of using the LookupError class is to provide a common base for handling lookup-related errors and to allow for more specific error handling as needed.\n",
    "\n",
    "Here are two examples of exceptions that are subclasses of LookupError:\n",
    "\n",
    "**KeyError**: This exception occurs when a dictionary key or a set element is not found during a lookup operation.\n",
    "\n",
    "Example:"
   ]
  },
  {
   "cell_type": "code",
   "execution_count": 5,
   "id": "93bb4181",
   "metadata": {},
   "outputs": [
    {
     "name": "stdout",
     "output_type": "stream",
     "text": [
      "Error: Key not found in dictionary.\n"
     ]
    }
   ],
   "source": [
    "my_dict = {\"name\": \"John\", \"age\": 25}\n",
    "try:\n",
    "    value = my_dict[\"gender\"]\n",
    "except KeyError:\n",
    "    print(\"Error: Key not found in dictionary.\")\n"
   ]
  },
  {
   "cell_type": "markdown",
   "id": "0a12d636",
   "metadata": {},
   "source": [
    "**IndexError**: This exception occurs when a sequence (such as a list, tuple, or string) is accessed with an invalid index or slice.\n",
    "\n",
    "Example:"
   ]
  },
  {
   "cell_type": "code",
   "execution_count": 6,
   "id": "ad4e1478",
   "metadata": {},
   "outputs": [
    {
     "name": "stdout",
     "output_type": "stream",
     "text": [
      "Error: Index out of range.\n"
     ]
    }
   ],
   "source": [
    "my_list = [1, 2, 3]\n",
    "try:\n",
    "    value = my_list[3]\n",
    "except IndexError:\n",
    "    print(\"Error: Index out of range.\")\n"
   ]
  },
  {
   "cell_type": "markdown",
   "id": "e009adf5",
   "metadata": {},
   "source": [
    "By using the LookupError class as a common base class, you can handle lookup-related errors in a generalized manner. If you need to handle more specific lookup errors, such as KeyError or IndexError, you can catch those exceptions separately and provide tailored error handling or recovery logic based on the specific error encountered."
   ]
  },
  {
   "cell_type": "markdown",
   "id": "12ecb6f1",
   "metadata": {},
   "source": [
    "**Q5. Explain ImportError. What is ModuleNotFoundError?**"
   ]
  },
  {
   "cell_type": "markdown",
   "id": "6e03c89b",
   "metadata": {},
   "source": [
    "Solution:"
   ]
  },
  {
   "cell_type": "markdown",
   "id": "918d1f99",
   "metadata": {},
   "source": [
    "ImportError and ModuleNotFoundError are both exceptions related to importing modules in Python. Let's explain each of them:\n",
    "\n",
    "**ImportError**: ImportError is an exception that occurs when an imported module cannot be found or loaded. It is a base class for various import-related exceptions. It can be raised for several reasons, such as if the module name is misspelled, the module does not exist, or there is an issue with the module's dependencies.\n",
    "\n",
    "Example:"
   ]
  },
  {
   "cell_type": "code",
   "execution_count": 9,
   "id": "cf3c3ecb",
   "metadata": {},
   "outputs": [
    {
     "name": "stdout",
     "output_type": "stream",
     "text": [
      "Error: Module not found or cannot be imported.\n"
     ]
    }
   ],
   "source": [
    "try:\n",
    "    import non_existent_module\n",
    "except ImportError:\n",
    "    print(\"Error: Module not found or cannot be imported.\")\n"
   ]
  },
  {
   "cell_type": "markdown",
   "id": "5d4b7673",
   "metadata": {},
   "source": [
    "**ModuleNotFoundError**: ModuleNotFoundError is a subclass of ImportError introduced in Python 3.6. It specifically indicates that the requested module cannot be found. It provides a more specific error message to indicate that the module itself, not just the import process, is not found.\n",
    "\n",
    "Example:"
   ]
  },
  {
   "cell_type": "code",
   "execution_count": 10,
   "id": "237b4967",
   "metadata": {},
   "outputs": [
    {
     "name": "stdout",
     "output_type": "stream",
     "text": [
      "Error: Module not found.\n"
     ]
    }
   ],
   "source": [
    "try:\n",
    "    import non_existent_module\n",
    "except ModuleNotFoundError:\n",
    "    print(\"Error: Module not found.\")\n"
   ]
  },
  {
   "cell_type": "markdown",
   "id": "f03e0ea4",
   "metadata": {},
   "source": [
    "Both exceptions can occur during the import process, and they are caught similarly using try-except blocks. By handling these exceptions, you can gracefully handle scenarios where modules are missing or cannot be imported, providing appropriate error handling or fallback mechanisms in your code.\n",
    "\n",
    "\n",
    "\n",
    "\n"
   ]
  },
  {
   "cell_type": "markdown",
   "id": "5be33256",
   "metadata": {},
   "source": [
    "**Q6. List down some best practices for exception handling in python.**"
   ]
  },
  {
   "cell_type": "markdown",
   "id": "f833cc56",
   "metadata": {},
   "source": [
    "Solution:"
   ]
  },
  {
   "cell_type": "markdown",
   "id": "eda649eb",
   "metadata": {},
   "source": [
    "**Some of the best practices for exception handling in Python:**\n",
    "\n",
    "Be specific in exception handling.\n",
    "\n",
    "Use multiple except blocks.\n",
    "\n",
    "Avoid bare except clauses.\n",
    "\n",
    "Use finally blocks for cleanup code.\n",
    "\n",
    "Avoid swallowing exceptions.\n",
    "\n",
    "Use context managers.\n",
    "\n",
    "Log exceptions.\n",
    "\n",
    "Avoid silent failures.\n",
    "\n",
    "Use custom exceptions.\n",
    "\n",
    "Keep exception handling simple."
   ]
  },
  {
   "cell_type": "markdown",
   "id": "4ffbe743",
   "metadata": {},
   "source": [
    "# -------------------------------------------------END-------------------------------------------------------"
   ]
  }
 ],
 "metadata": {
  "kernelspec": {
   "display_name": "Python 3 (ipykernel)",
   "language": "python",
   "name": "python3"
  },
  "language_info": {
   "codemirror_mode": {
    "name": "ipython",
    "version": 3
   },
   "file_extension": ".py",
   "mimetype": "text/x-python",
   "name": "python",
   "nbconvert_exporter": "python",
   "pygments_lexer": "ipython3",
   "version": "3.9.13"
  }
 },
 "nbformat": 4,
 "nbformat_minor": 5
}
