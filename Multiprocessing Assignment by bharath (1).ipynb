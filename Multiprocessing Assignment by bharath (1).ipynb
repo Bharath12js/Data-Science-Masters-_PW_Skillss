{
 "cells": [
  {
   "cell_type": "markdown",
   "id": "9745b24f",
   "metadata": {},
   "source": [
    "# Multiprocessing Assignment"
   ]
  },
  {
   "cell_type": "markdown",
   "id": "3e537a98",
   "metadata": {},
   "source": [
    "**Q1. What is multiprocessing in python? Why is it useful?**"
   ]
  },
  {
   "cell_type": "markdown",
   "id": "da246a09",
   "metadata": {},
   "source": [
    "Solution:"
   ]
  },
  {
   "cell_type": "markdown",
   "id": "a4f290eb",
   "metadata": {},
   "source": [
    "Multiprocessing in Python refers to the ability to run multiple processes simultaneously, utilizing multiple CPU cores or processors. It involves creating and managing multiple processes instead of multiple threads. Each process has its memory space, allowing for true parallel execution of tasks.\n",
    "\n",
    "Multiprocessing is useful for the following reasons:\n",
    "\n",
    "Increased Performance: By utilizing multiple processes, multiprocessing takes advantage of the available CPU cores, enabling parallel execution of tasks. This can significantly improve the performance and speed of CPU-bound or computationally intensive tasks.\n",
    "\n",
    "Improved Responsiveness: Multiprocessing helps maintain the responsiveness of an application by distributing the workload across multiple processes. This ensures that long-running or blocking operations in one process do not affect the responsiveness of the main program or other processes.\n",
    "\n",
    "Enhanced Resource Utilization: Since each process has its own memory space, multiprocessing allows efficient utilization of system resources. It enables better utilization of CPU cores and can effectively utilize more system memory compared to multithreading.\n",
    "\n",
    "Avoiding Global Interpreter Lock (GIL): Python's Global Interpreter Lock (GIL) limits the execution of Python threads to a single core at a time, preventing true parallelism. Multiprocessing bypasses the GIL as each process has its own Python interpreter instance, allowing for true parallel execution.\n",
    "\n",
    "Isolation and Fault Tolerance: Each process in multiprocessing is isolated, meaning that a crash or exception in one process does not affect the others. This enhances fault tolerance and improves the overall stability of the application"
   ]
  },
  {
   "cell_type": "markdown",
   "id": "0eac517c",
   "metadata": {},
   "source": [
    "**Q2. What are the differences between multiprocessing and multithreading?**\n",
    "\n",
    "\n",
    "\n",
    "\n",
    "\n",
    "Solution:"
   ]
  },
  {
   "cell_type": "markdown",
   "id": "f61f9b61",
   "metadata": {},
   "source": [
    "The differences between multiprocessing and multithreading are as follows:\n",
    "\n",
    "Execution Model: In multiprocessing, multiple processes are created and executed concurrently. Each process has its own memory space and runs independently. In multithreading, multiple threads are created within a single process, and they share the same memory space. Threads are lighter-weight than processes and are scheduled by the operating system.\n",
    "\n",
    "Parallelism: Multiprocessing enables true parallelism by utilizing multiple CPU cores. Each process can be executed on a separate core, allowing for simultaneous execution. Multithreading, on the other hand, can only achieve concurrency, not true parallelism, due to the Global Interpreter Lock (GIL) in Python. Threads are executed in an interleaved manner, and only one thread can execute Python bytecode at a time.\n",
    "\n",
    "Resource Usage: Multiprocessing typically utilizes more system resources compared to multithreading. Each process has its own memory space, requiring additional memory for process creation and communication between processes. Multithreading, on the other hand, shares the same memory space, leading to more efficient memory usage.\n",
    "\n",
    "Communication and Synchronization: Communication between processes in multiprocessing requires explicit mechanisms such as inter-process communication (IPC), message passing, or shared memory. Synchronization between processes is also more complex. In multithreading, communication and synchronization are simpler since threads share the same memory space and can directly access shared data. Synchronization mechanisms like locks, semaphores, and condition variables are used for thread coordination.\n",
    "\n",
    "Fault Isolation: In multiprocessing, each process runs in its own memory space, providing isolation between processes. If one process crashes, it does not affect others. In multithreading, a crash or exception in one thread can potentially impact the entire process since threads share the same memory space.\n",
    "\n",
    "Programming Complexity: Multiprocessing involves managing separate processes, inter-process communication, and synchronization, which can be more complex compared to multithreading. Multithreading, while still requiring proper synchronization, is generally considered less complex since threads share the same memory space and have lighter-weight overhead.\n",
    "\n",
    "**Choosing between multiprocessing and multithreading depends on the nature of the task, the level of parallelism required, the resources available, and considerations such as communication complexity and fault isolation. Multiprocessing is suitable for CPU-bound tasks that benefit from true parallelism, while multithreading is often used for I/O-bound tasks, GUI applications, and situations where GIL limitations are not a concern.**"
   ]
  },
  {
   "cell_type": "markdown",
   "id": "6d6bd7b8",
   "metadata": {},
   "source": [
    "**Q3. Write a python code to create a process using the multiprocessing module.**"
   ]
  },
  {
   "cell_type": "markdown",
   "id": "2a53b05e",
   "metadata": {},
   "source": [
    "Solution:"
   ]
  },
  {
   "cell_type": "code",
   "execution_count": 4,
   "id": "851babb5",
   "metadata": {},
   "outputs": [
    {
     "name": "stdout",
     "output_type": "stream",
     "text": [
      "The process has completed\n"
     ]
    }
   ],
   "source": [
    "import multiprocessing\n",
    "\n",
    "def my_process():\n",
    "    # Code to be executed in the process\n",
    "    print(\"This is a child process\")\n",
    "\n",
    "if __name__ == '__main__':\n",
    "    # Create a new process\n",
    "    process = multiprocessing.Process(target=my_process)\n",
    "    \n",
    "    # Start the process\n",
    "    process.start()\n",
    "    \n",
    "    # Wait for the process to finish\n",
    "    process.join()\n",
    "    \n",
    "    # Print a message after the process has finished\n",
    "    print(\"The process has completed\")\n"
   ]
  },
  {
   "cell_type": "markdown",
   "id": "453f522f",
   "metadata": {},
   "source": [
    "****NOTE:The multiprocessing module does not work as expected within Jupyter Notebook due to its architecture and limitations****"
   ]
  },
  {
   "cell_type": "markdown",
   "id": "eddda9a1",
   "metadata": {},
   "source": [
    "**However, if you are running the code outside of Jupyter Notebook, you should see the output \"This is a child process\" when executing the code.**"
   ]
  },
  {
   "cell_type": "markdown",
   "id": "57efcc9f",
   "metadata": {},
   "source": [
    "**Q4.What is a multiprocessing pool in python? Why is it used?**"
   ]
  },
  {
   "cell_type": "markdown",
   "id": "efed1e31",
   "metadata": {},
   "source": [
    "Solution:"
   ]
  },
  {
   "cell_type": "markdown",
   "id": "91e4cb0c",
   "metadata": {},
   "source": [
    "In Python, a **multiprocessing pool** refers to a feature provided by the multiprocessing module called a \"pool of worker processes.\" It allows you to create a group of worker processes that can execute tasks in parallel.\n",
    "\n",
    "The multiprocessing pool is used to distribute the workload across multiple processes, thereby leveraging the power of multiple CPU cores or processors. It provides a convenient way to parallelize the execution of a function across a large dataset or multiple independent tasks.\n",
    "\n",
    "The main benefits of using a multiprocessing pool are:\n",
    "\n",
    "Parallel Execution: The pool allows you to execute multiple tasks concurrently, taking advantage of the available CPU cores. This can significantly speed up the execution time for CPU-bound tasks.\n",
    "\n",
    "Simplified API: The pool abstracts away the complexities of managing individual processes, allowing you to focus on defining the task and its inputs. It provides a simple and high-level API to submit tasks for parallel execution.\n",
    "\n",
    "Resource Management: The pool automatically manages the creation, maintenance, and termination of worker processes, relieving you from the burden of manually managing the processes.\n",
    "\n",
    "Here's a high-level overview of how a multiprocessing pool works:\n",
    "\n",
    "You create a pool of worker processes using the multiprocessing.Pool class, specifying the desired number of worker processes (the default is the number of CPU cores).\n",
    "\n",
    "You submit tasks to the pool using the apply(), map(), or imap() methods. These methods distribute the tasks among the worker processes, which execute them in parallel.\n",
    "\n",
    "The pool manages the allocation of tasks to available worker processes and handles the communication between the parent process and worker processes.\n",
    "\n",
    "Once all the tasks are completed, the pool automatically terminates the worker processes, and the main program can continue with the next steps."
   ]
  },
  {
   "cell_type": "markdown",
   "id": "480b1447",
   "metadata": {},
   "source": [
    "**In summary, the multiprocessing pool** is used to achieve parallel execution of tasks, leveraging multiple processes to improve performance and reduce execution time. It simplifies the process of parallel programming by providing a higher-level interface for managing and distributing tasks across multiple processes."
   ]
  },
  {
   "cell_type": "markdown",
   "id": "42cda9cf",
   "metadata": {},
   "source": [
    "**Q5. How can we create a pool of worker processes in python using the multiprocessing module?**"
   ]
  },
  {
   "cell_type": "markdown",
   "id": "40d670f6",
   "metadata": {},
   "source": [
    "Solution:"
   ]
  },
  {
   "cell_type": "markdown",
   "id": "767a5310",
   "metadata": {},
   "source": [
    "In Python, you can create a pool of worker processes using the multiprocessing module's Pool class. The Pool class provides a convenient way to parallelize the execution of tasks across multiple processes. Here's how you can create a pool of worker processes:\n",
    "\n",
    "* Import the multiprocessing module\n",
    "\n",
    "\n",
    "* Create a Pool object. The Pool object will represent the pool of worker processes.\n",
    "\n",
    "\n",
    "* Specify the number of worker processes that you want to create. The default number of worker processes is equal to the number of logical CPU cores in your system.\n",
    "\n",
    "\n",
    "* Submit tasks to the Pool object. The Pool object has a submit() method that you can use to submit tasks to the pool of worker processes.\n",
    "\n",
    "\n",
    "* Wait for the tasks to complete. The Pool object has a close() method that you can use to signal the worker processes to stop executing tasks. The Pool object also has a join() method that you can use to wait for all of the tasks to complete before continuing execution.\n"
   ]
  },
  {
   "cell_type": "markdown",
   "id": "f40ba86a",
   "metadata": {},
   "source": [
    "**Q6. Write a python program to create 4 processes, each process should print a different number using the\n",
    "multiprocessing module in python.**"
   ]
  },
  {
   "cell_type": "markdown",
   "id": "56ab5c1f",
   "metadata": {},
   "source": [
    "Solution:"
   ]
  },
  {
   "cell_type": "code",
   "execution_count": 1,
   "id": "d963c295",
   "metadata": {},
   "outputs": [],
   "source": [
    "import multiprocessing\n",
    "\n",
    "def print_number(num):\n",
    "    # Function to print a number\n",
    "    print(\"Process ID:\", multiprocessing.current_process().pid)\n",
    "    print(\"Number:\", num)\n",
    "\n",
    "if __name__ == '__main__':\n",
    "    # Create a list of numbers\n",
    "    numbers = [1, 2, 3, 4]\n",
    "    \n",
    "    # Create a list to store the processes\n",
    "    processes = []\n",
    "    \n",
    "    # Create and start a process for each number\n",
    "    for number in numbers:\n",
    "        process = multiprocessing.Process(target=print_number, args=(number,))\n",
    "        processes.append(process)\n",
    "        process.start()\n",
    "    \n",
    "    # Wait for all the processes to finish\n",
    "    for process in processes:\n",
    "        process.join()\n"
   ]
  },
  {
   "cell_type": "markdown",
   "id": "7e98e26b",
   "metadata": {},
   "source": [
    "The expected output when running:\n",
    "\n",
    "Process ID: <process_id_1>\n",
    "Number: 1\n",
    "\n",
    "Process ID: <process_id_2>\n",
    "Number: 2\n",
    "\n",
    "Process ID: <process_id_3>\n",
    "Number: 3\n",
    "\n",
    "Process ID: <process_id_4>\n",
    "Number: 4\n"
   ]
  },
  {
   "cell_type": "markdown",
   "id": "b23c0b6b",
   "metadata": {},
   "source": [
    "When you run this program, you should see the output with the process IDs and the corresponding numbers, like this:"
   ]
  },
  {
   "cell_type": "markdown",
   "id": "f50d45c8",
   "metadata": {},
   "source": [
    "    Process ID: <process_id>\n",
    "\n",
    "    Number: <number>\n",
    "\n",
    "    Process ID: <process_id>\n",
    "\n",
    "    Number: <number>\n",
    "...\n"
   ]
  },
  {
   "cell_type": "markdown",
   "id": "d6ce2c3a",
   "metadata": {},
   "source": [
    "# -----------------------------------------------------END----------------------------------------------------"
   ]
  }
 ],
 "metadata": {
  "kernelspec": {
   "display_name": "Python 3 (ipykernel)",
   "language": "python",
   "name": "python3"
  },
  "language_info": {
   "codemirror_mode": {
    "name": "ipython",
    "version": 3
   },
   "file_extension": ".py",
   "mimetype": "text/x-python",
   "name": "python",
   "nbconvert_exporter": "python",
   "pygments_lexer": "ipython3",
   "version": "3.9.13"
  }
 },
 "nbformat": 4,
 "nbformat_minor": 5
}
