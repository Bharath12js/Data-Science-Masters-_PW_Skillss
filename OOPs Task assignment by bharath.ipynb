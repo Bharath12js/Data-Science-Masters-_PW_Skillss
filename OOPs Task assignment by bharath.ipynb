{
 "cells": [
  {
   "cell_type": "markdown",
   "id": "ea3c87aa",
   "metadata": {},
   "source": [
    "# OOPs TASK ASSIGNMENT"
   ]
  },
  {
   "cell_type": "markdown",
   "id": "ed70aace",
   "metadata": {},
   "source": [
    "**Q1.Create a vehicle class with an init method having instance variables as name_of_vehicle, max_speed\n",
    "and average_of_vehicle.**"
   ]
  },
  {
   "cell_type": "markdown",
   "id": "7a97613b",
   "metadata": {},
   "source": [
    "Solution:"
   ]
  },
  {
   "cell_type": "code",
   "execution_count": 2,
   "id": "85385686",
   "metadata": {},
   "outputs": [],
   "source": [
    "\n",
    "class Vehicle:\n",
    "    def __init__(self, name_of_vehicle, max_speed, average_of_vehicle):\n",
    "        self.name_of_vehicle = name_of_vehicle\n",
    "        self.max_speed = max_speed\n",
    "        self.average_of_vehicle = average_of_vehicle\n"
   ]
  },
  {
   "cell_type": "markdown",
   "id": "b4804978",
   "metadata": {},
   "source": [
    "In the above code, the __init__ method is a special method in Python classes that is automatically called when a new object is created. It takes the self parameter, which refers to the instance of the class being created, and the other parameters name_of_vehicle, max_speed, and average_of_vehicle."
   ]
  },
  {
   "cell_type": "markdown",
   "id": "1ff42f16",
   "metadata": {},
   "source": [
    "**Q2. Create a child class car from the vehicle class created in Que 1, which will inherit the vehicle class.\n",
    "Create a method named seating_capacity which takes capacity as an argument and returns the name of\n",
    "the vehicle and its seating capacity.**"
   ]
  },
  {
   "cell_type": "markdown",
   "id": "17d29730",
   "metadata": {},
   "source": [
    "Solution:"
   ]
  },
  {
   "cell_type": "code",
   "execution_count": 3,
   "id": "5da4a869",
   "metadata": {},
   "outputs": [],
   "source": [
    "class Car(Vehicle):\n",
    "    def seating_capacity(self, capacity):\n",
    "        return f\"The {self.name_of_vehicle} has a seating capacity of {capacity} people.\"\n"
   ]
  },
  {
   "cell_type": "markdown",
   "id": "0661a767",
   "metadata": {},
   "source": [
    "In the code above, the Car class is defined with Vehicle specified in parentheses, indicating that it inherits from the Vehicle class. The seating_capacity method takes the capacity as an argument and returns a string that includes the name of the vehicle and its seating capacity.\n",
    "\n",
    "To create an instance of the Car class and call the seating_capacity method, you can do the following:"
   ]
  },
  {
   "cell_type": "code",
   "execution_count": 4,
   "id": "70056cd1",
   "metadata": {},
   "outputs": [
    {
     "name": "stdout",
     "output_type": "stream",
     "text": [
      "The Tesla Model S has a seating capacity of 4 people.\n"
     ]
    }
   ],
   "source": [
    "car = Car(\"Tesla Model S\", 250, 180)\n",
    "print(car.seating_capacity(4))\n"
   ]
  },
  {
   "cell_type": "markdown",
   "id": "19bba3ac",
   "metadata": {},
   "source": [
    "**Q3. What is multiple inheritance? Write a python code to demonstrate multiple inheritance.**"
   ]
  },
  {
   "cell_type": "markdown",
   "id": "3ed5b9a3",
   "metadata": {},
   "source": [
    "Solution:"
   ]
  },
  {
   "cell_type": "markdown",
   "id": "ea8b96ac",
   "metadata": {},
   "source": [
    "Multiple inheritance is a feature in object-oriented programming where a class can inherit attributes and behaviors from multiple parent classes. This means that a child class can inherit from more than one parent class, allowing it to access and use the methods and attributes defined in each parent class.\n",
    "\n",
    "Here's an example of a Python code that demonstrates multiple inheritance:"
   ]
  },
  {
   "cell_type": "code",
   "execution_count": 6,
   "id": "647c1e59",
   "metadata": {},
   "outputs": [
    {
     "name": "stdout",
     "output_type": "stream",
     "text": [
      "Sparrow is eating.\n",
      "Chirping...\n",
      "Flying...\n"
     ]
    }
   ],
   "source": [
    "class Animal:\n",
    "    def __init__(self, name):\n",
    "        self.name = name\n",
    "\n",
    "    def eat(self):\n",
    "        print(f\"{self.name} is eating.\")\n",
    "\n",
    "\n",
    "class Flyable:\n",
    "    def fly(self):\n",
    "        print(\"Flying...\")\n",
    "\n",
    "\n",
    "class Bird(Animal, Flyable):\n",
    "    def __init__(self, name):\n",
    "        super().__init__(name)\n",
    "\n",
    "    def chirp(self):\n",
    "        print(\"Chirping...\")\n",
    "\n",
    "\n",
    "bird = Bird(\"Sparrow\")\n",
    "bird.eat()   # Output: Sparrow is eating.\n",
    "bird.chirp() # Output: Chirping...\n",
    "bird.fly()   # Output: Flying...\n"
   ]
  },
  {
   "cell_type": "markdown",
   "id": "b5ee1945",
   "metadata": {},
   "source": [
    "**Q4. What are getter and setter in python? Create a class and create a getter and a setter method in this\n",
    "class.**"
   ]
  },
  {
   "cell_type": "markdown",
   "id": "f271bb5c",
   "metadata": {},
   "source": [
    "Solution:"
   ]
  },
  {
   "cell_type": "markdown",
   "id": "f927e2de",
   "metadata": {},
   "source": [
    "In Python, getters and setters are methods used to access and modify the attributes (or properties) of a class. They provide a way to encapsulate the access and modification of class attributes, allowing for better control and validation.\n",
    "\n",
    "A getter method, also known as an accessor method, is used to retrieve the value of an attribute. It usually has the prefix get_ followed by the attribute name. Getter methods are defined using the @property decorator in Python.\n",
    "\n",
    "A setter method, also known as a mutator method, is used to modify the value of an attribute. It usually has the prefix set_ followed by the attribute name. Setter methods are defined using the @<attribute_name>.setter decorator in Python.\n",
    "\n",
    "Here's an example of a Python class that demonstrates the use of a getter and a setter method:"
   ]
  },
  {
   "cell_type": "code",
   "execution_count": 7,
   "id": "926f38f0",
   "metadata": {},
   "outputs": [
    {
     "name": "stdout",
     "output_type": "stream",
     "text": [
      "Alice\n",
      "Bob\n"
     ]
    }
   ],
   "source": [
    "class Person:\n",
    "    def __init__(self, name):\n",
    "        self._name = name\n",
    "\n",
    "    @property\n",
    "    def name(self):\n",
    "        return self._name\n",
    "\n",
    "    @name.setter\n",
    "    def name(self, new_name):\n",
    "        self._name = new_name\n",
    "\n",
    "person = Person(\"Alice\")\n",
    "print(person.name)  # Output: Alice\n",
    "\n",
    "person.name = \"Bob\"\n",
    "print(person.name)  # Output: Bob\n"
   ]
  },
  {
   "cell_type": "markdown",
   "id": "2d5a05b1",
   "metadata": {},
   "source": [
    "In the code above, the Person class has a private attribute _name. The getter method name uses the @property decorator and returns the value of _name. The setter method name uses the @name.setter decorator and allows assigning a new value to _name.\n",
    "\n",
    "In the example, we create an instance of the Person class named person with the name \"Alice\". We can access the name attribute using the getter method person.name, which returns the value \"Alice\". We can also modify the name attribute using the setter method person.name = \"Bob\", which changes the value of _name to \"Bob\".\n",
    "\n",
    "By using getters and setters, we can control how the attributes are accessed and modified, perform validations or calculations if needed, and ensure better encapsulation of class attributes"
   ]
  },
  {
   "cell_type": "markdown",
   "id": "c6e01cb6",
   "metadata": {},
   "source": [
    "**Q5.What is method overriding in python? Write a python code to demonstrate method overriding.**"
   ]
  },
  {
   "cell_type": "markdown",
   "id": "15486780",
   "metadata": {},
   "source": [
    "Solution:"
   ]
  },
  {
   "cell_type": "markdown",
   "id": "f44ec59c",
   "metadata": {},
   "source": [
    "Method overriding is a feature in object-oriented programming where a child class provides its own implementation of a method that is already defined in its parent class. The overridden method in the child class has the same name and parameters as the method in the parent class, but it provides a different implementation to suit the specific behavior of the child class.\n",
    "\n",
    "Here's an example of Python code that demonstrates method overriding:"
   ]
  },
  {
   "cell_type": "code",
   "execution_count": 8,
   "id": "e5bf7c03",
   "metadata": {},
   "outputs": [
    {
     "name": "stdout",
     "output_type": "stream",
     "text": [
      "Animal makes a sound.\n",
      "Dog barks.\n"
     ]
    }
   ],
   "source": [
    "class Animal:\n",
    "    def sound(self):\n",
    "        print(\"Animal makes a sound.\")\n",
    "\n",
    "\n",
    "class Dog(Animal):\n",
    "    def sound(self):\n",
    "        print(\"Dog barks.\")\n",
    "\n",
    "\n",
    "animal = Animal()\n",
    "animal.sound()  # Output: Animal makes a sound.\n",
    "\n",
    "dog = Dog()\n",
    "dog.sound()     # Output: Dog barks.\n"
   ]
  },
  {
   "cell_type": "markdown",
   "id": "1353a4f4",
   "metadata": {},
   "source": [
    "Method overriding allows child classes to define their own specific behaviors while still maintaining the inheritance relationship with the parent class. It provides flexibility and customization in object-oriented programming."
   ]
  },
  {
   "cell_type": "markdown",
   "id": "0c189ca1",
   "metadata": {},
   "source": [
    "# ---------------------------------------------------END---------------------------------------------------"
   ]
  }
 ],
 "metadata": {
  "kernelspec": {
   "display_name": "Python 3 (ipykernel)",
   "language": "python",
   "name": "python3"
  },
  "language_info": {
   "codemirror_mode": {
    "name": "ipython",
    "version": 3
   },
   "file_extension": ".py",
   "mimetype": "text/x-python",
   "name": "python",
   "nbconvert_exporter": "python",
   "pygments_lexer": "ipython3",
   "version": "3.9.13"
  }
 },
 "nbformat": 4,
 "nbformat_minor": 5
}
