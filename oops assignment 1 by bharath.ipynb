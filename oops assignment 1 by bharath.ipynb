{
 "cells": [
  {
   "cell_type": "markdown",
   "id": "d120043b",
   "metadata": {},
   "source": [
    "# OOPS ASSIGNMENT 1 "
   ]
  },
  {
   "cell_type": "markdown",
   "id": "93e51f46",
   "metadata": {},
   "source": [
    "**Q1. Explain Class and Object with respect to Object-Oriented Programming. Give a suitable example.**"
   ]
  },
  {
   "cell_type": "markdown",
   "id": "a720b6a4",
   "metadata": {},
   "source": [
    "Solution:"
   ]
  },
  {
   "cell_type": "markdown",
   "id": "a9fd1b32",
   "metadata": {},
   "source": [
    "In object-oriented programming (OOP), a class is a blueprint or a template that defines the characteristics (attributes) and behaviors (methods) that objects of that class will have. It serves as a blueprint for creating objects, which are instances of a class.\n",
    "\n",
    "An object, on the other hand, is an instance of a class. It represents a specific entity that can have its own unique state and behavior based on the attributes and methods defined in the class. Objects are created from classes and can interact with each other, perform actions, and store data.\n",
    "\n",
    "Let's consider an example to understand the concepts of class and object:"
   ]
  },
  {
   "cell_type": "code",
   "execution_count": 1,
   "id": "38759ede",
   "metadata": {},
   "outputs": [
    {
     "name": "stdout",
     "output_type": "stream",
     "text": [
      "Toyota\n",
      "2021\n",
      "The Toyota Camry's engine is started.\n",
      "The Honda Accord's engine is started.\n"
     ]
    }
   ],
   "source": [
    "class Car:\n",
    "    def __init__(self, make, model, year):\n",
    "        self.make = make\n",
    "        self.model = model\n",
    "        self.year = year\n",
    "\n",
    "    def start_engine(self):\n",
    "        print(f\"The {self.make} {self.model}'s engine is started.\")\n",
    "\n",
    "\n",
    "# Creating objects of the Car class\n",
    "car1 = Car(\"Toyota\", \"Camry\", 2022)\n",
    "car2 = Car(\"Honda\", \"Accord\", 2021)\n",
    "\n",
    "# Accessing object attributes\n",
    "print(car1.make)       # Output: Toyota\n",
    "print(car2.year)       # Output: 2021\n",
    "\n",
    "# Calling object methods\n",
    "car1.start_engine()    # Output: The Toyota Camry's engine is started.\n",
    "car2.start_engine()    # Output: The Honda Accord's engine is started.\n"
   ]
  },
  {
   "cell_type": "markdown",
   "id": "0c2e9246",
   "metadata": {},
   "source": [
    "By defining a class, we can create multiple objects (instances) that have their own state and behavior. "
   ]
  },
  {
   "cell_type": "markdown",
   "id": "ef697a51",
   "metadata": {},
   "source": [
    "**Q2. Name the four pillars of OOPs.**"
   ]
  },
  {
   "cell_type": "markdown",
   "id": "39b1f878",
   "metadata": {},
   "source": [
    "Solution:"
   ]
  },
  {
   "cell_type": "markdown",
   "id": "806a92fe",
   "metadata": {},
   "source": [
    "The four pillars of object-oriented programming (OOP) are:\n",
    "    \n",
    "1.Encapsulation\n",
    "\n",
    "2.Inheritance\n",
    "    \n",
    "3.Polymorphism\n",
    "    \n",
    "4.Abstraction"
   ]
  },
  {
   "cell_type": "markdown",
   "id": "b9f3fc0f",
   "metadata": {},
   "source": [
    "**Q3. Explain why the __init__() function is used. Give a suitable example.**"
   ]
  },
  {
   "cell_type": "markdown",
   "id": "50e99c3a",
   "metadata": {},
   "source": [
    "Solution:"
   ]
  },
  {
   "cell_type": "markdown",
   "id": "4ece85e5",
   "metadata": {},
   "source": [
    "The __init__() function, also known as the constructor, is a special method in Python classes that is automatically called when an object is created from the class. It is used to initialize the attributes (or properties) of the object with specific values or perform any necessary setup operations.\n",
    "\n",
    "The primary purpose of the __init__() function is to ensure that the object is in a valid and usable state right after its creation. It allows you to define the initial values of the object's attributes and set up any required resources or configurations. By defining the __init__() method, you can control the object's state and behavior at the moment of instantiation.\n",
    "\n",
    "Here's an example to demonstrate the usage of the __init__() function:"
   ]
  },
  {
   "cell_type": "code",
   "execution_count": 2,
   "id": "cd1b52e5",
   "metadata": {},
   "outputs": [
    {
     "name": "stdout",
     "output_type": "stream",
     "text": [
      "Hi, my name is Alice and I am 25 years old.\n",
      "Hi, my name is Bob and I am 30 years old.\n"
     ]
    }
   ],
   "source": [
    "class Person:\n",
    "    def __init__(self, name, age):\n",
    "        self.name = name\n",
    "        self.age = age\n",
    "\n",
    "    def introduce(self):\n",
    "        print(f\"Hi, my name is {self.name} and I am {self.age} years old.\")\n",
    "\n",
    "\n",
    "person1 = Person(\"Alice\", 25)\n",
    "person1.introduce()   # Output: Hi, my name is Alice and I am 25 years old.\n",
    "\n",
    "person2 = Person(\"Bob\", 30)\n",
    "person2.introduce()   # Output: Hi, my name is Bob and I am 30 years old.\n"
   ]
  },
  {
   "cell_type": "markdown",
   "id": "d7ece2c3",
   "metadata": {},
   "source": [
    "The __init__() method allows us to define and set the initial state of the object when it is created. "
   ]
  },
  {
   "cell_type": "markdown",
   "id": "511d4d88",
   "metadata": {},
   "source": [
    "**Q4. Why self is used in OOPs?**"
   ]
  },
  {
   "cell_type": "markdown",
   "id": "edaffc2f",
   "metadata": {},
   "source": [
    "Solution:"
   ]
  },
  {
   "cell_type": "markdown",
   "id": "5af42892",
   "metadata": {},
   "source": [
    "In object-oriented programming (OOP), the self parameter is used to refer to the instance (object) of a class within the class methods. It is a convention in Python to use the name self as the first parameter in instance methods, although you can use any other name if you prefer.\n",
    "\n",
    "The purpose of self is to allow access to the instance attributes and methods within the class. When a method is called on an object, the object itself is automatically passed as the self parameter to the method. By using self, you can refer to the specific instance and access its attributes and methods.\n",
    "\n",
    "Here's an example to illustrate the usage of self:"
   ]
  },
  {
   "cell_type": "code",
   "execution_count": 5,
   "id": "3c58f117",
   "metadata": {},
   "outputs": [
    {
     "name": "stdout",
     "output_type": "stream",
     "text": [
      "Hello, my name is Alice.\n"
     ]
    }
   ],
   "source": [
    "class Person:\n",
    "    def __init__(self, name):\n",
    "        self.name = name\n",
    "\n",
    "    def greet(self):\n",
    "        print(f\"Hello, my name is {self.name}.\")\n",
    "\n",
    "person = Person(\"Alice\")\n",
    "person.greet()   # Output: Hello, my name is Alice.\n"
   ]
  },
  {
   "cell_type": "markdown",
   "id": "6f4d0653",
   "metadata": {},
   "source": [
    "Note that self is just a convention, and you could technically use any other name for the parameter."
   ]
  },
  {
   "cell_type": "markdown",
   "id": "2ed1dffe",
   "metadata": {},
   "source": [
    "**Q5. What is inheritance? Give an example for each type of inheritance.**"
   ]
  },
  {
   "cell_type": "markdown",
   "id": "fa5518a9",
   "metadata": {},
   "source": [
    "Solution:"
   ]
  },
  {
   "cell_type": "markdown",
   "id": "e06a7a01",
   "metadata": {},
   "source": [
    "Heritance is a fundamental concept in object-oriented programming (OOP) that allows a class (called the child or derived class) to inherit the properties and behaviors of another class (called the parent or base class). The child class can reuse and extend the attributes and methods defined in the parent class, promoting code reuse and modularity.\n",
    "\n",
    "Inheritance provides a way to create hierarchical relationships between classes, where the child class inherits the characteristics of the parent class and can add or modify its own attributes and methods.\n",
    "\n",
    "There are different types of inheritance in Python:\n",
    "\n",
    "1.Single Inheritance: Single inheritance refers to the scenario where a child class inherits from a single parent class. It follows a simple one-to-one hierarchy. Here's an example:"
   ]
  },
  {
   "cell_type": "code",
   "execution_count": 8,
   "id": "57a11a45",
   "metadata": {},
   "outputs": [
    {
     "name": "stdout",
     "output_type": "stream",
     "text": [
      "Starting the car.\n",
      "Driving a vehicle.\n"
     ]
    }
   ],
   "source": [
    "class Vehicle:\n",
    "    def drive(self):\n",
    "        print(\"Driving a vehicle.\")\n",
    "\n",
    "\n",
    "class Car(Vehicle):\n",
    "    def start(self):\n",
    "        print(\"Starting the car.\")\n",
    "\n",
    "car = Car()\n",
    "car.start()   # Output: Starting the car.\n",
    "car.drive()   # Output: Driving a vehicle.\n"
   ]
  },
  {
   "cell_type": "markdown",
   "id": "793dcc2f",
   "metadata": {},
   "source": [
    "2.Multiple Inheritance: Multiple inheritance refers to the scenario where a child class inherits from multiple parent classes. It allows the child class to inherit attributes and methods from multiple sources. \n",
    "\n",
    "Here's an example:"
   ]
  },
  {
   "cell_type": "code",
   "execution_count": 9,
   "id": "b8cae297",
   "metadata": {},
   "outputs": [
    {
     "name": "stdout",
     "output_type": "stream",
     "text": [
      "Animal is breathing.\n",
      "Mammal is feeding milk.\n",
      "Dolphin is swimming.\n"
     ]
    }
   ],
   "source": [
    "class Animal:\n",
    "    def breathe(self):\n",
    "        print(\"Animal is breathing.\")\n",
    "\n",
    "\n",
    "class Mammal:\n",
    "    def feed_milk(self):\n",
    "        print(\"Mammal is feeding milk.\")\n",
    "\n",
    "\n",
    "class Dolphin(Animal, Mammal):\n",
    "    def swim(self):\n",
    "        print(\"Dolphin is swimming.\")\n",
    "\n",
    "dolphin = Dolphin()\n",
    "dolphin.breathe()      # Output: Animal is breathing.\n",
    "dolphin.feed_milk()    # Output: Mammal is feeding milk.\n",
    "dolphin.swim()         # Output: Dolphin is swimming.\n"
   ]
  },
  {
   "cell_type": "markdown",
   "id": "6484ca9b",
   "metadata": {},
   "source": [
    "# -----------------------------------------------------END---------------------------------------------------"
   ]
  }
 ],
 "metadata": {
  "kernelspec": {
   "display_name": "Python 3 (ipykernel)",
   "language": "python",
   "name": "python3"
  },
  "language_info": {
   "codemirror_mode": {
    "name": "ipython",
    "version": 3
   },
   "file_extension": ".py",
   "mimetype": "text/x-python",
   "name": "python",
   "nbconvert_exporter": "python",
   "pygments_lexer": "ipython3",
   "version": "3.9.13"
  }
 },
 "nbformat": 4,
 "nbformat_minor": 5
}
