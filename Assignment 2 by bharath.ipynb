{
 "cells": [
  {
   "cell_type": "markdown",
   "id": "c497f984",
   "metadata": {},
   "source": [
    "# WEEK 2 ASSIGNMENT"
   ]
  },
  {
   "cell_type": "markdown",
   "id": "3c3fbacc",
   "metadata": {},
   "source": [
    "Q1. How do you comment code in Python? What are the different types of comments?"
   ]
  },
  {
   "cell_type": "markdown",
   "id": "0d250d86",
   "metadata": {},
   "source": [
    "Solution: \n",
    "Comments in Python are the lines in the code that are ignored by the interpreter during the execution of the program.\n",
    "\n",
    "Comments can be used to explain Python code.\n",
    "They can be used to prevent execution when testing code.\n",
    "\n",
    "\n",
    "There are two types of comments in Python: single-line comments and multi-line comments:\n",
    "    \n",
    "1.Single-line comments: To add a single-line comment, you can use the hash character (#).\n",
    "Everything following the hash symbol on the same line is considered a comment and is ignored by the Python interpreter.\n",
    "\n",
    "Here's an example:"
   ]
  },
  {
   "cell_type": "code",
   "execution_count": 1,
   "id": "2e236288",
   "metadata": {},
   "outputs": [
    {
     "name": "stdout",
     "output_type": "stream",
     "text": [
      "Hello, world!\n"
     ]
    }
   ],
   "source": [
    "# This is a single-line comment\n",
    "print(\"Hello, world!\")  # This line prints a greeting\n"
   ]
  },
  {
   "cell_type": "markdown",
   "id": "43342eb8",
   "metadata": {},
   "source": [
    "2.Multi-line comments: Python does not have a specific syntax for multi-line comments.\n",
    "However, you can use triple quotes (\"\"\") or triple single quotes (''') to create multi-line strings,\n",
    "which can effectively serve as multi-line comments.\n",
    "\n",
    "Since these strings are not assigned to any variable,they are ignored by the interpreter.\n",
    "\n",
    "\n",
    "Here's an example:"
   ]
  },
  {
   "cell_type": "code",
   "execution_count": 2,
   "id": "a0de315b",
   "metadata": {},
   "outputs": [
    {
     "name": "stdout",
     "output_type": "stream",
     "text": [
      "Hello, world!\n"
     ]
    }
   ],
   "source": [
    "\"\"\"\n",
    "This is a multi-line comment.\n",
    "It spans multiple lines and is enclosed by triple quotes.\n",
    "\"\"\"\n",
    "print(\"Hello, world!\")\n"
   ]
  },
  {
   "cell_type": "markdown",
   "id": "25fab33e",
   "metadata": {},
   "source": [
    "Q2.What are variables in Python? How do you declare and assign values to variables?"
   ]
  },
  {
   "cell_type": "markdown",
   "id": "4ce698e5",
   "metadata": {},
   "source": [
    "Solution:In Python,variables are used to store data values.A variable is like a container that holds a value, and you can manipulate and access that value throughout your code.\n",
    "\n",
    "To declare and assign a value to a variable in Python, you simply choose a name for the variable and use the assignment operator (=) to assign a value to it. \n",
    "\n",
    "Here's the general syntax:"
   ]
  },
  {
   "cell_type": "markdown",
   "id": "44d9d862",
   "metadata": {},
   "source": [
    "variable_name = value\n"
   ]
  },
  {
   "cell_type": "markdown",
   "id": "66438a80",
   "metadata": {},
   "source": [
    "\n",
    "Here's an example that declares a variable named message and assigns it the value \"Hello, world!\":"
   ]
  },
  {
   "cell_type": "code",
   "execution_count": 3,
   "id": "c730d3f8",
   "metadata": {},
   "outputs": [],
   "source": [
    "message = \"Hello, world!\"\n"
   ]
  },
  {
   "cell_type": "markdown",
   "id": "42d1f3f5",
   "metadata": {},
   "source": [
    "In Python, you don't need to explicitly declare the type of a variable.\n",
    "\n",
    "The type of a variable is dynamically determined based on the value assigned to it. For example, if you assign an integer value to a variable, it becomes an integer variable, and if you assign a string value, it becomes a string variable."
   ]
  },
  {
   "cell_type": "markdown",
   "id": "ee47e390",
   "metadata": {},
   "source": [
    "Q3.How do you convert one data type to another in Python?"
   ]
  },
  {
   "cell_type": "markdown",
   "id": "703c2720",
   "metadata": {},
   "source": [
    "Solution:In Python, you can convert one data type to another using type conversion functions or constructors. \n",
    "\n",
    "Here are some commonly used methods for type conversion:"
   ]
  },
  {
   "cell_type": "markdown",
   "id": "a6d4c4cc",
   "metadata": {},
   "source": [
    "1.Integer Conversion: To convert a value to an integer data type, you can use the int() function.\n",
    "\n",
    "For example:"
   ]
  },
  {
   "cell_type": "code",
   "execution_count": 5,
   "id": "bf2dbf32",
   "metadata": {},
   "outputs": [
    {
     "data": {
      "text/plain": [
       "3"
      ]
     },
     "execution_count": 5,
     "metadata": {},
     "output_type": "execute_result"
    }
   ],
   "source": [
    "x = int(3.14)  # x will be 3\n",
    "x"
   ]
  },
  {
   "cell_type": "markdown",
   "id": "6d717866",
   "metadata": {},
   "source": [
    "2.Floating-Point Conversion: To convert a value to a floating-point data type, you can use the float() function.\n",
    "\n",
    "For example:"
   ]
  },
  {
   "cell_type": "code",
   "execution_count": 6,
   "id": "f1d2cc44",
   "metadata": {},
   "outputs": [
    {
     "data": {
      "text/plain": [
       "5.0"
      ]
     },
     "execution_count": 6,
     "metadata": {},
     "output_type": "execute_result"
    }
   ],
   "source": [
    "y = float(5)  # y will be 5.0\n",
    "y"
   ]
  },
  {
   "cell_type": "markdown",
   "id": "9878f8d0",
   "metadata": {},
   "source": [
    "3.String Conversion: To convert a value to a string data type, you can use the str() function.\n",
    "\n",
    "For example:"
   ]
  },
  {
   "cell_type": "code",
   "execution_count": 7,
   "id": "d33cb8ca",
   "metadata": {},
   "outputs": [
    {
     "data": {
      "text/plain": [
       "'10'"
      ]
     },
     "execution_count": 7,
     "metadata": {},
     "output_type": "execute_result"
    }
   ],
   "source": [
    "z = str(10)  # z will be the string '10'\n",
    "z"
   ]
  },
  {
   "cell_type": "markdown",
   "id": "f229b320",
   "metadata": {},
   "source": [
    "4.List Conversion: To convert a value to a list data type, you can use the list() function.\n",
    "    \n",
    "For example:"
   ]
  },
  {
   "cell_type": "code",
   "execution_count": 9,
   "id": "4bc95197",
   "metadata": {},
   "outputs": [
    {
     "data": {
      "text/plain": [
       "[1, 2, 3]"
      ]
     },
     "execution_count": 9,
     "metadata": {},
     "output_type": "execute_result"
    }
   ],
   "source": [
    "numbers = list((1, 2, 3))  # numbers will be [1, 2, 3]\n",
    "numbers"
   ]
  },
  {
   "cell_type": "markdown",
   "id": "e48866af",
   "metadata": {},
   "source": [
    "There are few more type coversion functions like tuple(),bool()."
   ]
  },
  {
   "cell_type": "markdown",
   "id": "f471ed87",
   "metadata": {},
   "source": [
    " "
   ]
  },
  {
   "cell_type": "markdown",
   "id": "6cd35a0f",
   "metadata": {},
   "source": [
    "\n",
    "\n",
    "\n",
    "Q4.How do you write and execute a Python script from the command line?"
   ]
  },
  {
   "cell_type": "markdown",
   "id": "b8075680",
   "metadata": {},
   "source": [
    "Solution:\n",
    "To write and execute a Python script from the command line,these steps are to be followed:\n",
    "    \n",
    "1.write your code in a file and Save the file with a .py extension, which is the convention for Python scripts.Choose a meaningful file name, such as hello_world.py.\n",
    "\n",
    "2.Open the command line or terminal.\n",
    "\n",
    "3.Use the cd command to navigate to the directory where you saved your Python script.\n",
    "For example, if the script is saved on the desktop, you can use the following command on Windows:\n",
    "\n",
    "cd C:\\Users\\YourUsername\\Desktop\n",
    "\n",
    "\n",
    "4.Once you are in the correct directory, run the Python script by typing python followed by the name of your script file.\n",
    "\n",
    "For example:\n",
    "\n",
    "python hello_world.py\n",
    "\n",
    "5.Press Enter to execute the command."
   ]
  },
  {
   "cell_type": "markdown",
   "id": "48eead72",
   "metadata": {},
   "source": [
    "Q5.Given a list my_list = [1, 2, 3, 4, 5], write the code to slice the list and obtain the sub-list [2, 3]."
   ]
  },
  {
   "cell_type": "markdown",
   "id": "a55215f4",
   "metadata": {},
   "source": [
    "Solution:"
   ]
  },
  {
   "cell_type": "code",
   "execution_count": 11,
   "id": "a39e3d7b",
   "metadata": {},
   "outputs": [
    {
     "data": {
      "text/plain": [
       "[1, 2, 3, 4, 5]"
      ]
     },
     "execution_count": 11,
     "metadata": {},
     "output_type": "execute_result"
    }
   ],
   "source": [
    "my_list = [1, 2, 3, 4, 5]\n",
    "my_list"
   ]
  },
  {
   "cell_type": "code",
   "execution_count": 12,
   "id": "c5247075",
   "metadata": {},
   "outputs": [
    {
     "data": {
      "text/plain": [
       "[2, 3]"
      ]
     },
     "execution_count": 12,
     "metadata": {},
     "output_type": "execute_result"
    }
   ],
   "source": [
    "my_list[1:3]"
   ]
  },
  {
   "cell_type": "markdown",
   "id": "1914457e",
   "metadata": {},
   "source": [
    "Q6.What is a complex number in mathematics, and how is it represented in Python?"
   ]
  },
  {
   "cell_type": "markdown",
   "id": "e57548b1",
   "metadata": {},
   "source": [
    "Solution:\n",
    "In mathematics, a complex number is a number of the form a + bi, where a and b are real numbers, and i is the imaginary unit defined as the square root of -1. The real part (a) represents the real value of the complex number, and the imaginary part (bi) represents the imaginary value. Complex numbers are used to represent quantities that involve both real and imaginary components.\n",
    "\n",
    "In Python, complex numbers are built-in data types. To represent a complex number in Python, you can use the j or J suffix to indicate the imaginary part. Here's the general syntax:"
   ]
  },
  {
   "cell_type": "markdown",
   "id": "1d6b9d12",
   "metadata": {},
   "source": [
    "z = a + bj\n"
   ]
  },
  {
   "cell_type": "markdown",
   "id": "615cfd1d",
   "metadata": {},
   "source": [
    "where a is the real part and b is the imaginary part. It's important to note that the j or J suffix should directly follow the imaginary part, without any whitespace between the number and the j or J.\n",
    "\n",
    "Here are a few examples of complex number representations in Python:"
   ]
  },
  {
   "cell_type": "code",
   "execution_count": 13,
   "id": "2fccdf27",
   "metadata": {},
   "outputs": [],
   "source": [
    "z1 = 2 + 3j\n",
    "z2 = 1.5 - 2j\n",
    "z3 = -4j\n"
   ]
  },
  {
   "cell_type": "code",
   "execution_count": 14,
   "id": "133bd4b4",
   "metadata": {},
   "outputs": [
    {
     "data": {
      "text/plain": [
       "(2+3j)"
      ]
     },
     "execution_count": 14,
     "metadata": {},
     "output_type": "execute_result"
    }
   ],
   "source": [
    "z1"
   ]
  },
  {
   "cell_type": "code",
   "execution_count": 15,
   "id": "a0d99856",
   "metadata": {},
   "outputs": [
    {
     "data": {
      "text/plain": [
       "(1.5-2j)"
      ]
     },
     "execution_count": 15,
     "metadata": {},
     "output_type": "execute_result"
    }
   ],
   "source": [
    "z2"
   ]
  },
  {
   "cell_type": "markdown",
   "id": "20003661",
   "metadata": {},
   "source": [
    "Q7.What is the correct way to declare a variable named age and assign the value 25 to it?"
   ]
  },
  {
   "cell_type": "markdown",
   "id": "689f6df4",
   "metadata": {},
   "source": [
    "Solution:\n",
    "\n",
    "The correct way to declare a variable named age and assign the value 25 to it in Python is as follows:\n",
    "\n"
   ]
  },
  {
   "cell_type": "code",
   "execution_count": 16,
   "id": "42b32b27",
   "metadata": {},
   "outputs": [],
   "source": [
    "age = 25\n"
   ]
  },
  {
   "cell_type": "markdown",
   "id": "79ecea69",
   "metadata": {},
   "source": [
    "In this example, the variable age is declared using the name age, and the assignment operator (=) is used to assign the value 25 to it."
   ]
  },
  {
   "cell_type": "code",
   "execution_count": 17,
   "id": "366c26c6",
   "metadata": {},
   "outputs": [
    {
     "data": {
      "text/plain": [
       "25"
      ]
     },
     "execution_count": 17,
     "metadata": {},
     "output_type": "execute_result"
    }
   ],
   "source": [
    "age\n"
   ]
  },
  {
   "cell_type": "markdown",
   "id": "0f493432",
   "metadata": {},
   "source": [
    "Q8. Declare a variable named price and assign the value 9.99 to it. What data type does this variable \n",
    "belong to?"
   ]
  },
  {
   "cell_type": "markdown",
   "id": "81be01fb",
   "metadata": {},
   "source": [
    "Solution:\n"
   ]
  },
  {
   "cell_type": "code",
   "execution_count": 19,
   "id": "d841f454",
   "metadata": {},
   "outputs": [
    {
     "data": {
      "text/plain": [
       "9.99"
      ]
     },
     "execution_count": 19,
     "metadata": {},
     "output_type": "execute_result"
    }
   ],
   "source": [
    "price=9.99\n",
    "price"
   ]
  },
  {
   "cell_type": "code",
   "execution_count": 20,
   "id": "07059243",
   "metadata": {},
   "outputs": [
    {
     "data": {
      "text/plain": [
       "float"
      ]
     },
     "execution_count": 20,
     "metadata": {},
     "output_type": "execute_result"
    }
   ],
   "source": [
    "type(price)\n"
   ]
  },
  {
   "cell_type": "markdown",
   "id": "b525ac04",
   "metadata": {},
   "source": [
    "The Data type of above variable price is float."
   ]
  },
  {
   "cell_type": "markdown",
   "id": "c0266209",
   "metadata": {},
   "source": [
    "Q9. Create a variable named name and assign your full name to it as a string. How would you print the \n",
    "value of this variable?"
   ]
  },
  {
   "cell_type": "markdown",
   "id": "eeaacfa1",
   "metadata": {},
   "source": [
    "Solution:\n",
    "    "
   ]
  },
  {
   "cell_type": "code",
   "execution_count": 22,
   "id": "0999d008",
   "metadata": {},
   "outputs": [],
   "source": [
    "name='Bharath M'"
   ]
  },
  {
   "cell_type": "code",
   "execution_count": 24,
   "id": "63c6480f",
   "metadata": {},
   "outputs": [
    {
     "data": {
      "text/plain": [
       "'Bharath M'"
      ]
     },
     "execution_count": 24,
     "metadata": {},
     "output_type": "execute_result"
    }
   ],
   "source": [
    "name   #In jupyter you can just run the variable and the data will be printed."
   ]
  },
  {
   "cell_type": "markdown",
   "id": "336892a9",
   "metadata": {},
   "source": [
    "or else we can use print keyword to print."
   ]
  },
  {
   "cell_type": "code",
   "execution_count": 25,
   "id": "45c0291e",
   "metadata": {},
   "outputs": [
    {
     "name": "stdout",
     "output_type": "stream",
     "text": [
      "Bharath M\n"
     ]
    }
   ],
   "source": [
    "print(name)"
   ]
  },
  {
   "cell_type": "markdown",
   "id": "ac82f0a5",
   "metadata": {},
   "source": [
    "Q10. Given the string \"Hello, World!\", extract the substring \"World\"."
   ]
  },
  {
   "cell_type": "markdown",
   "id": "e7de8c5d",
   "metadata": {},
   "source": [
    "Solution:\n",
    "    "
   ]
  },
  {
   "cell_type": "code",
   "execution_count": 26,
   "id": "9e128944",
   "metadata": {},
   "outputs": [],
   "source": [
    "a=\"Hello, World!\""
   ]
  },
  {
   "cell_type": "code",
   "execution_count": 27,
   "id": "710f3f28",
   "metadata": {},
   "outputs": [
    {
     "data": {
      "text/plain": [
       "'Hello, World!'"
      ]
     },
     "execution_count": 27,
     "metadata": {},
     "output_type": "execute_result"
    }
   ],
   "source": [
    "a"
   ]
  },
  {
   "cell_type": "code",
   "execution_count": 29,
   "id": "a46eb3b4",
   "metadata": {},
   "outputs": [
    {
     "data": {
      "text/plain": [
       "'World'"
      ]
     },
     "execution_count": 29,
     "metadata": {},
     "output_type": "execute_result"
    }
   ],
   "source": [
    "a[7:12]"
   ]
  },
  {
   "cell_type": "markdown",
   "id": "6027250a",
   "metadata": {},
   "source": [
    "Q11.Create a variable named \"is_student\" and assign it a boolean value indicating whether you are \n",
    "currently a student or not"
   ]
  },
  {
   "cell_type": "markdown",
   "id": "31f12a82",
   "metadata": {},
   "source": [
    "Solution:\n"
   ]
  },
  {
   "cell_type": "code",
   "execution_count": 35,
   "id": "6b7be7a0",
   "metadata": {},
   "outputs": [],
   "source": [
    "is_student=True       # variable created\n",
    "                     "
   ]
  },
  {
   "cell_type": "code",
   "execution_count": 36,
   "id": "f766ec55",
   "metadata": {},
   "outputs": [
    {
     "data": {
      "text/plain": [
       "True"
      ]
     },
     "execution_count": 36,
     "metadata": {},
     "output_type": "execute_result"
    }
   ],
   "source": [
    "is_student"
   ]
  },
  {
   "cell_type": "code",
   "execution_count": 37,
   "id": "c8004ea0",
   "metadata": {},
   "outputs": [
    {
     "name": "stdout",
     "output_type": "stream",
     "text": [
      "Am i a student: True\n"
     ]
    }
   ],
   "source": [
    "print(\"Am i a student:\",is_student)"
   ]
  },
  {
   "cell_type": "markdown",
   "id": "cdc73004",
   "metadata": {},
   "source": [
    "# ------------------------END------------------------"
   ]
  }
 ],
 "metadata": {
  "kernelspec": {
   "display_name": "Python 3 (ipykernel)",
   "language": "python",
   "name": "python3"
  },
  "language_info": {
   "codemirror_mode": {
    "name": "ipython",
    "version": 3
   },
   "file_extension": ".py",
   "mimetype": "text/x-python",
   "name": "python",
   "nbconvert_exporter": "python",
   "pygments_lexer": "ipython3",
   "version": "3.9.13"
  }
 },
 "nbformat": 4,
 "nbformat_minor": 5
}
