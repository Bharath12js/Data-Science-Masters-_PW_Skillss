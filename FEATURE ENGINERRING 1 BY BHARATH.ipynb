{
 "cells": [
  {
   "cell_type": "markdown",
   "id": "41a75afd",
   "metadata": {},
   "source": [
    "# FEATURE ENGINERRING 1 BY BHARATH"
   ]
  },
  {
   "cell_type": "markdown",
   "id": "d16040f4",
   "metadata": {},
   "source": [
    "# QUESTIONS:"
   ]
  },
  {
   "cell_type": "markdown",
   "id": "5acac23e",
   "metadata": {},
   "source": [
    "Q1. What is the Filter method in feature selection, and how does it work?\n",
    "\n",
    "Q2. How does the Wrapper method differ from the Filter method in feature selection?\n",
    "\n",
    "Q3. What are some common techniques used in Embedded feature selection methods?\n",
    "\n",
    "Q4. What are some drawbacks of using the Filter method for feature selection?\n",
    "\n",
    "Q5. In which situations would you prefer using the Filter method over the Wrapper method for feature \n",
    "selection?\n",
    "\n",
    "Q6. In a telecom company, you are working on a project to develop a predictive model for customer churn. \n",
    "You are unsure of which features to include in the model because the dataset contains several different \n",
    "ones. Describe how you would choose the most pertinent attributes for the model using the Filter Method.\n",
    "\n",
    "Q7. You are working on a project to predict the outcome of a soccer match. You have a large dataset with \n",
    "many features, including player statistics and team rankings. Explain how you would use the Embedded \n",
    "method to select the most relevant features for the model.\n",
    "\n",
    "Q8. You are working on a project to predict the price of a house based on its features, such as size, location, \n",
    "and age. You have a limited number of features, and you want to ensure that you select the most important \n",
    "ones for the model. Explain how you would use the Wrapper method to select the best set of features for the \n",
    "predictor"
   ]
  },
  {
   "cell_type": "markdown",
   "id": "ba8e9742",
   "metadata": {},
   "source": [
    "# SOLUTIONS:"
   ]
  },
  {
   "cell_type": "markdown",
   "id": "3661da88",
   "metadata": {},
   "source": [
    "Q1: **Filter Method in Feature Selection**:\n",
    "\n",
    "The Filter method is a feature selection technique that ranks features based on their statistical properties or correlation with the target variable. It works by evaluating each feature independently of the machine learning algorithm. The main steps are as follows:\n",
    "\n",
    "1. **Scoring**: Each feature is assigned a score based on some statistical measure (e.g., correlation, chi-squared, mutual information) that quantifies its relationship with the target variable.\n",
    "\n",
    "2. **Ranking**: Features are ranked based on their scores in descending order. The top-ranked features are considered more important.\n",
    "\n",
    "3. **Selection**: A predefined number of top-ranked features or a threshold is used to select the final set of features.\n",
    "\n",
    "Filter methods are computationally efficient and can handle a large number of features. They are independent of the learning algorithm and are particularly useful when the feature space is high-dimensional.\n",
    "\n",
    "Q2: **Wrapper Method vs. Filter Method**:\n",
    "\n",
    "**Wrapper Method**:\n",
    "- Involves training the machine learning model iteratively with different feature subsets.\n",
    "- Evaluates subsets using a specific evaluation criterion, such as accuracy, F1-score, etc.\n",
    "- Computationally more expensive due to training multiple models.\n",
    "- Tends to provide more accurate feature selection but can be time-consuming.\n",
    "\n",
    "**Filter Method**:\n",
    "- Selects features based on their individual characteristics or correlation with the target variable.\n",
    "- No actual model training is involved; features are selected before modeling.\n",
    "- Computationally efficient and faster.\n",
    "- May not always capture complex feature interactions.\n",
    "\n",
    "Q3: **Embedded Feature Selection Methods**:\n",
    "\n",
    "Embedded methods incorporate feature selection within the process of model training. Some common techniques include:\n",
    "- **L1 Regularization (Lasso)**: Penalizes model coefficients to force some of them to become exactly zero, effectively selecting features.\n",
    "- **Tree-Based Methods**: Decision trees and ensemble methods like Random Forest provide feature importance scores that can guide feature selection.\n",
    "- **Recursive Feature Elimination (RFE)**: Iteratively trains models and removes least important features.\n",
    "- **Gradient Boosting**: Models like Gradient Boosting Machines provide feature importance scores to guide feature selection.\n",
    "\n",
    "Q4: **Drawbacks of Filter Method**:\n",
    "\n",
    "- It may ignore feature interactions that are important for the model.\n",
    "- It assumes features are independent of each other, which may not hold true in some cases.\n",
    "- It doesn't consider the impact of selected features on the model's overall performance.\n",
    "- Features are selected without considering the learning algorithm's behavior.\n",
    "\n",
    "Q5: **Filter Method vs. Wrapper Method Usage**:\n",
    "\n",
    "Use the Filter Method when:\n",
    "- The feature space is large.\n",
    "- You want a computationally efficient method.\n",
    "- You want a quick initial selection of potentially relevant features.\n",
    "- You are looking for a simple and interpretable approach.\n",
    "\n",
    "Q6: **Using Filter Method for Telecom Customer Churn Model**:\n",
    "\n",
    "1. Calculate feature statistics (e.g., correlation, mutual information) with the target variable (churn).\n",
    "2. Rank features based on their scores.\n",
    "3. Set a threshold or select the top-ranked features.\n",
    "4. Train a predictive model using the selected features and evaluate its performance.\n",
    "\n",
    "Q7: **Using Embedded Method for Soccer Match Outcome Prediction**:\n",
    "\n",
    "1. Train a machine learning model (e.g., Random Forest, Gradient Boosting) on the soccer match dataset.\n",
    "2. Extract feature importance scores from the trained model.\n",
    "3. Rank features based on their importance scores.\n",
    "4. Select top-ranked features for the final model.\n",
    "\n",
    "Q8: **Using Wrapper Method for House Price Prediction**:\n",
    "\n",
    "1. Start with a subset of features or all features.\n",
    "2. Train the model on the subset and evaluate its performance using cross-validation.\n",
    "3. Iteratively add or remove features and assess the impact on model performance.\n",
    "4. Select the subset of features that yields the best model performance."
   ]
  },
  {
   "cell_type": "code",
   "execution_count": null,
   "id": "b114683f",
   "metadata": {},
   "outputs": [],
   "source": []
  }
 ],
 "metadata": {
  "kernelspec": {
   "display_name": "Python 3 (ipykernel)",
   "language": "python",
   "name": "python3"
  },
  "language_info": {
   "codemirror_mode": {
    "name": "ipython",
    "version": 3
   },
   "file_extension": ".py",
   "mimetype": "text/x-python",
   "name": "python",
   "nbconvert_exporter": "python",
   "pygments_lexer": "ipython3",
   "version": "3.9.13"
  }
 },
 "nbformat": 4,
 "nbformat_minor": 5
}
