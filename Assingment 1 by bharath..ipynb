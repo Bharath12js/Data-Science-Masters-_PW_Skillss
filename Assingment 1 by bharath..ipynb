{
 "cells": [
  {
   "cell_type": "markdown",
   "id": "398f2a39",
   "metadata": {},
   "source": [
    "# WEEK 1 ASSINGMENT"
   ]
  },
  {
   "cell_type": "markdown",
   "id": "22429a96",
   "metadata": {},
   "source": [
    "Q1. Create one variable containing following type of data:\n",
    "\n",
    "(i)\tstring\n",
    "\n",
    "(ii)\tlist\n",
    "\n",
    "(iii)\tfloat\n",
    "\n",
    "(iv)\ttuple"
   ]
  },
  {
   "cell_type": "code",
   "execution_count": 1,
   "id": "914ab340",
   "metadata": {},
   "outputs": [
    {
     "data": {
      "text/plain": [
       "'bharath'"
      ]
     },
     "execution_count": 1,
     "metadata": {},
     "output_type": "execute_result"
    }
   ],
   "source": [
    "a= 'bharath'\n",
    "a                      # a is a variable that holds string data."
   ]
  },
  {
   "cell_type": "code",
   "execution_count": 2,
   "id": "b8765b3c",
   "metadata": {},
   "outputs": [
    {
     "data": {
      "text/plain": [
       "[1, 3, 'apple', 'pwskills']"
      ]
     },
     "execution_count": 2,
     "metadata": {},
     "output_type": "execute_result"
    }
   ],
   "source": [
    "b=[1,3,'apple','pwskills']\n",
    "b                      # b is a variable that holds list."
   ]
  },
  {
   "cell_type": "code",
   "execution_count": 3,
   "id": "3dad5923",
   "metadata": {},
   "outputs": [
    {
     "data": {
      "text/plain": [
       "3.44"
      ]
     },
     "execution_count": 3,
     "metadata": {},
     "output_type": "execute_result"
    }
   ],
   "source": [
    "c=3.44\n",
    "c                      # c is a variable that holds float data."
   ]
  },
  {
   "cell_type": "code",
   "execution_count": 4,
   "id": "cb13832d",
   "metadata": {},
   "outputs": [
    {
     "data": {
      "text/plain": [
       "(2, 3, 4, 6, 10)"
      ]
     },
     "execution_count": 4,
     "metadata": {},
     "output_type": "execute_result"
    }
   ],
   "source": [
    "d=(2,3,4,6,10)\n",
    "d                      # d is a variable that holds tuple."
   ]
  },
  {
   "cell_type": "markdown",
   "id": "8d3f8c32",
   "metadata": {},
   "source": [
    "Q2. Given are some following variables containing data:\n",
    "\n",
    "(i)\tvar1 = ‘ ‘\n",
    "\n",
    "(ii)\tvar2 = ‘[ DS , ML , Python]’\n",
    "\n",
    "(iii)\tvar3 = [ ‘DS’ , ’ML’ , ‘Python’ ]\n",
    "\n",
    "(iv)\tvar4 = 1.\n",
    "\n",
    "\n",
    "What will be the data type of the above given variable"
   ]
  },
  {
   "cell_type": "markdown",
   "id": "e0251735",
   "metadata": {},
   "source": [
    "solution:\n",
    "   1. The Data type of var1 is string.\n",
    "   \n",
    "   \n",
    "   2. The Data type of var2 is string.\n",
    "   \n",
    "\n",
    "   3. The Data type of var3 is list.\n",
    "   \n",
    "   \n",
    "   4. The Data type of var4 is float."
   ]
  },
  {
   "cell_type": "markdown",
   "id": "a2508152",
   "metadata": {},
   "source": [
    "Q3. Explain the use of the following operators using an example:\n",
    "\n",
    "(i)\t/\n",
    "\n",
    "(ii)\t% \n",
    "\n",
    "(iii)\t//\n",
    "\n",
    "(iv)\t**"
   ]
  },
  {
   "cell_type": "markdown",
   "id": "9ded10ab",
   "metadata": {},
   "source": [
    "Solution:\n",
    "\n",
    "1. /   division operator.\n",
    "  \n",
    "This is an Arthimetic operator used for division operation.\n",
    "\n",
    "Divides the value on the left by the one on the right. Notice that division results in a floating-point value.\n",
    "\n",
    "examples :\n",
    " "
   ]
  },
  {
   "cell_type": "code",
   "execution_count": 12,
   "id": "a1370d15",
   "metadata": {},
   "outputs": [
    {
     "data": {
      "text/plain": [
       "20.0"
      ]
     },
     "execution_count": 12,
     "metadata": {},
     "output_type": "execute_result"
    }
   ],
   "source": [
    "40/2"
   ]
  },
  {
   "cell_type": "code",
   "execution_count": 13,
   "id": "4f6315c8",
   "metadata": {},
   "outputs": [
    {
     "data": {
      "text/plain": [
       "28.5"
      ]
     },
     "execution_count": 13,
     "metadata": {},
     "output_type": "execute_result"
    }
   ],
   "source": [
    "57/2"
   ]
  },
  {
   "cell_type": "markdown",
   "id": "01ba7b6a",
   "metadata": {},
   "source": [
    "2. % mode operator\n",
    "\n",
    "This is an Arthimetic operator used for getting the remainder of a number.\n",
    "\n",
    "Divides and returns the value of the remainder.\n",
    "\n",
    "examples:"
   ]
  },
  {
   "cell_type": "code",
   "execution_count": 15,
   "id": "8e71bc3c",
   "metadata": {},
   "outputs": [
    {
     "data": {
      "text/plain": [
       "2"
      ]
     },
     "execution_count": 15,
     "metadata": {},
     "output_type": "execute_result"
    }
   ],
   "source": [
    "70%4"
   ]
  },
  {
   "cell_type": "code",
   "execution_count": 16,
   "id": "be5f75c4",
   "metadata": {},
   "outputs": [
    {
     "data": {
      "text/plain": [
       "5"
      ]
     },
     "execution_count": 16,
     "metadata": {},
     "output_type": "execute_result"
    }
   ],
   "source": [
    "35%6"
   ]
  },
  {
   "cell_type": "markdown",
   "id": "7829c9d4",
   "metadata": {},
   "source": [
    "3. //   float division operator\n",
    "\n",
    "This is an Arthimetic operator used for dividing a number and returning the integer part of it.\n",
    "\n",
    "Divides and returns the integer value of the quotient. It removes the digits after the decimal.\n",
    "\n",
    "examples:\n",
    "\n"
   ]
  },
  {
   "cell_type": "code",
   "execution_count": 18,
   "id": "9897be38",
   "metadata": {},
   "outputs": [
    {
     "data": {
      "text/plain": [
       "7"
      ]
     },
     "execution_count": 18,
     "metadata": {},
     "output_type": "execute_result"
    }
   ],
   "source": [
    "42//6"
   ]
  },
  {
   "cell_type": "code",
   "execution_count": 20,
   "id": "4c702c67",
   "metadata": {},
   "outputs": [
    {
     "data": {
      "text/plain": [
       "3"
      ]
     },
     "execution_count": 20,
     "metadata": {},
     "output_type": "execute_result"
    }
   ],
   "source": [
    "22//6"
   ]
  },
  {
   "cell_type": "markdown",
   "id": "7a8fc4fd",
   "metadata": {},
   "source": [
    "4. **  Exponential operator or power operator.\n",
    "\n",
    "This is an Arthimetic operator,it Raises the first number to the power of the second.\n",
    "\n",
    "examples:\n"
   ]
  },
  {
   "cell_type": "code",
   "execution_count": 21,
   "id": "f3e2deb5",
   "metadata": {},
   "outputs": [
    {
     "data": {
      "text/plain": [
       "4"
      ]
     },
     "execution_count": 21,
     "metadata": {},
     "output_type": "execute_result"
    }
   ],
   "source": [
    "2**2"
   ]
  },
  {
   "cell_type": "code",
   "execution_count": 22,
   "id": "974481cf",
   "metadata": {},
   "outputs": [
    {
     "data": {
      "text/plain": [
       "729"
      ]
     },
     "execution_count": 22,
     "metadata": {},
     "output_type": "execute_result"
    }
   ],
   "source": [
    "3**6"
   ]
  },
  {
   "cell_type": "markdown",
   "id": "b9070c4e",
   "metadata": {},
   "source": [
    "Q4. Create a list of length 10 of your choice containing multiple types of data. Using for loop print the \n",
    "element and its data type.\n",
    "\n",
    "solution:"
   ]
  },
  {
   "cell_type": "code",
   "execution_count": 29,
   "id": "21f9e01c",
   "metadata": {},
   "outputs": [
    {
     "data": {
      "text/plain": [
       "[1,\n",
       " 3.4,\n",
       " 'pwskills',\n",
       " [1, 2],\n",
       " (4, 5),\n",
       " (2+3j),\n",
       " {'name': 'Bharath M', 'age': 19},\n",
       " {1, 2},\n",
       " range(0, 10),\n",
       " True]"
      ]
     },
     "execution_count": 29,
     "metadata": {},
     "output_type": "execute_result"
    }
   ],
   "source": [
    "#creating a list of 10 different datatypes\n",
    "a=[1,3.4,'pwskills',[1,2],(4,5),2+3j,{\"name\": \"Bharath M\", \"age\": 19},{1,2},range(10),True]\n",
    "a"
   ]
  },
  {
   "cell_type": "code",
   "execution_count": 35,
   "id": "d6d3a723",
   "metadata": {},
   "outputs": [
    {
     "name": "stdout",
     "output_type": "stream",
     "text": [
      "Value is  1\n",
      "data type is  <class 'int'>\n",
      "Value is  3.4\n",
      "data type is  <class 'float'>\n",
      "Value is  pwskills\n",
      "data type is  <class 'str'>\n",
      "Value is  [1, 2]\n",
      "data type is  <class 'list'>\n",
      "Value is  (4, 5)\n",
      "data type is  <class 'tuple'>\n",
      "Value is  (2+3j)\n",
      "data type is  <class 'complex'>\n",
      "Value is  {'name': 'Bharath M', 'age': 19}\n",
      "data type is  <class 'dict'>\n",
      "Value is  {1, 2}\n",
      "data type is  <class 'set'>\n",
      "Value is  range(0, 10)\n",
      "data type is  <class 'range'>\n",
      "Value is  True\n",
      "data type is  <class 'bool'>\n"
     ]
    }
   ],
   "source": [
    "#making use of for loop to display.\n",
    "for i in a:\n",
    "    print('Value is ',i)\n",
    "    print('data type is ',type(i))"
   ]
  },
  {
   "cell_type": "markdown",
   "id": "954acdc7",
   "metadata": {},
   "source": [
    "Q5. Using a while loop, verify if the number A is purely divisible by number B and if so then how many \n",
    "times it can be divisible.\n",
    "\n",
    "solution:"
   ]
  },
  {
   "cell_type": "code",
   "execution_count": 2,
   "id": "824b4f6c",
   "metadata": {},
   "outputs": [
    {
     "name": "stdout",
     "output_type": "stream",
     "text": [
      "Enter a value for A: 20\n",
      "Enter a value for B: 2\n",
      "A is divisible by B  2  times.\n"
     ]
    }
   ],
   "source": [
    "# Taking input values for A and B\n",
    "A = int(input(\"Enter a value for A: \"))\n",
    "B = int(input(\"Enter a value for B: \"))\n",
    "\n",
    "# Initializing count to zero\n",
    "count = 0\n",
    "\n",
    "# Using a while loop to check if A is divisible by B\n",
    "while A % B == 0:\n",
    "    A = A / B\n",
    "    count += 1\n",
    "\n",
    "# Check if count is greater than zero\n",
    "if count > 0:\n",
    "    print(\"A is divisible by B \",count, \" times.\")\n",
    "else:\n",
    "    print(\"A is not divisible by B.\")\n"
   ]
  },
  {
   "cell_type": "markdown",
   "id": "ea5d7add",
   "metadata": {},
   "source": [
    "Q6. Create a list containing 25 int type data. Using for loop and if-else condition print if the element is \n",
    "divisible by 3 or not.\n",
    "\n",
    "solution:"
   ]
  },
  {
   "cell_type": "code",
   "execution_count": 6,
   "id": "89cad0d5",
   "metadata": {},
   "outputs": [
    {
     "name": "stdout",
     "output_type": "stream",
     "text": [
      "21   is divisible by 3\n",
      "32   is not divisible by 3\n",
      "45   is divisible by 3\n",
      "18   is divisible by 3\n",
      "72   is divisible by 3\n",
      "93   is divisible by 3\n",
      "99   is divisible by 3\n",
      "54   is divisible by 3\n",
      "64   is not divisible by 3\n",
      "33   is divisible by 3\n",
      "22   is not divisible by 3\n",
      "21   is divisible by 3\n",
      "76   is not divisible by 3\n",
      "71   is not divisible by 3\n",
      "92   is not divisible by 3\n",
      "87   is divisible by 3\n",
      "33   is divisible by 3\n",
      "67   is not divisible by 3\n",
      "32   is not divisible by 3\n",
      "47   is not divisible by 3\n",
      "57   is divisible by 3\n",
      "63   is divisible by 3\n",
      "75   is divisible by 3\n",
      "78   is divisible by 3\n",
      "89   is not divisible by 3\n"
     ]
    }
   ],
   "source": [
    "# Creating a list of 25 integers\n",
    "listpw = [21,32,45,18,72,93,99,54,64,33,22,21,76,71,92,87,33,67,32,47,57,63,75,78,89]\n",
    "\n",
    "# Checking if each element in the list is divisible by 3 or not using a for loop\n",
    "for i in listpw:\n",
    "    if i % 3 == 0:\n",
    "        print(i,\"  is divisible by 3\")\n",
    "    else:\n",
    "        print(i,\"  is not divisible by 3\")\n"
   ]
  },
  {
   "cell_type": "markdown",
   "id": "044f61f6",
   "metadata": {},
   "source": [
    "Q7. What do you understand about mutable and immutable data types? Give examples for both showing \n",
    "this property.\n",
    "\n",
    "solution:"
   ]
  },
  {
   "cell_type": "markdown",
   "id": "01462cd1",
   "metadata": {},
   "source": [
    "1. Mutable datatypes.\n",
    "Mutable data types in Python can be defined as the datatypes that can be changed or modified. \n",
    "\n",
    "Mutable means the ability to modify or edit a value.\n",
    "\n",
    "2. Immutable datatypes.\n",
    "Immutable data types in Python can be defined as the data types that cannot be changed or modified over time. \n",
    "\n",
    "These dataypes become permanent once created and initialized.\n"
   ]
  },
  {
   "cell_type": "markdown",
   "id": "dd152245",
   "metadata": {},
   "source": [
    "examples for mutable data types are :\n",
    "    list,dictionaries,sets etc..,\n",
    "    "
   ]
  },
  {
   "cell_type": "code",
   "execution_count": 8,
   "id": "bd505836",
   "metadata": {},
   "outputs": [
    {
     "data": {
      "text/plain": [
       "[1, 2, 3]"
      ]
     },
     "execution_count": 8,
     "metadata": {},
     "output_type": "execute_result"
    }
   ],
   "source": [
    "a=[1,2,3]\n",
    "a"
   ]
  },
  {
   "cell_type": "code",
   "execution_count": 9,
   "id": "8357cde6",
   "metadata": {},
   "outputs": [],
   "source": [
    "a[0]= 1000"
   ]
  },
  {
   "cell_type": "code",
   "execution_count": 10,
   "id": "57e10169",
   "metadata": {},
   "outputs": [
    {
     "data": {
      "text/plain": [
       "[1000, 2, 3]"
      ]
     },
     "execution_count": 10,
     "metadata": {},
     "output_type": "execute_result"
    }
   ],
   "source": [
    "a"
   ]
  },
  {
   "cell_type": "markdown",
   "id": "761b437f",
   "metadata": {},
   "source": [
    "In the above example we can see that the list data as been modified."
   ]
  },
  {
   "cell_type": "markdown",
   "id": "84e4cbf5",
   "metadata": {},
   "source": [
    "examples for immutable data types are : tuples,strings etc..,"
   ]
  },
  {
   "cell_type": "code",
   "execution_count": 11,
   "id": "7af2d85f",
   "metadata": {},
   "outputs": [
    {
     "data": {
      "text/plain": [
       "(1, 2, 3)"
      ]
     },
     "execution_count": 11,
     "metadata": {},
     "output_type": "execute_result"
    }
   ],
   "source": [
    "tup=(1,2,3)\n",
    "tup"
   ]
  },
  {
   "cell_type": "code",
   "execution_count": 13,
   "id": "ae56f40a",
   "metadata": {},
   "outputs": [
    {
     "ename": "SyntaxError",
     "evalue": "cannot assign to function call (781116659.py, line 1)",
     "output_type": "error",
     "traceback": [
      "\u001b[1;36m  File \u001b[1;32m\"C:\\Users\\Bharath\\AppData\\Local\\Temp\\ipykernel_14100\\781116659.py\"\u001b[1;36m, line \u001b[1;32m1\u001b[0m\n\u001b[1;33m    tup(1)=23\u001b[0m\n\u001b[1;37m    ^\u001b[0m\n\u001b[1;31mSyntaxError\u001b[0m\u001b[1;31m:\u001b[0m cannot assign to function call\n"
     ]
    }
   ],
   "source": [
    "tup(1)=23"
   ]
  },
  {
   "cell_type": "markdown",
   "id": "bb2846b4",
   "metadata": {},
   "source": [
    "In the above example we can see that the data of the tuple is not getting modified."
   ]
  },
  {
   "cell_type": "markdown",
   "id": "ffb06acc",
   "metadata": {},
   "source": [
    "Therefore from the above properties of the codes,we can say that the mutable datatypes are the one which can be modified.\n",
    "immutable cannot be modified."
   ]
  },
  {
   "cell_type": "markdown",
   "id": "930a362f",
   "metadata": {},
   "source": [
    "# -----------------------------End-----------------------------"
   ]
  },
  {
   "cell_type": "code",
   "execution_count": null,
   "id": "b7e3fbc9",
   "metadata": {},
   "outputs": [],
   "source": []
  }
 ],
 "metadata": {
  "kernelspec": {
   "display_name": "Python 3 (ipykernel)",
   "language": "python",
   "name": "python3"
  },
  "language_info": {
   "codemirror_mode": {
    "name": "ipython",
    "version": 3
   },
   "file_extension": ".py",
   "mimetype": "text/x-python",
   "name": "python",
   "nbconvert_exporter": "python",
   "pygments_lexer": "ipython3",
   "version": "3.9.13"
  }
 },
 "nbformat": 4,
 "nbformat_minor": 5
}
