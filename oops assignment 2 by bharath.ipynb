{
 "cells": [
  {
   "cell_type": "markdown",
   "id": "67407e12",
   "metadata": {},
   "source": [
    "# OOPs ASSIGNMENT 2"
   ]
  },
  {
   "cell_type": "markdown",
   "id": "a0a3eeb4",
   "metadata": {},
   "source": [
    "**Q1. What is Abstraction in OOps? Explain with an example.**"
   ]
  },
  {
   "cell_type": "markdown",
   "id": "226db122",
   "metadata": {},
   "source": [
    "Solution:"
   ]
  },
  {
   "cell_type": "markdown",
   "id": "459b5445",
   "metadata": {},
   "source": [
    "In object-oriented programming (OOP), abstraction is a concept that allows you to focus on the essential characteristics of an object or a system while ignoring the irrelevant details. It helps in simplifying complex systems by breaking them down into smaller, more manageable parts.\n",
    "\n",
    "Abstraction provides a way to create abstract classes or interfaces that define a set of methods or properties without providing their implementation details. These abstract classes or interfaces serve as a blueprint for other classes to inherit from, and the derived classes provide the actual implementation of the abstract methods.\n",
    "\n",
    "Here's an example to illustrate abstraction:"
   ]
  },
  {
   "cell_type": "code",
   "execution_count": 2,
   "id": "fddf3ed6",
   "metadata": {},
   "outputs": [
    {
     "name": "stdout",
     "output_type": "stream",
     "text": [
      "Woof!\n",
      "Meow!\n"
     ]
    }
   ],
   "source": [
    "from abc import ABC, abstractmethod\n",
    "\n",
    "class Animal(ABC):\n",
    "    def __init__(self, name):\n",
    "        self.name = name\n",
    "    \n",
    "    @abstractmethod\n",
    "    def sound(self):\n",
    "        pass\n",
    "\n",
    "class Dog(Animal):\n",
    "    def sound(self):\n",
    "        return \"Woof!\"\n",
    "\n",
    "class Cat(Animal):\n",
    "    def sound(self):\n",
    "        return \"Meow!\"\n",
    "\n",
    "# Creating objects of derived classes\n",
    "dog = Dog(\"Tommy\")\n",
    "cat = Cat(\"Whiskers\")\n",
    "\n",
    "# Calling the abstract method\n",
    "print(dog.sound())  # Output: Woof!\n",
    "print(cat.sound())  # Output: Meow!\n"
   ]
  },
  {
   "cell_type": "markdown",
   "id": "2b88d22c",
   "metadata": {},
   "source": [
    "In the example above, we have an abstract base class called Animal, which defines an abstract method sound(). This method is meant to be implemented by the derived classes. The abstract base class cannot be instantiated directly; it provides a common interface for its derived classes.\n",
    "\n",
    "The derived classes Dog and Cat inherit from the Animal class and provide their own implementation of the sound() method. By using abstraction, we can define the common behavior (the sound() method) for different types of animals without worrying about their specific implementations.\n",
    "\n",
    "\n",
    "\n",
    "\n",
    "\n",
    "\n"
   ]
  },
  {
   "cell_type": "markdown",
   "id": "ed1806ab",
   "metadata": {},
   "source": [
    "**Q2. Differentiate between Abstraction and Encapsulation. Explain with an example.**"
   ]
  },
  {
   "cell_type": "markdown",
   "id": "80f14346",
   "metadata": {},
   "source": [
    "Solution:"
   ]
  },
  {
   "cell_type": "markdown",
   "id": "ddf75dfb",
   "metadata": {},
   "source": [
    "1.Abstraction:\n",
    "\n",
    "Abstraction focuses on hiding the internal details or complexities of a system and exposing only the essential features or behavior.\n",
    "\n",
    "It allows you to create abstract classes or interfaces that define a set of methods or properties without providing their implementation details.\n",
    "\n",
    "Abstraction helps in simplifying complex systems by breaking them down into smaller, more manageable parts.\n",
    "\n",
    "It provides a way to define a common interface for a group of related classes, allowing them to be interchangeable and promoting code reusability.\n",
    "\n",
    "2.Encapsulation:\n",
    "\n",
    "Encapsulation is the process of bundling data and the methods that operate on that data into a single unit, called a class.\n",
    "\n",
    "It involves hiding the internal state of an object and providing controlled access to it through methods or properties.\n",
    "\n",
    "Encapsulation helps in achieving data abstraction and protects the integrity of an object's data by preventing direct access or manipulation from outside the class.\n",
    "\n",
    "It allows for better maintainability and flexibility by providing a clear separation between the implementation details and the interface of a class.\n",
    "\n",
    "Here's an example that demonstrates both abstraction and encapsulation:\n",
    "\n",
    "ABSTRACTION:"
   ]
  },
  {
   "cell_type": "code",
   "execution_count": 3,
   "id": "ebc0f3de",
   "metadata": {},
   "outputs": [
    {
     "name": "stdout",
     "output_type": "stream",
     "text": [
      "50\n",
      "30\n",
      "153.86\n",
      "43.96\n"
     ]
    }
   ],
   "source": [
    "from abc import ABC, abstractmethod\n",
    "\n",
    "class Shape(ABC):\n",
    "    @abstractmethod\n",
    "    def area(self):\n",
    "        pass\n",
    "\n",
    "    @abstractmethod\n",
    "    def perimeter(self):\n",
    "        pass\n",
    "\n",
    "class Rectangle(Shape):\n",
    "    def __init__(self, length, width):\n",
    "        self.length = length\n",
    "        self.width = width\n",
    "\n",
    "    def area(self):\n",
    "        return self.length * self.width\n",
    "\n",
    "    def perimeter(self):\n",
    "        return 2 * (self.length + self.width)\n",
    "\n",
    "class Circle(Shape):\n",
    "    def __init__(self, radius):\n",
    "        self.radius = radius\n",
    "\n",
    "    def area(self):\n",
    "        return 3.14 * self.radius**2\n",
    "\n",
    "    def perimeter(self):\n",
    "        return 2 * 3.14 * self.radius\n",
    "\n",
    "# Creating objects of derived classes\n",
    "rectangle = Rectangle(5, 10)\n",
    "circle = Circle(7)\n",
    "\n",
    "# Calling the abstract methods\n",
    "print(rectangle.area())  # Output: 50\n",
    "print(rectangle.perimeter())  # Output: 30\n",
    "print(circle.area())  # Output: 153.86\n",
    "print(circle.perimeter())  # Output: 43.96\n"
   ]
  },
  {
   "cell_type": "markdown",
   "id": "012e40ea",
   "metadata": {},
   "source": [
    "ENCAPSULATION"
   ]
  },
  {
   "cell_type": "code",
   "execution_count": 4,
   "id": "73088205",
   "metadata": {},
   "outputs": [
    {
     "name": "stdout",
     "output_type": "stream",
     "text": [
      "1\n",
      "John Doe\n",
      "5000\n",
      "6000\n"
     ]
    }
   ],
   "source": [
    "class Employee:\n",
    "    def __init__(self, emp_id, name, salary):\n",
    "        self.__emp_id = emp_id  # Encapsulated private attribute\n",
    "        self.__name = name  # Encapsulated private attribute\n",
    "        self.__salary = salary  # Encapsulated private attribute\n",
    "\n",
    "    def get_emp_id(self):\n",
    "        return self.__emp_id\n",
    "\n",
    "    def get_name(self):\n",
    "        return self.__name\n",
    "\n",
    "    def get_salary(self):\n",
    "        return self.__salary\n",
    "\n",
    "    def set_salary(self, new_salary):\n",
    "        if new_salary > 0:\n",
    "            self.__salary = new_salary\n",
    "\n",
    "# Creating an object of the Employee class\n",
    "emp = Employee(1, \"John Doe\", 5000)\n",
    "\n",
    "# Accessing private attributes using public methods\n",
    "print(emp.get_emp_id())  # Output: 1\n",
    "print(emp.get_name())  # Output: John Doe\n",
    "print(emp.get_salary())  # Output: 5000\n",
    "\n",
    "# Trying to access private attributes directly\n",
    "# print(emp.__emp_id)  # This would raise an AttributeError\n",
    "\n",
    "# Trying to modify private attributes directly\n",
    "# emp.__salary = 6000  # This would create a new instance variable, not modifying the private attribute\n",
    "\n",
    "# Modifying private attributes using public methods\n",
    "emp.set_salary(6000)\n",
    "print(emp.get_salary())  # Output: 6000\n"
   ]
  },
  {
   "cell_type": "markdown",
   "id": "9e125c2b",
   "metadata": {},
   "source": [
    "**Q3. What is abc module in python? Why is it used?**"
   ]
  },
  {
   "cell_type": "markdown",
   "id": "82383372",
   "metadata": {},
   "source": [
    "Solution:"
   ]
  },
  {
   "cell_type": "markdown",
   "id": "e3da6546",
   "metadata": {},
   "source": [
    "The abc module in Python stands for \"Abstract Base Classes.\" It provides infrastructure for defining abstract base classes in Python. Abstract base classes (ABCs) are classes that cannot be instantiated directly and are designed to serve as base classes for derived classes.\n",
    "\n",
    "The abc module is used to create abstract base classes by utilizing the ABC class as a metaclass. By inheriting from ABC and using the @abstractmethod decorator, methods can be defined as abstract methods within the abstract base class. Abstract methods are defined without providing any implementation details.\n",
    "\n",
    "The main purpose of using the abc module and abstract base classes is to establish a common interface or blueprint that derived classes must adhere to. It helps in enforcing a specific structure or set of methods that subclasses should implement. This allows for code reusability, promotes consistency, and enables polymorphism by treating objects of derived classes uniformly based on the shared interface defined by the abstract base class.\n",
    "\n",
    "\n",
    "example:"
   ]
  },
  {
   "cell_type": "code",
   "execution_count": 5,
   "id": "ceb44328",
   "metadata": {},
   "outputs": [
    {
     "name": "stdout",
     "output_type": "stream",
     "text": [
      "Woof!\n",
      "Meow!\n"
     ]
    }
   ],
   "source": [
    "from abc import ABC, abstractmethod\n",
    "\n",
    "class Animal(ABC):\n",
    "    @abstractmethod\n",
    "    def sound(self):\n",
    "        pass\n",
    "\n",
    "class Dog(Animal):\n",
    "    def sound(self):\n",
    "        return \"Woof!\"\n",
    "\n",
    "class Cat(Animal):\n",
    "    def sound(self):\n",
    "        return \"Meow!\"\n",
    "\n",
    "# Creating objects of derived classes\n",
    "dog = Dog()\n",
    "cat = Cat()\n",
    "\n",
    "# Calling the abstract method\n",
    "print(dog.sound())  # Output: Woof!\n",
    "print(cat.sound())  # Output: Meow!\n"
   ]
  },
  {
   "cell_type": "markdown",
   "id": "2bd93c9f",
   "metadata": {},
   "source": [
    "**Q4. How can we achieve data abstraction?**"
   ]
  },
  {
   "cell_type": "markdown",
   "id": "1c174151",
   "metadata": {},
   "source": [
    "Solution:"
   ]
  },
  {
   "cell_type": "markdown",
   "id": "ccfe28d1",
   "metadata": {},
   "source": [
    "Data abstraction can be achieved in Python through the use of classes and objects. Here are some techniques to achieve data abstraction:\n",
    "\n",
    "Class Definition: Define a class that represents the abstraction of a concept or entity. The class should encapsulate the data related to that concept and provide methods to interact with and manipulate the data.\n",
    "\n",
    "Data Encapsulation: Encapsulate the data within the class by making use of access modifiers such as private attributes. By convention, in Python, private attributes are denoted with a double underscore (__) prefix.\n",
    "\n",
    "Accessor Methods: Define getter and setter methods to provide controlled access to the encapsulated data. These methods allow external code to retrieve and modify the data indirectly, without direct access to the private attributes.\n",
    "\n",
    "Method Abstraction: Define methods that perform operations or actions related to the abstraction. These methods provide a way to interact with the data and perform desired functionality. The implementation details of these methods can remain hidden from the external code.\n",
    "\n",
    "Here's an example to illustrate data abstraction:"
   ]
  },
  {
   "cell_type": "code",
   "execution_count": 7,
   "id": "6b2b61e1",
   "metadata": {},
   "outputs": [
    {
     "name": "stdout",
     "output_type": "stream",
     "text": [
      "123456789\n",
      "1000\n",
      "1500\n",
      "1300\n"
     ]
    }
   ],
   "source": [
    "class BankAccount:\n",
    "    def __init__(self, account_number, balance):\n",
    "        self.__account_number = account_number\n",
    "        self.__balance = balance\n",
    "\n",
    "    def get_account_number(self):\n",
    "        return self.__account_number\n",
    "\n",
    "    def get_balance(self):\n",
    "        return self.__balance\n",
    "\n",
    "    def deposit(self, amount):\n",
    "        if amount > 0:\n",
    "            self.__balance += amount\n",
    "\n",
    "    def withdraw(self, amount):\n",
    "        if 0 < amount <= self.__balance:\n",
    "            self.__balance -= amount\n",
    "\n",
    "# Creating an object of the BankAccount class\n",
    "account = BankAccount(\"123456789\", 1000)\n",
    "\n",
    "# Accessing the encapsulated data using accessor methods\n",
    "print(account.get_account_number())  # Output: 123456789\n",
    "print(account.get_balance())  # Output: 1000\n",
    "\n",
    "# Modifying the data using methods\n",
    "account.deposit(500)\n",
    "print(account.get_balance())  # Output: 1500\n",
    "\n",
    "account.withdraw(200)\n",
    "print(account.get_balance())  # Output: 1300\n"
   ]
  },
  {
   "cell_type": "markdown",
   "id": "2e6dc0f6",
   "metadata": {},
   "source": [
    "**Q5. Can we create an instance of an abstract class? Explain your answer.**"
   ]
  },
  {
   "cell_type": "markdown",
   "id": "717330a3",
   "metadata": {},
   "source": [
    "Solution:"
   ]
  },
  {
   "cell_type": "markdown",
   "id": "9e0e7305",
   "metadata": {},
   "source": [
    "No, we cannot create an instance of an abstract class in Python. Attempting to create an instance of an abstract class will result in a TypeError.\n",
    "\n",
    "Abstract classes are designed to be incomplete and serve as blueprints for derived classes. They contain one or more abstract methods that do not have any implementation details. These abstract methods act as placeholders and must be implemented by the derived classes."
   ]
  },
  {
   "cell_type": "markdown",
   "id": "79b4ab1b",
   "metadata": {},
   "source": [
    "example to demonstrate that we cannot create an instance of an abstract class in Python:"
   ]
  },
  {
   "cell_type": "code",
   "execution_count": 9,
   "id": "ff54a8f6",
   "metadata": {},
   "outputs": [
    {
     "ename": "TypeError",
     "evalue": "Can't instantiate abstract class AbstractClass with abstract method abstract_method",
     "output_type": "error",
     "traceback": [
      "\u001b[1;31m---------------------------------------------------------------------------\u001b[0m",
      "\u001b[1;31mTypeError\u001b[0m                                 Traceback (most recent call last)",
      "\u001b[1;32m~\\AppData\\Local\\Temp\\ipykernel_30700\\3612789097.py\u001b[0m in \u001b[0;36m<module>\u001b[1;34m\u001b[0m\n\u001b[0;32m      7\u001b[0m \u001b[1;33m\u001b[0m\u001b[0m\n\u001b[0;32m      8\u001b[0m \u001b[1;31m# Trying to create an instance of the abstract class\u001b[0m\u001b[1;33m\u001b[0m\u001b[1;33m\u001b[0m\u001b[0m\n\u001b[1;32m----> 9\u001b[1;33m \u001b[0minstance\u001b[0m \u001b[1;33m=\u001b[0m \u001b[0mAbstractClass\u001b[0m\u001b[1;33m(\u001b[0m\u001b[1;33m)\u001b[0m  \u001b[1;31m# This line will raise a TypeError\u001b[0m\u001b[1;33m\u001b[0m\u001b[1;33m\u001b[0m\u001b[0m\n\u001b[0m",
      "\u001b[1;31mTypeError\u001b[0m: Can't instantiate abstract class AbstractClass with abstract method abstract_method"
     ]
    }
   ],
   "source": [
    "from abc import ABC, abstractmethod\n",
    "\n",
    "class AbstractClass(ABC):\n",
    "    @abstractmethod\n",
    "    def abstract_method(self):\n",
    "        pass\n",
    "\n",
    "# Trying to create an instance of the abstract class\n",
    "instance = AbstractClass()  # This line will raise a TypeError\n"
   ]
  },
  {
   "cell_type": "markdown",
   "id": "0c412c4b",
   "metadata": {},
   "source": [
    "In this code, we define an abstract class called AbstractClass that inherits from ABC, the abstract base class provided by the abc module. The class has one abstract method called abstract_method() defined using the @abstractmethod decorator.\n",
    "\n",
    "When we try to create an instance of the AbstractClass using the line instance = AbstractClass(), it will raise a TypeError. This error occurs because the class is marked as abstract and contains an abstract method without an implementation. As a result, we cannot directly instantiate the abstract class."
   ]
  },
  {
   "cell_type": "markdown",
   "id": "9e37266f",
   "metadata": {},
   "source": [
    "# ----------------------------------------------------END-----------------------------------------------------"
   ]
  }
 ],
 "metadata": {
  "kernelspec": {
   "display_name": "Python 3 (ipykernel)",
   "language": "python",
   "name": "python3"
  },
  "language_info": {
   "codemirror_mode": {
    "name": "ipython",
    "version": 3
   },
   "file_extension": ".py",
   "mimetype": "text/x-python",
   "name": "python",
   "nbconvert_exporter": "python",
   "pygments_lexer": "ipython3",
   "version": "3.9.13"
  }
 },
 "nbformat": 4,
 "nbformat_minor": 5
}
