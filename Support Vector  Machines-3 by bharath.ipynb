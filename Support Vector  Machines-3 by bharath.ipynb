{
 "cells": [
  {
   "cell_type": "markdown",
   "id": "432ce6ea",
   "metadata": {},
   "source": [
    "# Support Vector  Machines-3\n"
   ]
  },
  {
   "cell_type": "markdown",
   "id": "187d40c8",
   "metadata": {},
   "source": [
    "Q1. In order to predict house price based on several characteristics, such as location, square footage, \n",
    "number of bedrooms, etc., you are developing an SVM regression model. Which regression metric in this \n",
    "situation would be the best to employ?\n",
    " \n",
    "Q2. You have built an SVM regression model and are trying to decide between using MSE or R-squared as \n",
    "your evaluation metric. Which metric would be more appropriate if your goal is to predict the actual price \n",
    "of a house as accurately as possible?\n",
    "\n",
    "Q3. You have a dataset with a significant number of outliers and are trying to select an appropriate \n",
    "regression metric to use with your SVM model. Which metric would be the most appropriate in this \n",
    "scenario?\n",
    "\n",
    "Q4. You have built an SVM regression model using a polynomial kernel and are trying to select the best \n",
    "metric to evaluate its performance. You have calculated both MSE and RMSE and found that both values \n",
    "are very close. Which metric should you choose to use in this case?\n",
    "\n",
    "Q5. You are comparing the performance of different SVM regression models using different kernels (linear, \n",
    "polynomial, and RBF) and are trying to select the best evaluation metric. Which metric would be most \n",
    "appropriate if your goal is to measure how well the model explains the variance in the target variable?\n",
    "https://drive.google.com/file/d/1Z9oLpmt6IDRNw7IeNcHYTGeJRYypRSC0/view?\n",
    "usp=share_lin"
   ]
  },
  {
   "cell_type": "markdown",
   "id": "41c5a304",
   "metadata": {},
   "source": [
    "# SOLUTIONS"
   ]
  },
  {
   "cell_type": "markdown",
   "id": "9eba7989",
   "metadata": {},
   "source": [
    "Q1. In order to predict house price based on several characteristics, such as location, square footage, number of bedrooms, etc., you are developing an SVM regression model. Which regression metric in this situation would be the best to employ?\n",
    "\n",
    "For predicting house prices in a regression problem, several regression metrics can be used to evaluate the model's performance. One of the commonly used metrics in this scenario is **Mean Squared Error (MSE)**. MSE measures the average squared difference between the predicted and actual house prices. Lower MSE values indicate better predictive accuracy. Other relevant regression metrics for this scenario may include Root Mean Squared Error (RMSE), Mean Absolute Error (MAE), or R-squared (R²).\n",
    "\n",
    "Q2. You have built an SVM regression model and are trying to decide between using MSE or R-squared as your evaluation metric. Which metric would be more appropriate if your goal is to predict the actual price of a house as accurately as possible?\n",
    "\n",
    "If your goal is to predict the actual price of a house as accurately as possible, **MSE (Mean Squared Error)** would be a more appropriate evaluation metric. MSE penalizes large prediction errors more heavily because it squares the differences between predicted and actual values. This means that the model will be more sensitive to outliers and will strive to minimize the errors in individual predictions. Lower MSE indicates a better-fitting model.\n",
    "\n",
    "R-squared (R²), on the other hand, measures the proportion of the variance in the target variable that is explained by the model. While R² provides an indication of how well the model explains the variance, it doesn't directly measure the accuracy of individual predictions. In this case, you are more concerned with the accuracy of house price predictions, making MSE a better choice.\n",
    "\n",
    "Q3. You have a dataset with a significant number of outliers and are trying to select an appropriate regression metric to use with your SVM model. Which metric would be the most appropriate in this scenario?\n",
    "\n",
    "When dealing with a dataset that contains a significant number of outliers, it's often better to use a robust regression metric that is less sensitive to outliers. In such cases, **Mean Absolute Error (MAE)** is a more appropriate choice than Mean Squared Error (MSE). \n",
    "\n",
    "MSE heavily penalizes large errors because it squares the differences between predicted and actual values, making it sensitive to outliers. On the other hand, MAE calculates the absolute differences between predicted and actual values, which gives equal weight to all errors, making it more robust in the presence of outliers.\n",
    "\n",
    "Q4. You have built an SVM regression model using a polynomial kernel and are trying to select the best metric to evaluate its performance. You have calculated both MSE and RMSE and found that both values are very close. Which metric should you choose to use in this case?\n",
    "\n",
    "If you have calculated both Mean Squared Error (MSE) and Root Mean Squared Error (RMSE) and found that both values are very close, it is generally sufficient to use the **RMSE** as the evaluation metric. RMSE is essentially the square root of MSE, and it provides a measure of the average magnitude of prediction errors in the same units as the target variable (e.g., dollars for house prices). \n",
    "\n",
    "RMSE is often preferred when you want to provide a more interpretable metric that is directly related to the scale of the problem. It's especially useful when communicating results to stakeholders or interpreting the significance of prediction errors in practical terms.\n",
    "\n",
    "Q5. You are comparing the performance of different SVM regression models using different kernels (linear, polynomial, and RBF) and are trying to select the best evaluation metric. Which metric would be most appropriate if your goal is to measure how well the model explains the variance in the target variable?\n",
    "\n",
    "If your goal is to measure how well the model explains the variance in the target variable, then the most appropriate evaluation metric would be **R-squared (R²)**, also known as the coefficient of determination. R-squared quantifies the proportion of the variance in the target variable that is explained by the model. It provides a measure of the goodness of fit, with values between 0 and 1.\n",
    "\n",
    "- An R² value of 1 indicates that the model explains all the variance, which is a perfect fit.\n",
    "- An R² value of 0 indicates that the model does not explain any variance, which is a poor fit.\n",
    "- Values between 0 and 1 indicate the proportion of variance explained, where higher values indicate better explanatory power.\n",
    "\n",
    "R-squared is particularly useful when comparing different regression models with different kernels because it provides a standardized measure of how well each model captures the variance in the target variable, regardless of the kernel used."
   ]
  },
  {
   "cell_type": "code",
   "execution_count": null,
   "id": "443688d6",
   "metadata": {},
   "outputs": [],
   "source": []
  }
 ],
 "metadata": {
  "kernelspec": {
   "display_name": "Python 3 (ipykernel)",
   "language": "python",
   "name": "python3"
  },
  "language_info": {
   "codemirror_mode": {
    "name": "ipython",
    "version": 3
   },
   "file_extension": ".py",
   "mimetype": "text/x-python",
   "name": "python",
   "nbconvert_exporter": "python",
   "pygments_lexer": "ipython3",
   "version": "3.9.13"
  }
 },
 "nbformat": 4,
 "nbformat_minor": 5
}
