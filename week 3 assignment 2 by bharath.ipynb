{
 "cells": [
  {
   "cell_type": "markdown",
   "id": "89e5a79e",
   "metadata": {},
   "source": [
    "# WEEK 3 ASSIGNMENT 2"
   ]
  },
  {
   "cell_type": "markdown",
   "id": "5edd209e",
   "metadata": {},
   "source": [
    "**Q1. Create a python program to sort the given list of tuples based on integer value using a\n",
    "lambda function.[('Sachin Tendulkar', 34357), ('Ricky Ponting', 27483), ('Jack Kallis', 25534), ('Virat Kohli', 24936)]**"
   ]
  },
  {
   "cell_type": "markdown",
   "id": "a5366bff",
   "metadata": {},
   "source": [
    "Solution:"
   ]
  },
  {
   "cell_type": "code",
   "execution_count": 2,
   "id": "456247f6",
   "metadata": {},
   "outputs": [
    {
     "name": "stdout",
     "output_type": "stream",
     "text": [
      "('Virat Kohli', 24936)\n",
      "('Jack Kallis', 25534)\n",
      "('Ricky Ponting', 27483)\n",
      "('Sachin Tendulkar', 34357)\n"
     ]
    }
   ],
   "source": [
    "# List of tuples\n",
    "my_list = [('Sachin Tendulkar', 34357), ('Ricky Ponting', 27483), ('Jack Kallis', 25534), ('Virat Kohli', 24936)]\n",
    "\n",
    "# Sort the list based on the integer value\n",
    "sorted_list = sorted(my_list, key=lambda x: x[1])\n",
    "\n",
    "# Print the sorted list\n",
    "for item in sorted_list:\n",
    "    print(item)\n"
   ]
  },
  {
   "cell_type": "markdown",
   "id": "96c130e5",
   "metadata": {},
   "source": [
    "In this program, we have the list of tuples my_list with elements containing the name of a player followed by an integer value. We use the sorted() function to sort the list based on the second element (integer value) of each tuple. The key parameter is set to a lambda function lambda x: x[1], which specifies that the sorting should be based on the second element (integer value)."
   ]
  },
  {
   "cell_type": "markdown",
   "id": "498df80f",
   "metadata": {},
   "source": [
    "**Q2. Write a Python Program to find the squares of all the numbers in the given list of integers using\n",
    "lambda and map functions.\n",
    "[1, 2, 3, 4, 5, 6, 7, 8, 9, 10]**"
   ]
  },
  {
   "cell_type": "markdown",
   "id": "849b0dfa",
   "metadata": {},
   "source": [
    "Solution:"
   ]
  },
  {
   "cell_type": "code",
   "execution_count": 4,
   "id": "4a3cc58a",
   "metadata": {},
   "outputs": [
    {
     "name": "stdout",
     "output_type": "stream",
     "text": [
      "[1, 4, 9, 16, 25, 36, 49, 64, 81, 100]\n"
     ]
    }
   ],
   "source": [
    "# List of integers\n",
    "my_list = [1, 2, 3, 4, 5, 6, 7, 8, 9, 10]\n",
    "\n",
    "# Find squares using lambda and map functions\n",
    "squared_list = list(map(lambda x: x**2, my_list))\n",
    "\n",
    "# Print the squared list\n",
    "print(squared_list)\n"
   ]
  },
  {
   "cell_type": "markdown",
   "id": "7981ba84",
   "metadata": {},
   "source": [
    "**Q3. Write a python program to convert the given list of integers into a tuple of strings. Use map and\n",
    "lambda functions\n",
    "Given String: [1, 2, 3, 4, 5, 6, 7, 8, 9, 10]\n",
    "Expected output: ('1', '2', '3', '4', '5', '6', '7', '8', '9', '10')**"
   ]
  },
  {
   "cell_type": "markdown",
   "id": "d3a39753",
   "metadata": {},
   "source": [
    "Solution:"
   ]
  },
  {
   "cell_type": "code",
   "execution_count": 6,
   "id": "83c4500e",
   "metadata": {},
   "outputs": [
    {
     "name": "stdout",
     "output_type": "stream",
     "text": [
      "('1', '2', '3', '4', '5', '6', '7', '8', '9', '10')\n"
     ]
    }
   ],
   "source": [
    "# List of integers\n",
    "my_list = [1, 2, 3, 4, 5, 6, 7, 8, 9, 10]\n",
    "\n",
    "# Convert integers to strings using lambda and map functions\n",
    "string_tuple = tuple(map(lambda x: str(x), my_list))\n",
    "\n",
    "# Print the string tuple\n",
    "print(string_tuple)\n"
   ]
  },
  {
   "cell_type": "markdown",
   "id": "634b8246",
   "metadata": {},
   "source": [
    "**Q4. Write a python program using reduce function to compute the product of a list containing numbers\n",
    "from 1 to 25.**"
   ]
  },
  {
   "cell_type": "markdown",
   "id": "20a139ef",
   "metadata": {},
   "source": [
    "Solution:"
   ]
  },
  {
   "cell_type": "code",
   "execution_count": 7,
   "id": "59070ad6",
   "metadata": {},
   "outputs": [
    {
     "name": "stdout",
     "output_type": "stream",
     "text": [
      "Product: 15511210043330985984000000\n"
     ]
    }
   ],
   "source": [
    "from functools import reduce\n",
    "\n",
    "# List of numbers from 1 to 25\n",
    "number_list = list(range(1, 26))\n",
    "\n",
    "# Compute the product using reduce function\n",
    "product = reduce(lambda x, y: x * y, number_list)\n",
    "\n",
    "# Print the product\n",
    "print(\"Product:\", product)\n"
   ]
  },
  {
   "cell_type": "markdown",
   "id": "e6df93a4",
   "metadata": {},
   "source": [
    "**Q5. Write a python program to filter the numbers in a given list that are divisible by 2 and 3 using the\n",
    "filter function.\n",
    "[2, 3, 6, 9, 27, 60, 90, 120, 55, 46]**"
   ]
  },
  {
   "cell_type": "markdown",
   "id": "bc32dc39",
   "metadata": {},
   "source": [
    "Solution:"
   ]
  },
  {
   "cell_type": "code",
   "execution_count": 8,
   "id": "dba9a261",
   "metadata": {},
   "outputs": [
    {
     "name": "stdout",
     "output_type": "stream",
     "text": [
      "[6, 60, 90, 120]\n"
     ]
    }
   ],
   "source": [
    "# List of numbers\n",
    "number_list = [2, 3, 6, 9, 27, 60, 90, 120, 55, 46]\n",
    "\n",
    "# Filter numbers divisible by 2 and 3 using filter function\n",
    "filtered_list = list(filter(lambda x: x % 2 == 0 and x % 3 == 0, number_list))\n",
    "\n",
    "# Print the filtered list\n",
    "print(filtered_list)\n"
   ]
  },
  {
   "cell_type": "markdown",
   "id": "952621d9",
   "metadata": {},
   "source": [
    "**Q6. Write a python program to find palindromes in the given list of strings using lambda and filter\n",
    "function.\n",
    "['python', 'php', 'aba', 'radar', 'level']**"
   ]
  },
  {
   "cell_type": "markdown",
   "id": "1546df23",
   "metadata": {},
   "source": [
    "Solution:"
   ]
  },
  {
   "cell_type": "code",
   "execution_count": 10,
   "id": "6e4f445d",
   "metadata": {},
   "outputs": [
    {
     "name": "stdout",
     "output_type": "stream",
     "text": [
      "['php', 'aba', 'radar', 'level']\n"
     ]
    }
   ],
   "source": [
    "# List of strings\n",
    "string_list = ['python', 'php', 'aba', 'radar', 'level']\n",
    "\n",
    "# Filter palindromes using lambda and filter functions\n",
    "palindrome_list = list(filter(lambda x: x == x[::-1], string_list))\n",
    "\n",
    "# Print the palindrome list\n",
    "print(palindrome_list)\n"
   ]
  },
  {
   "cell_type": "markdown",
   "id": "0322c88d",
   "metadata": {},
   "source": [
    "# ---------------------------------------------------END-----------------------------------------------------"
   ]
  }
 ],
 "metadata": {
  "kernelspec": {
   "display_name": "Python 3 (ipykernel)",
   "language": "python",
   "name": "python3"
  },
  "language_info": {
   "codemirror_mode": {
    "name": "ipython",
    "version": 3
   },
   "file_extension": ".py",
   "mimetype": "text/x-python",
   "name": "python",
   "nbconvert_exporter": "python",
   "pygments_lexer": "ipython3",
   "version": "3.9.13"
  }
 },
 "nbformat": 4,
 "nbformat_minor": 5
}
