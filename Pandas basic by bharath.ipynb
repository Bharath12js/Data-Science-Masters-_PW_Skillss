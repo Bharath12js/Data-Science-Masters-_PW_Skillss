{
 "cells": [
  {
   "cell_type": "markdown",
   "id": "7ba4f08e",
   "metadata": {},
   "source": [
    "#  PANDAS BASIC ASSIGNMENT"
   ]
  },
  {
   "cell_type": "markdown",
   "id": "94afc7c1",
   "metadata": {},
   "source": [
    "**Q1. Create a Pandas Series that contains the following data: 4, 8, 15, 16, 23, and 42. Then, print the series.**\n",
    "\n",
    "Solution:"
   ]
  },
  {
   "cell_type": "code",
   "execution_count": 4,
   "id": "66151f74",
   "metadata": {},
   "outputs": [
    {
     "name": "stdout",
     "output_type": "stream",
     "text": [
      "0     4\n",
      "1     8\n",
      "2    15\n",
      "3    16\n",
      "4    23\n",
      "5    42\n",
      "dtype: int64\n"
     ]
    }
   ],
   "source": [
    "import pandas as pd\n",
    "\n",
    "series = pd.Series([4, 8, 15, 16, 23, 42])\n",
    "\n",
    "print(series)\n"
   ]
  },
  {
   "cell_type": "markdown",
   "id": "78d0762d",
   "metadata": {},
   "source": [
    "**Q2. Create a variable of list type containing 10 elements in it, and apply pandas.Series function on the\n",
    "variable print it.**\n",
    "\n",
    "Solution:"
   ]
  },
  {
   "cell_type": "code",
   "execution_count": 5,
   "id": "6915d845",
   "metadata": {},
   "outputs": [
    {
     "name": "stdout",
     "output_type": "stream",
     "text": [
      "0     1\n",
      "1     2\n",
      "2     3\n",
      "3     4\n",
      "4     5\n",
      "5     6\n",
      "6     7\n",
      "7     8\n",
      "8     9\n",
      "9    10\n",
      "dtype: int64\n"
     ]
    }
   ],
   "source": [
    "import pandas as pd\n",
    "\n",
    "my_list = [1, 2, 3, 4, 5, 6, 7, 8, 9, 10]\n",
    "series = pd.Series(my_list)\n",
    "\n",
    "print(series)\n"
   ]
  },
  {
   "cell_type": "markdown",
   "id": "e223cde1",
   "metadata": {},
   "source": [
    "**Q3. Create a Pandas DataFrame that contains the following data:**"
   ]
  },
  {
   "attachments": {
    "Screenshot%202023-07-02%20120655.png": {
     "image/png": "[encoded data removed]"
    }
   },
   "cell_type": "markdown",
   "id": "0fa48c71",
   "metadata": {},
   "source": [
    "![Screenshot%202023-07-02%20120655.png](attachment:Screenshot%202023-07-02%20120655.png)"
   ]
  },
  {
   "cell_type": "markdown",
   "id": "dac0a21d",
   "metadata": {},
   "source": [
    "**Then, print the DataFrame.**"
   ]
  },
  {
   "cell_type": "markdown",
   "id": "815de323",
   "metadata": {},
   "source": [
    "Solution:"
   ]
  },
  {
   "cell_type": "code",
   "execution_count": 7,
   "id": "962dad24",
   "metadata": {},
   "outputs": [
    {
     "data": {
      "text/html": [
       "<div>\n",
       "<style scoped>\n",
       "    .dataframe tbody tr th:only-of-type {\n",
       "        vertical-align: middle;\n",
       "    }\n",
       "\n",
       "    .dataframe tbody tr th {\n",
       "        vertical-align: top;\n",
       "    }\n",
       "\n",
       "    .dataframe thead th {\n",
       "        text-align: right;\n",
       "    }\n",
       "</style>\n",
       "<table border=\"1\" class=\"dataframe\">\n",
       "  <thead>\n",
       "    <tr style=\"text-align: right;\">\n",
       "      <th></th>\n",
       "      <th>Name</th>\n",
       "      <th>Age</th>\n",
       "      <th>Gender</th>\n",
       "    </tr>\n",
       "  </thead>\n",
       "  <tbody>\n",
       "    <tr>\n",
       "      <th>0</th>\n",
       "      <td>Alice</td>\n",
       "      <td>25</td>\n",
       "      <td>Female</td>\n",
       "    </tr>\n",
       "    <tr>\n",
       "      <th>1</th>\n",
       "      <td>Bob</td>\n",
       "      <td>30</td>\n",
       "      <td>Male</td>\n",
       "    </tr>\n",
       "    <tr>\n",
       "      <th>2</th>\n",
       "      <td>Claire</td>\n",
       "      <td>27</td>\n",
       "      <td>Female</td>\n",
       "    </tr>\n",
       "  </tbody>\n",
       "</table>\n",
       "</div>"
      ],
      "text/plain": [
       "     Name  Age  Gender\n",
       "0   Alice   25  Female\n",
       "1     Bob   30    Male\n",
       "2  Claire   27  Female"
      ]
     },
     "execution_count": 7,
     "metadata": {},
     "output_type": "execute_result"
    }
   ],
   "source": [
    "import pandas as pd\n",
    "\n",
    "df=pd.DataFrame({'Name':['Alice','Bob','Claire'],'Age':[25,30,27],'Gender':['Female','Male','Female']})\n",
    "\n",
    "df"
   ]
  },
  {
   "cell_type": "markdown",
   "id": "9f35de22",
   "metadata": {},
   "source": [
    "**Q4. What is ‘DataFrame’ in pandas and how is it different from pandas.series? Explain with an example.**\n",
    "\n",
    "Solution:"
   ]
  },
  {
   "cell_type": "markdown",
   "id": "c745fce6",
   "metadata": {},
   "source": [
    "In Pandas, a DataFrame is a two-dimensional data structure that can store and manipulate data. It is similar to a table or a spreadsheet, where data is organized in rows and columns. Each column in a DataFrame represents a variable, while each row represents an observation or a set of values related to that observation.\n",
    "\n",
    "On the other hand, a Series is a one-dimensional data structure in Pandas. It can be thought of as a single column of data with an associated index. A Series is often used to represent a single variable or a sequence of data points.\n",
    "\n",
    "Here's an example to illustrate the difference between a DataFrame and a Series:"
   ]
  },
  {
   "cell_type": "code",
   "execution_count": 8,
   "id": "c806d090",
   "metadata": {},
   "outputs": [
    {
     "name": "stdout",
     "output_type": "stream",
     "text": [
      "    Name  Age Country\n",
      "0   John   25     USA\n",
      "1  Alice   30  Canada\n",
      "2    Bob   35      UK\n"
     ]
    }
   ],
   "source": [
    "import pandas as pd\n",
    "\n",
    "# Example DataFrame\n",
    "data = {'Name': ['John', 'Alice', 'Bob'],\n",
    "        'Age': [25, 30, 35],\n",
    "        'Country': ['USA', 'Canada', 'UK']}\n",
    "\n",
    "df = pd.DataFrame(data)\n",
    "print(df)\n"
   ]
  },
  {
   "cell_type": "markdown",
   "id": "18b4db96",
   "metadata": {},
   "source": [
    "In this example, we create a DataFrame called df from a dictionary data. The dictionary contains three key-value pairs, where the keys represent the column names ('Name', 'Age', 'Country') and the values represent the data for each column. The resulting DataFrame has three columns and three rows, representing the Name, Age, and Country of each person.\n",
    "\n",
    "Now let's see an example of a Series:"
   ]
  },
  {
   "cell_type": "code",
   "execution_count": 9,
   "id": "c93db2d2",
   "metadata": {},
   "outputs": [
    {
     "name": "stdout",
     "output_type": "stream",
     "text": [
      "0     4\n",
      "1     8\n",
      "2    15\n",
      "3    16\n",
      "4    23\n",
      "5    42\n",
      "dtype: int64\n"
     ]
    }
   ],
   "source": [
    "import pandas as pd\n",
    "\n",
    "# Example Series\n",
    "data = [4, 8, 15, 16, 23, 42]\n",
    "series = pd.Series(data)\n",
    "print(series)\n"
   ]
  },
  {
   "cell_type": "markdown",
   "id": "6d772603",
   "metadata": {},
   "source": [
    "In this example, we create a Series called series from a list data. The list contains six elements. The resulting Series has a default index starting from 0, and each element in the list is assigned an index value. The Series represents a single column of data, in this case, a sequence of numbers.\n",
    "\n",
    "To summarize, a DataFrame is a two-dimensional data structure with multiple columns and rows, while a Series is a one-dimensional data structure with a single column of data and an associated index."
   ]
  },
  {
   "cell_type": "markdown",
   "id": "3b0a1fe8",
   "metadata": {},
   "source": [
    "**Q5. What are some common functions you can use to manipulate data in a Pandas DataFrame? Can\n",
    "you give an example of when you might use one of these functions?**\n",
    "\n",
    "Solution:"
   ]
  },
  {
   "cell_type": "markdown",
   "id": "330903f8",
   "metadata": {},
   "source": [
    "Pandas provides a wide range of functions to manipulate data in a DataFrame. Here are some common functions:\n",
    "\n",
    "1. `head()` and `tail()`: These functions are used to view the first few or last few rows of a DataFrame, respectively. They are useful for quickly inspecting the data.\n",
    "\n",
    "Example:\n",
    "```python\n",
    "import pandas as pd\n",
    "\n",
    "df = pd.read_csv('data.csv')  # Assuming 'data.csv' is a CSV file containing the data\n",
    "print(df.head())  # Display the first 5 rows of the DataFrame\n",
    "```\n",
    "\n",
    "2. `describe()`: This function generates descriptive statistics of the numerical columns in the DataFrame, including count, mean, standard deviation, minimum value, 25th percentile, median, 75th percentile, and maximum value. It provides a summary of the data distribution.\n",
    "\n",
    "Example:\n",
    "```python\n",
    "import pandas as pd\n",
    "\n",
    "df = pd.read_csv('data.csv')  # Assuming 'data.csv' is a CSV file containing the data\n",
    "print(df.describe())  # Display the descriptive statistics of the DataFrame\n",
    "```\n",
    "\n",
    "3. `info()`: This function provides a concise summary of the DataFrame, including the column names, data types, and the count of non-null values. It gives an overview of the DataFrame structure and helps identify missing or inconsistent data.\n",
    "\n",
    "Example:\n",
    "```python\n",
    "import pandas as pd\n",
    "\n",
    "df = pd.read_csv('data.csv')  # Assuming 'data.csv' is a CSV file containing the data\n",
    "print(df.info())  # Display the summary information of the DataFrame\n",
    "```\n",
    "\n",
    "4. `drop()`: This function is used to remove rows or columns from the DataFrame. It can be useful when you want to eliminate irrelevant or redundant data.\n",
    "\n",
    "Example:\n",
    "```python\n",
    "import pandas as pd\n",
    "\n",
    "df = pd.read_csv('data.csv')  # Assuming 'data.csv' is a CSV file containing the data\n",
    "df = df.drop(['column1', 'column2'], axis=1)  # Drop specified columns from the DataFrame\n",
    "print(df)\n",
    "```\n",
    "\n",
    "5. `fillna()`: This function is used to fill missing values in the DataFrame with a specified value or a calculated value (e.g., mean, median). It helps handle missing data in a meaningful way.\n",
    "\n",
    "Example:\n",
    "```python\n",
    "import pandas as pd\n",
    "\n",
    "df = pd.read_csv('data.csv')  # Assuming 'data.csv' is a CSV file containing the data\n",
    "df['column1'].fillna(df['column1'].mean(), inplace=True)  # Fill missing values in 'column1' with mean value\n",
    "print(df)\n",
    "```\n",
    "\n",
    "These are just a few examples of the functions available in Pandas for manipulating data in a DataFrame. Depending on the specific task or analysis you want to perform, there are many more functions and methods that can be applied to manipulate, transform, filter, aggregate, or visualize data in a DataFrame."
   ]
  },
  {
   "cell_type": "markdown",
   "id": "94f427e0",
   "metadata": {},
   "source": [
    "**Q6. Which of the following is mutable in nature Series, DataFrame, Panel?**\n",
    "\n",
    "Solution:"
   ]
  },
  {
   "cell_type": "markdown",
   "id": "16fe2868",
   "metadata": {},
   "source": [
    "Among the options provided (Series, DataFrame, Panel), both Series and DataFrame are mutable in nature, while Panel is not.\n",
    "\n",
    "1. Series: A Series in Pandas is mutable, meaning you can modify its elements, change the index values, or add/remove elements after it is created.\n",
    "\n",
    "Example:\n",
    "```python\n",
    "import pandas as pd\n",
    "\n",
    "series = pd.Series([1, 2, 3, 4, 5])  # Creating a Series\n",
    "series[0] = 10  # Modifying an element\n",
    "series[5] = 6  # Adding a new element\n",
    "del series[1]  # Removing an element\n",
    "```\n",
    "\n",
    "2. DataFrame: A DataFrame in Pandas is also mutable. You can modify the values of specific cells, add or remove columns, update row values, and perform various other operations to change the data within a DataFrame.\n",
    "\n",
    "Example:\n",
    "```python\n",
    "import pandas as pd\n",
    "\n",
    "data = {'Name': ['John', 'Alice', 'Bob'],\n",
    "        'Age': [25, 30, 35]}\n",
    "df = pd.DataFrame(data)  # Creating a DataFrame\n",
    "df.loc[0, 'Age'] = 26  # Modifying a cell value\n",
    "df['Salary'] = [50000, 60000, 70000]  # Adding a new column\n",
    "df.drop('Age', axis=1, inplace=True)  # Removing a column\n",
    "```\n",
    "\n",
    "3. Panel: The Panel data structure in Pandas is not mutable. It was deprecated in Pandas version 0.20.0 and removed in later versions. It used to represent three-dimensional data, but its functionality has been incorporated into other data structures like DataFrame and MultiIndex.\n",
    "\n",
    "Since Panel is no longer supported, it is recommended to use other data structures like DataFrame or MultiIndex to handle complex data with more than two dimensions.\n",
    "\n",
    "In summary, both Series and DataFrame are mutable in nature, allowing you to modify their elements, structure, or content. However, Panel is not mutable and has been deprecated in recent versions of Pandas."
   ]
  },
  {
   "cell_type": "markdown",
   "id": "62b1cc93",
   "metadata": {},
   "source": [
    "**Q7. Create a DataFrame using multiple Series. Explain with an example.**\n",
    "\n",
    "Solution:"
   ]
  },
  {
   "cell_type": "markdown",
   "id": "fd600e27",
   "metadata": {},
   "source": [
    "o create a DataFrame using multiple Series, you can combine the Series into a dictionary and then pass the dictionary to the DataFrame constructor. Each Series will represent a column in the DataFrame. Here's an example:"
   ]
  },
  {
   "cell_type": "code",
   "execution_count": 10,
   "id": "285113f8",
   "metadata": {},
   "outputs": [
    {
     "name": "stdout",
     "output_type": "stream",
     "text": [
      "    Name  Age Country\n",
      "0   John   25     USA\n",
      "1  Alice   30  Canada\n",
      "2    Bob   35      UK\n"
     ]
    }
   ],
   "source": [
    "import pandas as pd\n",
    "\n",
    "# Create Series\n",
    "name_series = pd.Series(['John', 'Alice', 'Bob'])\n",
    "age_series = pd.Series([25, 30, 35])\n",
    "country_series = pd.Series(['USA', 'Canada', 'UK'])\n",
    "\n",
    "# Create DataFrame using the Series\n",
    "data = {\n",
    "    'Name': name_series,\n",
    "    'Age': age_series,\n",
    "    'Country': country_series\n",
    "}\n",
    "\n",
    "df = pd.DataFrame(data)\n",
    "print(df)\n"
   ]
  },
  {
   "cell_type": "markdown",
   "id": "6a1320c2",
   "metadata": {},
   "source": [
    "In this example, we create three Series: name_series, age_series, and country_series. Each Series represents a column of data, namely 'Name', 'Age', and 'Country', respectively.\n",
    "\n",
    "Next, we combine the Series into a dictionary called data, where the keys of the dictionary represent the column names and the values represent the corresponding Series.\n",
    "\n",
    "Finally, we pass the data dictionary to the DataFrame constructor, which creates a DataFrame with the Series as columns. The resulting DataFrame has three columns: 'Name', 'Age', and 'Country', with the corresponding data from the Series.\n",
    "\n",
    "By combining multiple Series into a DataFrame, you can easily organize and manipulate tabular data that contains different variables or features represented by each Series."
   ]
  },
  {
   "cell_type": "markdown",
   "id": "965b2e20",
   "metadata": {},
   "source": [
    "# ---------------------------------------------------END------------------------------------------------------"
   ]
  }
 ],
 "metadata": {
  "kernelspec": {
   "display_name": "Python 3 (ipykernel)",
   "language": "python",
   "name": "python3"
  },
  "language_info": {
   "codemirror_mode": {
    "name": "ipython",
    "version": 3
   },
   "file_extension": ".py",
   "mimetype": "text/x-python",
   "name": "python",
   "nbconvert_exporter": "python",
   "pygments_lexer": "ipython3",
   "version": "3.9.13"
  }
 },
 "nbformat": 4,
 "nbformat_minor": 5
}
