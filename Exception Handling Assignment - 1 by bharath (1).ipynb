{
 "cells": [
  {
   "cell_type": "markdown",
   "id": "d7318f76",
   "metadata": {},
   "source": [
    "# Exception Handling Assignment - 1"
   ]
  },
  {
   "cell_type": "markdown",
   "id": "d25824bf",
   "metadata": {},
   "source": [
    "**Q1. What is an Exception in python? Write the difference  between Exceptions and syntax errors ?**"
   ]
  },
  {
   "cell_type": "markdown",
   "id": "eba989ed",
   "metadata": {},
   "source": [
    "Solution:"
   ]
  },
  {
   "cell_type": "markdown",
   "id": "afdc883f",
   "metadata": {},
   "source": [
    "An **exception** is an event that occurs during the execution of a program, which disrupts the normal flow of the program's instructions. When an exception occurs, the program stops executing the current code and jumps to a special block of code called an exception handler. The exception handler can catch and handle the exception, allowing the program to gracefully recover or terminate if necessary.\n",
    "\n",
    "Exceptions in Python are used to handle various types of errors or exceptional conditions that may occur during the execution of a program. Some common types of exceptions in Python include TypeError, ValueError, FileNotFoundError, and ZeroDivisionError, among others. Python also allows you to define and raise your own custom exceptions."
   ]
  },
  {
   "cell_type": "markdown",
   "id": "4acc6720",
   "metadata": {},
   "source": [
    "On the other hand, **syntax errors**, also known as parsing errors, occur when the Python interpreter encounters code that violates the language's syntax rules. These errors are usually caused by mistakes such as missing parentheses, incorrect indentation, or improper use of keywords. Syntax errors prevent the program from running altogether, as they violate the basic structure and grammar of the Python language."
   ]
  },
  {
   "cell_type": "markdown",
   "id": "ca3b4128",
   "metadata": {},
   "source": [
    "The key differences between exceptions and syntax errors:\n",
    "\n",
    "Nature:\n",
    "\n",
    "Exceptions: Exceptions occur during the execution of a program when an exceptional condition arises, such as invalid input, runtime errors, or unexpected situations. Exceptions are typically caused by logical or runtime issues in the program.\n",
    "\n",
    "Syntax Errors: Syntax errors occur when the code violates the language's syntax rules. They are caused by mistakes in the code's structure, such as missing parentheses, incorrect indentation, or using keywords as variable names.\n",
    "Detection:\n",
    "\n",
    "Exceptions: Exceptions are detected during runtime when the program encounters an exceptional condition. The Python interpreter raises an exception object to indicate the occurrence of the exception.\n",
    "\n",
    "Syntax Errors: Syntax errors are detected by the Python interpreter during the parsing phase, before the program is executed. The interpreter identifies violations of the language's syntax rules and reports them as syntax errors.\n",
    "Handling:\n",
    "\n",
    "Exceptions: Exceptions can be caught and handled using try-except blocks. The program can define specific exception handlers to deal with different types of exceptions. By handling exceptions, the program can gracefully recover from errors and continue its execution.\n",
    "\n",
    "Syntax Errors: Syntax errors cannot be caught or handled like exceptions. They need to be fixed in the code before the program can be executed. The interpreter will halt the execution and report the syntax error, providing information about the specific line and nature of the error.\n",
    "Impact on Execution:\n",
    "\n",
    "Exceptions: When an exception occurs, it interrupts the normal flow of the program and transfers control to the nearest exception handler that can handle the exception. If no suitable handler is found, the program terminates and displays a traceback.\n",
    "\n",
    "Syntax Errors: Syntax errors prevent the program from being executed at all. The interpreter identifies the syntax error and raises an error message, indicating the specific line and nature of the error. The code needs to be corrected before the program can run successfully."
   ]
  },
  {
   "cell_type": "markdown",
   "id": "8efa9c60",
   "metadata": {},
   "source": [
    "**Exception Example**:"
   ]
  },
  {
   "cell_type": "code",
   "execution_count": 2,
   "id": "0a833943",
   "metadata": {},
   "outputs": [
    {
     "name": "stdout",
     "output_type": "stream",
     "text": [
      "Enter a number: 10\n",
      "Enter another number: 5\n",
      "Result: 2.0\n"
     ]
    }
   ],
   "source": [
    "try:\n",
    "    num1 = int(input(\"Enter a number: \"))\n",
    "    num2 = int(input(\"Enter another number: \"))\n",
    "    result = num1 / num2\n",
    "    print(\"Result:\", result)\n",
    "except ZeroDivisionError:\n",
    "    print(\"Error: Cannot divide by zero.\")\n"
   ]
  },
  {
   "cell_type": "markdown",
   "id": "bf323892",
   "metadata": {},
   "source": [
    "In this example, if the user enters a zero as the second number, a ZeroDivisionError exception will occur when trying to perform the division. The exception is caught by the except block, and an appropriate error message is displayed.\n",
    "\n",
    "**Syntax Error Example**:"
   ]
  },
  {
   "cell_type": "code",
   "execution_count": 4,
   "id": "83b22b6f",
   "metadata": {},
   "outputs": [
    {
     "ename": "SyntaxError",
     "evalue": "invalid syntax (3037133457.py, line 2)",
     "output_type": "error",
     "traceback": [
      "\u001b[1;36m  File \u001b[1;32m\"C:\\Users\\Bharath\\AppData\\Local\\Temp\\ipykernel_20012\\3037133457.py\"\u001b[1;36m, line \u001b[1;32m2\u001b[0m\n\u001b[1;33m    if num > 5\u001b[0m\n\u001b[1;37m              ^\u001b[0m\n\u001b[1;31mSyntaxError\u001b[0m\u001b[1;31m:\u001b[0m invalid syntax\n"
     ]
    }
   ],
   "source": [
    "num = 10\n",
    "if num > 5\n",
    "    print(\"Number is greater than 5.\")\n"
   ]
  },
  {
   "cell_type": "markdown",
   "id": "7a04109f",
   "metadata": {},
   "source": [
    "In this example, a syntax error occurs because the line if num > 5 is missing a colon (':') at the end. The Python interpreter will raise a SyntaxError and indicate the line where the error occurred. "
   ]
  },
  {
   "cell_type": "markdown",
   "id": "2d5d161d",
   "metadata": {},
   "source": [
    "In summary, **exceptions** are runtime errors that can be handled and recovered from during program execution, while **syntax errors** are coding mistakes that need to be fixed before the program can be executed."
   ]
  },
  {
   "cell_type": "markdown",
   "id": "6befcafe",
   "metadata": {},
   "source": [
    "**Q2. What happens when an exception is not handled? Explain with an example**"
   ]
  },
  {
   "cell_type": "markdown",
   "id": "fc58de08",
   "metadata": {},
   "source": [
    "Solution:"
   ]
  },
  {
   "cell_type": "markdown",
   "id": "d3e26a0e",
   "metadata": {},
   "source": [
    "When an exception is not handled in Python, it results in the termination of the program and an error message called a traceback. The traceback provides information about the exception that occurred, including the type of exception, the line of code where it occurred, and the sequence of function calls that led to the exception.\n",
    "\n",
    "Here's an example to illustrate what happens when an exception is not handled:"
   ]
  },
  {
   "cell_type": "code",
   "execution_count": 1,
   "id": "8e468170",
   "metadata": {},
   "outputs": [
    {
     "ename": "ZeroDivisionError",
     "evalue": "division by zero",
     "output_type": "error",
     "traceback": [
      "\u001b[1;31m---------------------------------------------------------------------------\u001b[0m",
      "\u001b[1;31mZeroDivisionError\u001b[0m                         Traceback (most recent call last)",
      "\u001b[1;32m~\\AppData\\Local\\Temp\\ipykernel_28968\\437563126.py\u001b[0m in \u001b[0;36m<module>\u001b[1;34m\u001b[0m\n\u001b[0;32m      6\u001b[0m \u001b[0mnum2\u001b[0m \u001b[1;33m=\u001b[0m \u001b[1;36m0\u001b[0m\u001b[1;33m\u001b[0m\u001b[1;33m\u001b[0m\u001b[0m\n\u001b[0;32m      7\u001b[0m \u001b[1;33m\u001b[0m\u001b[0m\n\u001b[1;32m----> 8\u001b[1;33m \u001b[0mresult\u001b[0m \u001b[1;33m=\u001b[0m \u001b[0mdivide_numbers\u001b[0m\u001b[1;33m(\u001b[0m\u001b[0mnum1\u001b[0m\u001b[1;33m,\u001b[0m \u001b[0mnum2\u001b[0m\u001b[1;33m)\u001b[0m\u001b[1;33m\u001b[0m\u001b[1;33m\u001b[0m\u001b[0m\n\u001b[0m\u001b[0;32m      9\u001b[0m \u001b[0mprint\u001b[0m\u001b[1;33m(\u001b[0m\u001b[0mresult\u001b[0m\u001b[1;33m)\u001b[0m\u001b[1;33m\u001b[0m\u001b[1;33m\u001b[0m\u001b[0m\n",
      "\u001b[1;32m~\\AppData\\Local\\Temp\\ipykernel_28968\\437563126.py\u001b[0m in \u001b[0;36mdivide_numbers\u001b[1;34m(a, b)\u001b[0m\n\u001b[0;32m      1\u001b[0m \u001b[1;32mdef\u001b[0m \u001b[0mdivide_numbers\u001b[0m\u001b[1;33m(\u001b[0m\u001b[0ma\u001b[0m\u001b[1;33m,\u001b[0m \u001b[0mb\u001b[0m\u001b[1;33m)\u001b[0m\u001b[1;33m:\u001b[0m\u001b[1;33m\u001b[0m\u001b[1;33m\u001b[0m\u001b[0m\n\u001b[1;32m----> 2\u001b[1;33m     \u001b[0mresult\u001b[0m \u001b[1;33m=\u001b[0m \u001b[0ma\u001b[0m \u001b[1;33m/\u001b[0m \u001b[0mb\u001b[0m\u001b[1;33m\u001b[0m\u001b[1;33m\u001b[0m\u001b[0m\n\u001b[0m\u001b[0;32m      3\u001b[0m     \u001b[1;32mreturn\u001b[0m \u001b[0mresult\u001b[0m\u001b[1;33m\u001b[0m\u001b[1;33m\u001b[0m\u001b[0m\n\u001b[0;32m      4\u001b[0m \u001b[1;33m\u001b[0m\u001b[0m\n\u001b[0;32m      5\u001b[0m \u001b[0mnum1\u001b[0m \u001b[1;33m=\u001b[0m \u001b[1;36m10\u001b[0m\u001b[1;33m\u001b[0m\u001b[1;33m\u001b[0m\u001b[0m\n",
      "\u001b[1;31mZeroDivisionError\u001b[0m: division by zero"
     ]
    }
   ],
   "source": [
    "def divide_numbers(a, b):\n",
    "    result = a / b\n",
    "    return result\n",
    "\n",
    "num1 = 10\n",
    "num2 = 0\n",
    "\n",
    "result = divide_numbers(num1, num2)\n",
    "print(result)\n"
   ]
  },
  {
   "cell_type": "markdown",
   "id": "aff0100b",
   "metadata": {},
   "source": [
    "In this example, we have a function called divide_numbers that takes two arguments and performs division. We attempt to divide num1 by num2, where num2 is set to 0. This operation will raise a ZeroDivisionError because dividing by zero is not allowed in mathematics.\n",
    "\n",
    "Since we haven't provided any exception handling code to catch the ZeroDivisionError, the exception will propagate up the call stack until it reaches the top level of the program. At that point, the program will terminate, and a traceback will be displayed, indicating the unhandled exception and the line of code where it occurred."
   ]
  },
  {
   "cell_type": "markdown",
   "id": "0c2cf285",
   "metadata": {},
   "source": [
    "**Q3. Which Python statements are used to  catch and handle exceptions? Explain with an example**"
   ]
  },
  {
   "cell_type": "markdown",
   "id": "0e2321e9",
   "metadata": {},
   "source": [
    "Solution:"
   ]
  },
  {
   "cell_type": "markdown",
   "id": "753dbf3c",
   "metadata": {},
   "source": [
    "In Python, the try and except statements are used to catch and handle exceptions. The try block contains the code that might raise an exception, and the except block is used to define the exception handler, where specific exceptions can be caught and appropriate actions can be taken.\n",
    "\n",
    "Here's an example to illustrate the usage of try and except statements for exception handling:"
   ]
  },
  {
   "cell_type": "code",
   "execution_count": 5,
   "id": "71b178cf",
   "metadata": {},
   "outputs": [
    {
     "name": "stdout",
     "output_type": "stream",
     "text": [
      "Error: Division by zero is not allowed.\n",
      "None\n"
     ]
    }
   ],
   "source": [
    "\n",
    "def divide_numbers(a, b):\n",
    "    try:\n",
    "        result = a / b\n",
    "        return result\n",
    "    except ZeroDivisionError:\n",
    "        print(\"Error: Division by zero is not allowed.\")\n",
    "\n",
    "num1 = 10\n",
    "num2 = 0\n",
    "\n",
    "result = divide_numbers(num1, num2)\n",
    "print(result)\n"
   ]
  },
  {
   "cell_type": "markdown",
   "id": "94f1c699",
   "metadata": {},
   "source": [
    "In this example, we have a function called divide_numbers that attempts to divide a by b. Inside the try block, the division operation is performed. If a ZeroDivisionError occurs during this operation (i.e., if b is zero), the exception is caught by the except block.\n",
    "\n",
    "In the except block, we print an error message indicating that division by zero is not allowed. This provides a graceful way to handle the exception and prevents the program from terminating abruptly."
   ]
  },
  {
   "cell_type": "markdown",
   "id": "d6bd1c64",
   "metadata": {},
   "source": [
    "It's important to note that multiple except blocks can be used to handle different types of exceptions. Each except block can specify the particular exception type it handles. If a matching exception occurs, the corresponding except block is executed. If an exception is not caught by any except block within the current scope, it will propagate up the call stack until a suitable exception handler is found or until it reaches the top level of the program, resulting in the termination of the program if unhandled."
   ]
  },
  {
   "cell_type": "markdown",
   "id": "be085706",
   "metadata": {},
   "source": [
    "**Q4. Explain with an example:** \n",
    " \n",
    " **a. Try and else**\n",
    " \n",
    " **b. finally**\n",
    " \n",
    " **c. rise**\n"
   ]
  },
  {
   "cell_type": "markdown",
   "id": "239d0d46",
   "metadata": {},
   "source": [
    "Solution:"
   ]
  },
  {
   "cell_type": "markdown",
   "id": "cd2bbdd2",
   "metadata": {},
   "source": [
    "a.**Try and else:**\n",
    "The else block in a try-except statement is optional and is executed only if no exceptions occur in the preceding try block. It is useful for specifying code that should be executed when the try block completes successfully, without any exceptions being raised.\n",
    "\n",
    "Here's an example:"
   ]
  },
  {
   "cell_type": "code",
   "execution_count": 4,
   "id": "ed5de7f5",
   "metadata": {},
   "outputs": [
    {
     "name": "stdout",
     "output_type": "stream",
     "text": [
      "Enter a number: 10\n",
      "Enter another number: 2\n",
      "Division result: 5.0\n"
     ]
    }
   ],
   "source": [
    "try:\n",
    "    num1 = int(input(\"Enter a number: \"))\n",
    "    num2 = int(input(\"Enter another number: \"))\n",
    "    result = num1 / num2\n",
    "except ValueError:\n",
    "    print(\"Error: Invalid input. Please enter a valid number.\")\n",
    "except ZeroDivisionError:\n",
    "    print(\"Error: Division by zero is not allowed.\")\n",
    "else:\n",
    "    print(\"Division result:\", result)\n"
   ]
  },
  {
   "cell_type": "markdown",
   "id": "6683a975",
   "metadata": {},
   "source": [
    "In the provided code example, the try-except-else structure is used to handle exceptions and execute code when no exceptions occur. Here's how it works:\n",
    "\n",
    "Inside the try block, the code attempts to perform some operations that might raise exceptions. In this case, it expects the user to enter two numbers and calculates their division.\n",
    "\n",
    "If a ValueError exception occurs during the conversion of user input to integers, it means that the user has entered invalid input (e.g., non-numeric characters). The exception is caught by the first except block, which prints an error message indicating that the input is invalid.\n",
    "\n",
    "If a ZeroDivisionError occurs during the division operation (i.e., if the user enters 0 as the second number), the exception is caught by the second except block, which prints an error message stating that division by zero is not allowed.\n",
    "\n",
    "If no exceptions occur in the preceding try block, the else block is executed. In this case, it prints the division result."
   ]
  },
  {
   "cell_type": "markdown",
   "id": "0684fe0b",
   "metadata": {},
   "source": [
    "b.**finally:**\n",
    "The finally block is used in conjunction with try-except statements and is executed regardless of whether an exception occurred or not. It is useful for specifying code that must be executed no matter what, such as closing a file or releasing resources.\n",
    "\n",
    "Here's an example:"
   ]
  },
  {
   "cell_type": "code",
   "execution_count": 5,
   "id": "86aef350",
   "metadata": {},
   "outputs": [
    {
     "name": "stdout",
     "output_type": "stream",
     "text": [
      "Error: File not found.\n"
     ]
    }
   ],
   "source": [
    "file = None\n",
    "try:\n",
    "    file = open(\"example.txt\", \"r\")\n",
    "    # Perform operations on the file\n",
    "    print(file.read())\n",
    "except FileNotFoundError:\n",
    "    print(\"Error: File not found.\")\n",
    "finally:\n",
    "    if file:\n",
    "        file.close()\n",
    "        print(\"File closed.\")\n"
   ]
  },
  {
   "cell_type": "markdown",
   "id": "bded437a",
   "metadata": {},
   "source": [
    "In the provided code example, the try-except-finally structure is used to handle file operations and ensure that the file is closed regardless of exceptions. Here's how it works:\n",
    "\n",
    "The variable file is initialized as None.\n",
    "\n",
    "Inside the try block, the code attempts to open the file \"example.txt\" in read mode using the open() function. If the file is successfully opened, the operations on the file are performed, such as reading its contents using the read() method. The file contents are then printed.\n",
    "\n",
    "If a FileNotFoundError exception occurs during the attempt to open the file, it means that the file does not exist or cannot be found. The exception is caught by the except block, which prints an error message indicating that the file was not found.\n",
    "\n",
    "The finally block is always executed, regardless of whether an exception occurred or not. In this case, it checks if the file variable is not None (i.e., if the file was successfully opened). If it is not None, the close() method is called to close the file, and a message is printed to indicate that the file has been closed."
   ]
  },
  {
   "cell_type": "markdown",
   "id": "f5095d8b",
   "metadata": {},
   "source": [
    "c.**raise:**\n",
    "The raise statement in Python is used to manually raise exceptions. It allows you to create and raise your own custom exceptions or raise built-in exceptions with specific information.\n",
    "\n",
    "Here's an example:"
   ]
  },
  {
   "cell_type": "code",
   "execution_count": 7,
   "id": "5f1eb693",
   "metadata": {},
   "outputs": [
    {
     "name": "stdout",
     "output_type": "stream",
     "text": [
      "Enter your age: 17\n",
      "Error: Age must be at least 18 to access this content.\n"
     ]
    }
   ],
   "source": [
    "def validate_age(age):\n",
    "    if age < 0:\n",
    "        raise ValueError(\"Error: Age cannot be negative.\")\n",
    "    elif age < 18:\n",
    "        raise ValueError(\"Error: Age must be at least 18 to access this content.\")\n",
    "    else:\n",
    "        print(\"Access granted.\")\n",
    "\n",
    "try:\n",
    "    user_age = int(input(\"Enter your age: \"))\n",
    "    validate_age(user_age)\n",
    "except ValueError as e:\n",
    "    print(e)\n"
   ]
  },
  {
   "cell_type": "markdown",
   "id": "6718af48",
   "metadata": {},
   "source": [
    "In the provided code example, the validate_age function is defined to check the validity of an age input. The code uses the raise statement to manually raise ValueError exceptions with custom error messages in certain conditions. Here's how it works:\n",
    "\n",
    "The validate_age function takes an age parameter and performs validation checks on it.\n",
    "\n",
    "If the age is less than 0, it means the age is negative, which is considered invalid. In this case, a ValueError exception is raised with the custom error message \"Error: Age cannot be negative.\"\n",
    "\n",
    "If the age is less than 18, it means the age is below the required age to access some content. Another ValueError exception is raised with the custom error message \"Error: Age must be at least 18 to access this content.\"\n",
    "\n",
    "If neither of the above conditions is met, it means the age is valid, and \"Access granted\" is printed.\n",
    "\n",
    "In the try block, the user is prompted to enter their age. The input is converted to an integer using int() and assigned to the user_age variable.\n",
    "\n",
    "The validate_age function is called with the user_age as the argument.\n",
    "\n",
    "If a ValueError exception occurs during the execution of the try block (i.e., if the age is invalid according to the conditions in the validate_age function), it is caught by the except block. The exception object is assigned to the variable e, and its error message is printed."
   ]
  },
  {
   "cell_type": "markdown",
   "id": "5993826e",
   "metadata": {},
   "source": [
    "**Q5. What are Custom Exceptions in python? Why do we need Custom Exceptions? Explain with an example**"
   ]
  },
  {
   "cell_type": "markdown",
   "id": "749472bd",
   "metadata": {},
   "source": [
    "Solution:"
   ]
  },
  {
   "cell_type": "markdown",
   "id": "199aa20b",
   "metadata": {},
   "source": [
    "Custom exceptions in Python are user-defined exceptions that extend the built-in exception classes or the Exception base class. By creating custom exceptions, you can define your own types of errors or exceptional conditions that are specific to your program or application.\n",
    "\n",
    "We need custom exceptions in Python for several reasons:\n",
    "\n",
    "Specific Error Handling: Custom exceptions allow you to handle specific error cases in a more precise and meaningful way. Instead of relying solely on built-in exceptions, you can create custom exceptions that convey the specific nature of the error, making it easier to understand and handle.\n",
    "\n",
    "Modularity and Reusability: Custom exceptions promote code modularity and reusability. By defining custom exceptions for specific modules or functions, you encapsulate the error logic within those components. This makes it easier to reuse those components in different parts of the code or in future projects.\n",
    "\n",
    "Enhanced Debugging and Error Reporting: Custom exceptions can include additional information or attributes to provide more context about the error. This can greatly help in debugging and error reporting by providing specific details about the cause of the error, allowing developers to pinpoint the issue more efficiently.\n",
    "\n",
    "Here's an example that demonstrates the use of a custom exception:"
   ]
  },
  {
   "cell_type": "code",
   "execution_count": 8,
   "id": "86a6e5bb",
   "metadata": {},
   "outputs": [
    {
     "name": "stdout",
     "output_type": "stream",
     "text": [
      "Enter recipient email: bharath2003js@gmail.com\n",
      "Sending email to: bharath2003js@gmail.com\n"
     ]
    }
   ],
   "source": [
    "class InvalidEmailError(Exception):\n",
    "    def __init__(self, email):\n",
    "        super().__init__(f\"Invalid email address: {email}\")\n",
    "        self.email = email\n",
    "\n",
    "def send_email(email):\n",
    "    if \"@\" not in email:\n",
    "        raise InvalidEmailError(email)\n",
    "    else:\n",
    "        print(f\"Sending email to: {email}\")\n",
    "\n",
    "try:\n",
    "    recipient_email = input(\"Enter recipient email: \")\n",
    "    send_email(recipient_email)\n",
    "except InvalidEmailError as e:\n",
    "    print(\"Error:\", str(e))\n"
   ]
  },
  {
   "cell_type": "markdown",
   "id": "39e61eb1",
   "metadata": {},
   "source": [
    "In this example, a custom exception class called InvalidEmailError is defined by inheriting from the Exception base class. It includes an initializer that takes an email address as a parameter and sets it as an attribute of the exception.\n",
    "\n",
    "The send_email function attempts to send an email but raises the InvalidEmailError exception if the email address does not contain the \"@\" symbol. In the try block, the user is prompted to enter a recipient email, and the send_email function is called. If an InvalidEmailError exception occurs, it is caught in the except block, and the error message along with the invalid email address is printed.\n",
    "\n",
    "By using a custom exception, we can create a more specific and descriptive error for invalid email addresses, allowing us to handle and report such errors in a specialized manner."
   ]
  },
  {
   "cell_type": "markdown",
   "id": "adb6c844",
   "metadata": {},
   "source": [
    " **Q6. Create  a custom exception class. Use this class to handle an exception.**"
   ]
  },
  {
   "cell_type": "markdown",
   "id": "5499fd12",
   "metadata": {},
   "source": [
    "Solution:"
   ]
  },
  {
   "cell_type": "code",
   "execution_count": 10,
   "id": "09afda23",
   "metadata": {},
   "outputs": [
    {
     "name": "stdout",
     "output_type": "stream",
     "text": [
      "Enter a number: 7\n",
      "The square root of 7.0 is: 2.6457513110645907\n"
     ]
    }
   ],
   "source": [
    "class NegativeNumberError(Exception):\n",
    "    def __init__(self, number):\n",
    "        super().__init__(f\"Negative number encountered: {number}\")\n",
    "        self.number = number\n",
    "\n",
    "def square_root(number):\n",
    "    if number < 0:\n",
    "        raise NegativeNumberError(number)\n",
    "    else:\n",
    "        return number ** 0.5\n",
    "\n",
    "try:\n",
    "    num = float(input(\"Enter a number: \"))\n",
    "    result = square_root(num)\n",
    "    print(f\"The square root of {num} is: {result}\")\n",
    "except NegativeNumberError as e:\n",
    "    print(\"Error:\", str(e))\n"
   ]
  },
  {
   "cell_type": "markdown",
   "id": "be4c31e2",
   "metadata": {},
   "source": [
    "This code defines a custom exception class called NegativeNumberError. It inherits from the base Exception class and has an __init__ method to initialize the exception object. The square_root function calculates the square root of a number, but if the number is negative, it raises a NegativeNumberError exception.\n",
    "\n",
    "In the try block, the user is prompted to enter a number. The input is converted to a float using float(). The square_root function is called with the input number. If a NegativeNumberError exception occurs, it is caught by the except block, and the error message of the exception is printed.\n",
    "\n",
    "You can run this code to test it out. If you enter a negative number, it will raise the NegativeNumberError exception and print the error message. Otherwise, it will calculate and print the square root of the entered number."
   ]
  },
  {
   "cell_type": "markdown",
   "id": "0d3b27a4",
   "metadata": {},
   "source": [
    "# ----------------------------------------------END-----------------------------------------------------------"
   ]
  }
 ],
 "metadata": {
  "kernelspec": {
   "display_name": "Python 3 (ipykernel)",
   "language": "python",
   "name": "python3"
  },
  "language_info": {
   "codemirror_mode": {
    "name": "ipython",
    "version": 3
   },
   "file_extension": ".py",
   "mimetype": "text/x-python",
   "name": "python",
   "nbconvert_exporter": "python",
   "pygments_lexer": "ipython3",
   "version": "3.9.13"
  }
 },
 "nbformat": 4,
 "nbformat_minor": 5
}
