{
 "cells": [
  {
   "cell_type": "markdown",
   "id": "9dca7c1f",
   "metadata": {},
   "source": [
    "# EDA Assignment - 1"
   ]
  },
  {
   "cell_type": "markdown",
   "id": "03b2c39d",
   "metadata": {},
   "source": [
    "\n",
    "### Q1. Key Features of the Wine Quality Data Set:\n",
    "The wine quality dataset typically includes features such as:\n",
    "- Fixed acidity\n",
    "- Volatile acidity\n",
    "- Citric acid\n",
    "- Residual sugar\n",
    "- Chlorides\n",
    "- Free sulfur dioxide\n",
    "- Total sulfur dioxide\n",
    "- Density\n",
    "- pH\n",
    "- Sulphates\n",
    "- Alcohol\n",
    "\n",
    "Each feature contributes to the overall taste and quality of wine. For example, acidity levels, alcohol content, and sulphate concentration can influence the perceived quality.\n",
    "\n",
    "### Q2. Handling Missing Data in Wine Quality Data Set:\n",
    "Handling missing data can involve techniques such as mean or median imputation, or more sophisticated methods like regression imputation. Each technique has its advantages and disadvantages. Mean imputation is simple but may distort the distribution, while regression imputation is more complex but preserves relationships between variables.\n",
    "\n",
    "### Q3. Key Factors Affecting Students' Performance:\n",
    "Factors affecting students' performance can include:\n",
    "- Study habits\n",
    "- Attendance\n",
    "- Prior academic performance\n",
    "- Socioeconomic status\n",
    "- Home environment\n",
    "- Teacher quality\n",
    "Analyzing these factors might involve regression analysis or other statistical techniques to identify significant predictors.\n",
    "\n",
    "### Q4. Feature Engineering in Student Performance Data Set:\n",
    "Feature engineering in the student performance dataset could involve creating new variables, transforming existing ones, or selecting relevant features. For example, creating a binary variable indicating if a student has high attendance, transforming exam scores into categories (e.g., excellent, good, poor), or selecting key demographic features.\n",
    "\n",
    "### Q5. Exploratory Data Analysis (EDA) on Wine Quality Data Set:\n",
    "EDA involves analyzing the distribution of each feature. Non-normality might be observed in features like chlorides or residual sugar. Transformations like log or square root could be applied to achieve normality.\n",
    "\n",
    "### Q6. Principal Component Analysis (PCA) on Wine Quality Data Set:\n",
    "PCA is applied to reduce the number of features while retaining most of the variance. The minimum number of principal components required to explain 90% of the variance can be identified by examining the cumulative explained variance plot generated during PCA."
   ]
  },
  {
   "cell_type": "code",
   "execution_count": null,
   "id": "ad0cb247",
   "metadata": {},
   "outputs": [],
   "source": []
  }
 ],
 "metadata": {
  "kernelspec": {
   "display_name": "Python 3 (ipykernel)",
   "language": "python",
   "name": "python3"
  },
  "language_info": {
   "codemirror_mode": {
    "name": "ipython",
    "version": 3
   },
   "file_extension": ".py",
   "mimetype": "text/x-python",
   "name": "python",
   "nbconvert_exporter": "python",
   "pygments_lexer": "ipython3",
   "version": "3.9.13"
  }
 },
 "nbformat": 4,
 "nbformat_minor": 5
}
