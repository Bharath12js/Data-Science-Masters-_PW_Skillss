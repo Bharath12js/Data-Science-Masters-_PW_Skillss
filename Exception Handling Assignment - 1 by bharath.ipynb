{
 "cells": [
  {
   "cell_type": "markdown",
   "id": "d7318f76",
   "metadata": {},
   "source": [
    "# Exception Handling Assignment - 1"
   ]
  },
  {
   "cell_type": "markdown",
   "id": "d25824bf",
   "metadata": {},
   "source": [
    "**Q1. What is an Exception in python? Write the difference  between Exceptions and syntax errors ?**"
   ]
  },
  {
   "cell_type": "markdown",
   "id": "eba989ed",
   "metadata": {},
   "source": [
    "Solution:"
   ]
  },
  {
   "cell_type": "markdown",
   "id": "afdc883f",
   "metadata": {},
   "source": [
    "An **exception** is an event that occurs during the execution of a program, which disrupts the normal flow of the program's instructions. When an exception occurs, the program stops executing the current code and jumps to a special block of code called an exception handler. The exception handler can catch and handle the exception, allowing the program to gracefully recover or terminate if necessary.\n",
    "\n",
    "Exceptions in Python are used to handle various types of errors or exceptional conditions that may occur during the execution of a program. Some common types of exceptions in Python include TypeError, ValueError, FileNotFoundError, and ZeroDivisionError, among others. Python also allows you to define and raise your own custom exceptions."
   ]
  },
  {
   "cell_type": "markdown",
   "id": "4acc6720",
   "metadata": {},
   "source": [
    "On the other hand, **syntax errors**, also known as parsing errors, occur when the Python interpreter encounters code that violates the language's syntax rules. These errors are usually caused by mistakes such as missing parentheses, incorrect indentation, or improper use of keywords. Syntax errors prevent the program from running altogether, as they violate the basic structure and grammar of the Python language."
   ]
  },
  {
   "cell_type": "markdown",
   "id": "ca3b4128",
   "metadata": {},
   "source": [
    "the main differences between exceptions and syntax errors are:\n",
    "\n",
    "Cause: Exceptions occur during the execution of a program when exceptional conditions or errors arise, while syntax errors occur due to violations of the Python language's syntax rules.\n",
    "\n",
    "Execution Flow: When an exception occurs, the program can be designed to catch and handle the exception, allowing the execution to continue. In the case of syntax errors, the program cannot run until the syntax errors are fixed.\n",
    "\n",
    "Handling: Exceptions can be caught and handled using try and except blocks, allowing the program to respond to errors gracefully. Syntax errors must be fixed by correcting the code before the program can be executed."
   ]
  },
  {
   "cell_type": "markdown",
   "id": "6befcafe",
   "metadata": {},
   "source": [
    "**Q2. What happens when an exception is not handled? Explain with an example**"
   ]
  },
  {
   "cell_type": "markdown",
   "id": "fc58de08",
   "metadata": {},
   "source": [
    "Solution:"
   ]
  },
  {
   "cell_type": "markdown",
   "id": "d3e26a0e",
   "metadata": {},
   "source": [
    "When an exception is not handled in Python, it results in the termination of the program and an error message called a traceback. The traceback provides information about the exception that occurred, including the type of exception, the line of code where it occurred, and the sequence of function calls that led to the exception.\n",
    "\n",
    "Here's an example to illustrate what happens when an exception is not handled:"
   ]
  },
  {
   "cell_type": "code",
   "execution_count": 1,
   "id": "8e468170",
   "metadata": {},
   "outputs": [
    {
     "ename": "ZeroDivisionError",
     "evalue": "division by zero",
     "output_type": "error",
     "traceback": [
      "\u001b[1;31m---------------------------------------------------------------------------\u001b[0m",
      "\u001b[1;31mZeroDivisionError\u001b[0m                         Traceback (most recent call last)",
      "\u001b[1;32m~\\AppData\\Local\\Temp\\ipykernel_28968\\437563126.py\u001b[0m in \u001b[0;36m<module>\u001b[1;34m\u001b[0m\n\u001b[0;32m      6\u001b[0m \u001b[0mnum2\u001b[0m \u001b[1;33m=\u001b[0m \u001b[1;36m0\u001b[0m\u001b[1;33m\u001b[0m\u001b[1;33m\u001b[0m\u001b[0m\n\u001b[0;32m      7\u001b[0m \u001b[1;33m\u001b[0m\u001b[0m\n\u001b[1;32m----> 8\u001b[1;33m \u001b[0mresult\u001b[0m \u001b[1;33m=\u001b[0m \u001b[0mdivide_numbers\u001b[0m\u001b[1;33m(\u001b[0m\u001b[0mnum1\u001b[0m\u001b[1;33m,\u001b[0m \u001b[0mnum2\u001b[0m\u001b[1;33m)\u001b[0m\u001b[1;33m\u001b[0m\u001b[1;33m\u001b[0m\u001b[0m\n\u001b[0m\u001b[0;32m      9\u001b[0m \u001b[0mprint\u001b[0m\u001b[1;33m(\u001b[0m\u001b[0mresult\u001b[0m\u001b[1;33m)\u001b[0m\u001b[1;33m\u001b[0m\u001b[1;33m\u001b[0m\u001b[0m\n",
      "\u001b[1;32m~\\AppData\\Local\\Temp\\ipykernel_28968\\437563126.py\u001b[0m in \u001b[0;36mdivide_numbers\u001b[1;34m(a, b)\u001b[0m\n\u001b[0;32m      1\u001b[0m \u001b[1;32mdef\u001b[0m \u001b[0mdivide_numbers\u001b[0m\u001b[1;33m(\u001b[0m\u001b[0ma\u001b[0m\u001b[1;33m,\u001b[0m \u001b[0mb\u001b[0m\u001b[1;33m)\u001b[0m\u001b[1;33m:\u001b[0m\u001b[1;33m\u001b[0m\u001b[1;33m\u001b[0m\u001b[0m\n\u001b[1;32m----> 2\u001b[1;33m     \u001b[0mresult\u001b[0m \u001b[1;33m=\u001b[0m \u001b[0ma\u001b[0m \u001b[1;33m/\u001b[0m \u001b[0mb\u001b[0m\u001b[1;33m\u001b[0m\u001b[1;33m\u001b[0m\u001b[0m\n\u001b[0m\u001b[0;32m      3\u001b[0m     \u001b[1;32mreturn\u001b[0m \u001b[0mresult\u001b[0m\u001b[1;33m\u001b[0m\u001b[1;33m\u001b[0m\u001b[0m\n\u001b[0;32m      4\u001b[0m \u001b[1;33m\u001b[0m\u001b[0m\n\u001b[0;32m      5\u001b[0m \u001b[0mnum1\u001b[0m \u001b[1;33m=\u001b[0m \u001b[1;36m10\u001b[0m\u001b[1;33m\u001b[0m\u001b[1;33m\u001b[0m\u001b[0m\n",
      "\u001b[1;31mZeroDivisionError\u001b[0m: division by zero"
     ]
    }
   ],
   "source": [
    "def divide_numbers(a, b):\n",
    "    result = a / b\n",
    "    return result\n",
    "\n",
    "num1 = 10\n",
    "num2 = 0\n",
    "\n",
    "result = divide_numbers(num1, num2)\n",
    "print(result)\n"
   ]
  },
  {
   "cell_type": "markdown",
   "id": "aff0100b",
   "metadata": {},
   "source": [
    "In this example, the divide_numbers function attempts to divide num1 by num2, which is 0. Since division by zero is not allowed in Python, it raises a **ZeroDivisionError exception.**"
   ]
  },
  {
   "cell_type": "markdown",
   "id": "0c2cf285",
   "metadata": {},
   "source": [
    "**Q3. Which Python statements are used to  catch and handle exceptions? Explain with an example**"
   ]
  },
  {
   "cell_type": "markdown",
   "id": "0e2321e9",
   "metadata": {},
   "source": [
    "Solution:"
   ]
  },
  {
   "cell_type": "markdown",
   "id": "753dbf3c",
   "metadata": {},
   "source": [
    "The try-except statements are used to catch and handle exceptions. The try block contains the code that may raise an exception, and the except block specifies the code to be executed if a specific exception is raised.\n",
    "\n",
    "Here's an example that demonstrates the usage of try-except statements:"
   ]
  },
  {
   "cell_type": "code",
   "execution_count": 2,
   "id": "71b178cf",
   "metadata": {},
   "outputs": [
    {
     "name": "stdout",
     "output_type": "stream",
     "text": [
      "Error: Division by zero is not allowed!\n"
     ]
    }
   ],
   "source": [
    "def divide_numbers(a, b):\n",
    "    try:\n",
    "        result = a / b\n",
    "        print(\"Division result:\", result)\n",
    "    except ZeroDivisionError:\n",
    "        print(\"Error: Division by zero is not allowed!\")\n",
    "\n",
    "num1 = 10\n",
    "num2 = 0\n",
    "\n",
    "divide_numbers(num1, num2)\n"
   ]
  },
  {
   "cell_type": "markdown",
   "id": "94f1c699",
   "metadata": {},
   "source": [
    "As you can see, when the ZeroDivisionError exception occurs, the program jumps to the except block and executes the code within it. In this case, it prints an error message indicating that division by zero is not allowed."
   ]
  },
  {
   "cell_type": "markdown",
   "id": "be085706",
   "metadata": {},
   "source": [
    "**Q4. Explain with an example:** \n",
    " \n",
    " **a. Try and else**\n",
    " \n",
    " **b. finally**\n",
    " \n",
    " **c. rise**\n"
   ]
  },
  {
   "cell_type": "markdown",
   "id": "239d0d46",
   "metadata": {},
   "source": [
    "Solution:"
   ]
  },
  {
   "cell_type": "markdown",
   "id": "cd2bbdd2",
   "metadata": {},
   "source": [
    "a.**Try and else:**\n",
    "The else block in a try-except statement is optional and is executed only if no exceptions occur in the preceding try block. It is useful for specifying code that should be executed when the try block completes successfully, without any exceptions being raised.\n",
    "\n",
    "Here's an example:"
   ]
  },
  {
   "cell_type": "code",
   "execution_count": 4,
   "id": "ed5de7f5",
   "metadata": {},
   "outputs": [
    {
     "name": "stdout",
     "output_type": "stream",
     "text": [
      "Enter a number: 10\n",
      "Enter another number: 2\n",
      "Division result: 5.0\n"
     ]
    }
   ],
   "source": [
    "try:\n",
    "    num1 = int(input(\"Enter a number: \"))\n",
    "    num2 = int(input(\"Enter another number: \"))\n",
    "    result = num1 / num2\n",
    "except ValueError:\n",
    "    print(\"Error: Invalid input. Please enter a valid number.\")\n",
    "except ZeroDivisionError:\n",
    "    print(\"Error: Division by zero is not allowed.\")\n",
    "else:\n",
    "    print(\"Division result:\", result)\n"
   ]
  },
  {
   "cell_type": "markdown",
   "id": "0684fe0b",
   "metadata": {},
   "source": [
    "b.**finally:**\n",
    "The finally block is used in conjunction with try-except statements and is executed regardless of whether an exception occurred or not. It is useful for specifying code that must be executed no matter what, such as closing a file or releasing resources.\n",
    "\n",
    "Here's an example:"
   ]
  },
  {
   "cell_type": "code",
   "execution_count": 5,
   "id": "86aef350",
   "metadata": {},
   "outputs": [
    {
     "name": "stdout",
     "output_type": "stream",
     "text": [
      "Error: File not found.\n"
     ]
    }
   ],
   "source": [
    "file = None\n",
    "try:\n",
    "    file = open(\"example.txt\", \"r\")\n",
    "    # Perform operations on the file\n",
    "    print(file.read())\n",
    "except FileNotFoundError:\n",
    "    print(\"Error: File not found.\")\n",
    "finally:\n",
    "    if file:\n",
    "        file.close()\n",
    "        print(\"File closed.\")\n"
   ]
  },
  {
   "cell_type": "markdown",
   "id": "f5095d8b",
   "metadata": {},
   "source": [
    "c.**raise:**\n",
    "The raise statement in Python is used to manually raise exceptions. It allows you to create and raise your own custom exceptions or raise built-in exceptions with specific information.\n",
    "\n",
    "Here's an example:"
   ]
  },
  {
   "cell_type": "code",
   "execution_count": 7,
   "id": "5f1eb693",
   "metadata": {},
   "outputs": [
    {
     "name": "stdout",
     "output_type": "stream",
     "text": [
      "Enter your age: 17\n",
      "Error: Age must be at least 18 to access this content.\n"
     ]
    }
   ],
   "source": [
    "def validate_age(age):\n",
    "    if age < 0:\n",
    "        raise ValueError(\"Error: Age cannot be negative.\")\n",
    "    elif age < 18:\n",
    "        raise ValueError(\"Error: Age must be at least 18 to access this content.\")\n",
    "    else:\n",
    "        print(\"Access granted.\")\n",
    "\n",
    "try:\n",
    "    user_age = int(input(\"Enter your age: \"))\n",
    "    validate_age(user_age)\n",
    "except ValueError as e:\n",
    "    print(e)\n"
   ]
  },
  {
   "cell_type": "markdown",
   "id": "5993826e",
   "metadata": {},
   "source": [
    "**Q5. What are Custom Exceptions in python? Why do we need Custom Exceptions? Explain with an example**"
   ]
  },
  {
   "cell_type": "markdown",
   "id": "749472bd",
   "metadata": {},
   "source": [
    "Solution:"
   ]
  },
  {
   "cell_type": "markdown",
   "id": "199aa20b",
   "metadata": {},
   "source": [
    "Custom exceptions in Python are user-defined exceptions that extend the built-in exception classes or the Exception base class. By creating custom exceptions, you can define your own types of errors or exceptional conditions that are specific to your program or application.\n",
    "\n",
    "We need custom exceptions in Python for several reasons:\n",
    "\n",
    "Specific Error Handling: Custom exceptions allow you to handle specific error cases in a more precise and meaningful way. Instead of relying solely on built-in exceptions, you can create custom exceptions that convey the specific nature of the error, making it easier to understand and handle.\n",
    "\n",
    "Modularity and Reusability: Custom exceptions promote code modularity and reusability. By defining custom exceptions for specific modules or functions, you encapsulate the error logic within those components. This makes it easier to reuse those components in different parts of the code or in future projects.\n",
    "\n",
    "Enhanced Debugging and Error Reporting: Custom exceptions can include additional information or attributes to provide more context about the error. This can greatly help in debugging and error reporting by providing specific details about the cause of the error, allowing developers to pinpoint the issue more efficiently.\n",
    "\n",
    "Here's an example that demonstrates the use of a custom exception:"
   ]
  },
  {
   "cell_type": "code",
   "execution_count": 8,
   "id": "86a6e5bb",
   "metadata": {},
   "outputs": [
    {
     "name": "stdout",
     "output_type": "stream",
     "text": [
      "Enter recipient email: bharath2003js@gmail.com\n",
      "Sending email to: bharath2003js@gmail.com\n"
     ]
    }
   ],
   "source": [
    "class InvalidEmailError(Exception):\n",
    "    def __init__(self, email):\n",
    "        super().__init__(f\"Invalid email address: {email}\")\n",
    "        self.email = email\n",
    "\n",
    "def send_email(email):\n",
    "    if \"@\" not in email:\n",
    "        raise InvalidEmailError(email)\n",
    "    else:\n",
    "        print(f\"Sending email to: {email}\")\n",
    "\n",
    "try:\n",
    "    recipient_email = input(\"Enter recipient email: \")\n",
    "    send_email(recipient_email)\n",
    "except InvalidEmailError as e:\n",
    "    print(\"Error:\", str(e))\n"
   ]
  },
  {
   "cell_type": "markdown",
   "id": "39e61eb1",
   "metadata": {},
   "source": [
    "In this example, a custom exception class called InvalidEmailError is defined by inheriting from the Exception base class. It includes an initializer that takes an email address as a parameter and sets it as an attribute of the exception.\n",
    "\n",
    "The send_email function attempts to send an email but raises the InvalidEmailError exception if the email address does not contain the \"@\" symbol. In the try block, the user is prompted to enter a recipient email, and the send_email function is called. If an InvalidEmailError exception occurs, it is caught in the except block, and the error message along with the invalid email address is printed.\n",
    "\n",
    "By using a custom exception, we can create a more specific and descriptive error for invalid email addresses, allowing us to handle and report such errors in a specialized manner."
   ]
  },
  {
   "cell_type": "markdown",
   "id": "adb6c844",
   "metadata": {},
   "source": [
    " **Q6. Create  a custom exception class. Use this class to handle an exception.**"
   ]
  },
  {
   "cell_type": "markdown",
   "id": "5499fd12",
   "metadata": {},
   "source": [
    "Solution:"
   ]
  },
  {
   "cell_type": "code",
   "execution_count": 10,
   "id": "09afda23",
   "metadata": {},
   "outputs": [
    {
     "name": "stdout",
     "output_type": "stream",
     "text": [
      "Enter a number: 7\n",
      "The square root of 7.0 is: 2.6457513110645907\n"
     ]
    }
   ],
   "source": [
    "class NegativeNumberError(Exception):\n",
    "    def __init__(self, number):\n",
    "        super().__init__(f\"Negative number encountered: {number}\")\n",
    "        self.number = number\n",
    "\n",
    "def square_root(number):\n",
    "    if number < 0:\n",
    "        raise NegativeNumberError(number)\n",
    "    else:\n",
    "        return number ** 0.5\n",
    "\n",
    "try:\n",
    "    num = float(input(\"Enter a number: \"))\n",
    "    result = square_root(num)\n",
    "    print(f\"The square root of {num} is: {result}\")\n",
    "except NegativeNumberError as e:\n",
    "    print(\"Error:\", str(e))\n"
   ]
  },
  {
   "cell_type": "markdown",
   "id": "be4c31e2",
   "metadata": {},
   "source": [
    "In this example, we define a custom exception class called NegativeNumberError that inherits from the Exception base class. The initializer takes a number parameter and sets it as an attribute of the exception.\n",
    "\n",
    "The square_root function calculates the square root of a given number. If the number is negative, it raises the NegativeNumberError exception with the negative number as the argument."
   ]
  },
  {
   "cell_type": "markdown",
   "id": "0d3b27a4",
   "metadata": {},
   "source": [
    "# ----------------------------------------------END-----------------------------------------------------------"
   ]
  }
 ],
 "metadata": {
  "kernelspec": {
   "display_name": "Python 3 (ipykernel)",
   "language": "python",
   "name": "python3"
  },
  "language_info": {
   "codemirror_mode": {
    "name": "ipython",
    "version": 3
   },
   "file_extension": ".py",
   "mimetype": "text/x-python",
   "name": "python",
   "nbconvert_exporter": "python",
   "pygments_lexer": "ipython3",
   "version": "3.9.13"
  }
 },
 "nbformat": 4,
 "nbformat_minor": 5
}
