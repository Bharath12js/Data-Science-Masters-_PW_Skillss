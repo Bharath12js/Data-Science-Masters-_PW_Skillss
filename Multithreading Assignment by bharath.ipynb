{
 "cells": [
  {
   "cell_type": "markdown",
   "id": "0e39831a",
   "metadata": {},
   "source": [
    "# Multithreading Assignment"
   ]
  },
  {
   "cell_type": "markdown",
   "id": "d657803b",
   "metadata": {},
   "source": [
    "**Q1).What is multithreading in python? why is it used? Name the module used to handle threads in python.**"
   ]
  },
  {
   "cell_type": "markdown",
   "id": "c93da092",
   "metadata": {},
   "source": [
    "Solution:"
   ]
  },
  {
   "cell_type": "markdown",
   "id": "d19abc25",
   "metadata": {},
   "source": [
    "Multithreading in Python refers to the ability of a program to execute multiple threads concurrently within a single process. A thread is a separate flow of execution that can run independently alongside other threads. Multithreading is used to achieve concurrent execution, where multiple tasks or operations can progress simultaneously, improving the performance and responsiveness of an application.\n",
    "\n",
    "Multithreading is commonly used in scenarios where there are tasks that can be executed independently and don't need to wait for each other to complete. It is beneficial in situations involving I/O operations, network requests, parallel computations, and handling multiple user interactions simultaneously.\n",
    "\n",
    "In Python, the module used to handle threads is called threading. The threading module provides a high-level interface for creating and managing threads in Python programs. It offers features like thread creation, synchronization mechanisms (e.g., locks, conditions), and thread-safe data structures. The threading module simplifies the process of working with threads and allows developers to harness the benefits of multithreading in their Python applications."
   ]
  },
  {
   "cell_type": "markdown",
   "id": "1f49f9a8",
   "metadata": {},
   "source": [
    "The module used to handle threads in Python is called **threading**."
   ]
  },
  {
   "cell_type": "code",
   "execution_count": 2,
   "id": "4f435a4b",
   "metadata": {},
   "outputs": [],
   "source": [
    "import threading #to import the module"
   ]
  },
  {
   "cell_type": "markdown",
   "id": "384d2690",
   "metadata": {},
   "source": [
    "**Q2).Why threading module used?Write the use of the following functions()**\n",
    "\n",
    "**activeCount()**\n",
    "\n",
    "**currentThread()**\n",
    "\n",
    "**enumerate()**"
   ]
  },
  {
   "cell_type": "markdown",
   "id": "a2f5b67e",
   "metadata": {},
   "source": [
    "Solution:\n",
    "    \n",
    "The threading module in Python is used to handle threads and provides a high-level interface for creating, managing, and synchronizing threads in a Python program. It offers functions and classes that facilitate thread creation, coordination, and synchronization.\n",
    "\n",
    "Here are the use cases of the following functions in the threading module:\n",
    "\n",
    "**activeCount()**: This function returns the number of currently active threads in the program. It includes both daemon and non-daemon threads.\n",
    "\n",
    "Example:"
   ]
  },
  {
   "cell_type": "code",
   "execution_count": 4,
   "id": "cf4b3a6b",
   "metadata": {},
   "outputs": [
    {
     "name": "stdout",
     "output_type": "stream",
     "text": [
      "Thread started\n",
      "Thread started\n",
      "Active threads: 6\n"
     ]
    }
   ],
   "source": [
    "import threading\n",
    "\n",
    "def my_function():\n",
    "    print(\"Thread started\")\n",
    "\n",
    "thread1 = threading.Thread(target=my_function)\n",
    "thread2 = threading.Thread(target=my_function)\n",
    "\n",
    "thread1.start()\n",
    "thread2.start()\n",
    "\n",
    "print(\"Active threads:\", threading.activeCount())\n"
   ]
  },
  {
   "cell_type": "markdown",
   "id": "7f076a0f",
   "metadata": {},
   "source": [
    "In this example, activeCount() is used to get the count of active threads, including the main thread and the two additional threads created.\n",
    "\n",
    "**currentThread()**: This function returns the current thread object, representing the thread from which it is called.\n",
    "\n",
    "Example:"
   ]
  },
  {
   "cell_type": "code",
   "execution_count": 5,
   "id": "b8d77177",
   "metadata": {},
   "outputs": [
    {
     "name": "stdout",
     "output_type": "stream",
     "text": [
      "Current thread name: Thread-7\n"
     ]
    }
   ],
   "source": [
    "import threading\n",
    "\n",
    "def my_function():\n",
    "    current_thread = threading.currentThread()\n",
    "    print(\"Current thread name:\", current_thread.name)\n",
    "\n",
    "thread = threading.Thread(target=my_function)\n",
    "thread.start()\n"
   ]
  },
  {
   "cell_type": "markdown",
   "id": "d26f1754",
   "metadata": {},
   "source": [
    "In this example, currentThread() is used to get the current thread object and retrieve its name.\n",
    "\n",
    "**enumerate()**: This function returns a list of all currently active Thread objects. It includes both daemon and non-daemon threads.\n",
    "\n",
    "Example:"
   ]
  },
  {
   "cell_type": "code",
   "execution_count": 6,
   "id": "e46a3c38",
   "metadata": {},
   "outputs": [
    {
     "name": "stdout",
     "output_type": "stream",
     "text": [
      "Thread started\n",
      "Thread started\n",
      "Active threads: 6\n"
     ]
    }
   ],
   "source": [
    "import threading\n",
    "\n",
    "def my_function():\n",
    "    print(\"Thread started\")\n",
    "\n",
    "thread1 = threading.Thread(target=my_function)\n",
    "thread2 = threading.Thread(target=my_function)\n",
    "\n",
    "thread1.start()\n",
    "thread2.start()\n",
    "\n",
    "thread_list = threading.enumerate()\n",
    "print(\"Active threads:\", len(thread_list))\n"
   ]
  },
  {
   "cell_type": "markdown",
   "id": "d9017fdb",
   "metadata": {},
   "source": [
    "In this example, enumerate() is used to get a list of all active threads, including the main thread and the two additional threads created.\n",
    "\n",
    "These functions provide valuable information and control over threads in a Python program, allowing for thread management, tracking, and synchronization."
   ]
  },
  {
   "cell_type": "markdown",
   "id": "f1cf7aeb",
   "metadata": {},
   "source": [
    "**Q3). Explain the following functions()**\n",
    "\n",
    "**run()**\n",
    "\n",
    "**start()**\n",
    "\n",
    "**join()**\n",
    "\n",
    "**isAlive()**"
   ]
  },
  {
   "cell_type": "markdown",
   "id": "efbc6091",
   "metadata": {},
   "source": [
    "Solution:"
   ]
  },
  {
   "cell_type": "markdown",
   "id": "d64ded59",
   "metadata": {},
   "source": [
    "**run()**: This method is called when a Thread object's start() method is invoked. It represents the entry point for the thread's execution. By default, the run() method in the Thread class does nothing. To execute custom code in a thread, you can subclass the Thread class and override the run() method with your desired functionality.\n",
    "\n",
    "Example:"
   ]
  },
  {
   "cell_type": "code",
   "execution_count": 7,
   "id": "c387b0af",
   "metadata": {},
   "outputs": [
    {
     "name": "stdout",
     "output_type": "stream",
     "text": [
      "Thread executing\n"
     ]
    }
   ],
   "source": [
    "import threading\n",
    "\n",
    "class MyThread(threading.Thread):\n",
    "    def run(self):\n",
    "        print(\"Thread executing\")\n",
    "\n",
    "thread = MyThread()\n",
    "thread.start()\n"
   ]
  },
  {
   "cell_type": "markdown",
   "id": "2ce41ecc",
   "metadata": {},
   "source": [
    "In this example, the run() method is overridden in the MyThread class to print a message. When start() is called on the thread object, it internally invokes the run() method, which executes the custom code.\n",
    "\n",
    "**start()**: This method starts the execution of a thread by spawning a new operating system-level thread and invoking the thread's run() method. It initiates the concurrent execution of the thread.\n",
    "\n",
    "Example:"
   ]
  },
  {
   "cell_type": "code",
   "execution_count": 8,
   "id": "afe27a96",
   "metadata": {},
   "outputs": [
    {
     "name": "stdout",
     "output_type": "stream",
     "text": [
      "Thread executing\n"
     ]
    }
   ],
   "source": [
    "import threading\n",
    "\n",
    "def my_function():\n",
    "    print(\"Thread executing\")\n",
    "\n",
    "thread = threading.Thread(target=my_function)\n",
    "thread.start()\n"
   ]
  },
  {
   "cell_type": "markdown",
   "id": "e2fc9e7e",
   "metadata": {},
   "source": [
    "In this example, the start() method is called on the thread object, which creates a new thread and invokes the my_function() in a concurrent manner.\n",
    "\n",
    "**join()**: This method waits for a thread to complete its execution. It blocks the calling thread until the target thread terminates. If a timeout value is specified, the join() method waits for the specified duration for the thread to finish; otherwise, it blocks indefinitely until the thread completes.\n",
    "\n",
    "Example:"
   ]
  },
  {
   "cell_type": "code",
   "execution_count": 9,
   "id": "bf488e23",
   "metadata": {},
   "outputs": [
    {
     "name": "stdout",
     "output_type": "stream",
     "text": [
      "Thread executing\n",
      "Thread joined\n"
     ]
    }
   ],
   "source": [
    "import threading\n",
    "\n",
    "def my_function():\n",
    "    print(\"Thread executing\")\n",
    "\n",
    "thread = threading.Thread(target=my_function)\n",
    "thread.start()\n",
    "thread.join()\n",
    "print(\"Thread joined\")\n",
    "\n"
   ]
  },
  {
   "cell_type": "markdown",
   "id": "eff9b834",
   "metadata": {},
   "source": [
    "In this example, the join() method is called on the thread object. The calling thread (in this case, the main thread) will wait for the thread to complete before proceeding with the execution of the next statement.\n",
    "\n",
    "**isalive()**: This method checks whether a thread is currently executing or not. It returns True if the thread is still running and False otherwise.\n",
    "\n",
    "Example:"
   ]
  },
  {
   "cell_type": "code",
   "execution_count": 12,
   "id": "efdf3e42",
   "metadata": {},
   "outputs": [
    {
     "name": "stdout",
     "output_type": "stream",
     "text": [
      "Thread is alive? True\n",
      "Thread is alive? False\n"
     ]
    }
   ],
   "source": [
    "import threading\n",
    "import time\n",
    "\n",
    "def my_function():\n",
    "    time.sleep(2)\n",
    "\n",
    "thread = threading.Thread(target=my_function)\n",
    "thread.start()\n",
    "\n",
    "print(\"Thread is alive?\", thread.is_alive())\n",
    "time.sleep(3)\n",
    "print(\"Thread is alive?\", thread.is_alive())\n",
    "\n"
   ]
  },
  {
   "cell_type": "markdown",
   "id": "47de43a1",
   "metadata": {},
   "source": [
    "In this example, the isalive() method is used to check if the thread is still running or not. Initially, it returns True because the thread is executing. After waiting for 3 seconds (longer than the thread's execution time), it returns False as the thread has completed."
   ]
  },
  {
   "cell_type": "markdown",
   "id": "cf889b18",
   "metadata": {},
   "source": [
    "**Q4).Write a python program to create two threads. Thread one must print the list of squares and thread\n",
    "two must print the list of cubes**"
   ]
  },
  {
   "cell_type": "markdown",
   "id": "16f3f033",
   "metadata": {},
   "source": [
    "Solution:"
   ]
  },
  {
   "cell_type": "code",
   "execution_count": 13,
   "id": "4348d2dc",
   "metadata": {},
   "outputs": [
    {
     "name": "stdout",
     "output_type": "stream",
     "text": [
      "List of squares: [1, 4, 9, 16, 25]\n",
      "List of cubes: [1, 8, 27, 64, 125]\n",
      "Program execution completed.\n"
     ]
    }
   ],
   "source": [
    "import threading\n",
    "\n",
    "def print_squares():\n",
    "    squares = [x ** 2 for x in range(1, 6)]\n",
    "    print(\"List of squares:\", squares)\n",
    "\n",
    "def print_cubes():\n",
    "    cubes = [x ** 3 for x in range(1, 6)]\n",
    "    print(\"List of cubes:\", cubes)\n",
    "\n",
    "# Create the first thread\n",
    "thread1 = threading.Thread(target=print_squares)\n",
    "\n",
    "# Create the second thread\n",
    "thread2 = threading.Thread(target=print_cubes)\n",
    "\n",
    "# Start both threads\n",
    "thread1.start()\n",
    "thread2.start()\n",
    "\n",
    "# Wait for both threads to complete\n",
    "thread1.join()\n",
    "thread2.join()\n",
    "\n",
    "print(\"Program execution completed.\")\n"
   ]
  },
  {
   "cell_type": "markdown",
   "id": "17e10450",
   "metadata": {},
   "source": [
    "In this program, the print_squares() function generates a list of squares using a list comprehension, and the print_cubes() function generates a list of cubes using a similar approach. The Thread class from the threading module is used to create two threads, thread1 and thread2, which are assigned to the respective target functions."
   ]
  },
  {
   "cell_type": "markdown",
   "id": "d1fb3117",
   "metadata": {},
   "source": [
    "**Q5). State advantages and disadvantages of multithreading**"
   ]
  },
  {
   "cell_type": "markdown",
   "id": "5ad5ef77",
   "metadata": {},
   "source": [
    "Solution:"
   ]
  },
  {
   "cell_type": "markdown",
   "id": "03377252",
   "metadata": {},
   "source": [
    "**Advantages of Multithreading**:\n",
    "\n",
    "Concurrency: Multiple threads can execute simultaneously, allowing for concurrent execution of tasks and efficient utilization of CPU resources.\n",
    "\n",
    "Responsiveness: Multithreading enables responsiveness in applications by keeping them interactive even during time-consuming operations. This ensures that the application remains responsive to user input.\n",
    "\n",
    "Resource Sharing: Threads within a process can share the same memory space, enabling efficient sharing of data and resources. This facilitates communication and coordination between threads, making it easier to work with shared data.\n",
    "\n",
    "Modularity: Multithreading promotes modularity by dividing complex tasks into smaller threads. Each thread can handle a specific part of the task, leading to cleaner and more maintainable code.\n",
    "\n",
    "\n",
    "**Disadvantages of Multithreading**:\n",
    "\n",
    "Complexity: Multithreaded programming introduces additional complexity due to the need for synchronization and coordination between threads. Issues such as race conditions, deadlocks, and thread interference can arise, making debugging and development more challenging.\n",
    "\n",
    "Synchronization Overhead: When multiple threads access shared resources, synchronization mechanisms like locks or semaphores are required to prevent data corruption. These mechanisms introduce overhead and can impact performance.\n",
    "\n",
    "Debugging and Testing: Debugging multithreaded applications can be difficult, as issues like race conditions may be challenging to reproduce and diagnose. Testing multithreaded code also requires thorough testing of various scenarios to ensure correctness.\n",
    "\n",
    "Increased Memory Usage: Each thread requires its own stack and memory space. Creating numerous threads or using threads for tasks with low computational intensity can lead to increased memory usage, potentially affecting overall performance."
   ]
  },
  {
   "cell_type": "markdown",
   "id": "f1fbec8c",
   "metadata": {},
   "source": [
    "**Q6).Explain deadlocks and race conditions.**\n",
    "\n",
    "Solution:"
   ]
  },
  {
   "cell_type": "markdown",
   "id": "41658be4",
   "metadata": {},
   "source": [
    "**Deadlocks**:\n",
    "A deadlock occurs in a multithreaded or multiprocess environment when two or more threads or processes are unable to proceed because each is waiting for the other to release a resource or take a specific action. As a result, the threads or processes end up in a state of indefinite waiting, leading to a halt in the system. Deadlocks typically occur due to improper resource management and can be challenging to identify and resolve.\n",
    "For example, consider two threads, Thread A and Thread B. Thread A holds Resource X and requests Resource Y, while Thread B holds Resource Y and requests Resource X. If both threads are waiting for the other to release the resource they hold, a deadlock occurs, and neither thread can proceed.\n",
    "\n",
    "**Race Conditions**:\n",
    "A race condition is a situation where the behavior of a program depends on the relative timing of events or operations. It occurs when multiple threads or processes access shared data or resources concurrently, and the final outcome of the program depends on the order in which the threads are scheduled for execution. The result of a race condition is unpredictable and can lead to incorrect program behavior or data corruption.\n",
    "For example, consider two threads, Thread A and Thread B, both accessing and modifying a shared variable. If the threads perform read-modify-write operations on the shared variable concurrently without proper synchronization, the final value of the variable can be unexpected and inconsistent. The outcome of the program depends on the interleaving of the thread execution, leading to a race condition.\n",
    "\n",
    "**Race conditions** need to be handled carefully by using proper synchronization mechanisms, such as locks or semaphores, to ensure mutually exclusive access to shared resources. Failure to address race conditions can result in bugs and unexpected program behavior.\n",
    "\n",
    "**Both deadlocks and race conditions** are common concurrency issues that can arise in multithreaded or multiprocess environments. Proper synchronization, resource management, and careful design are essential to mitigate these issues and ensure the correct and reliable execution of concurrent programs."
   ]
  },
  {
   "cell_type": "markdown",
   "id": "34c5e779",
   "metadata": {},
   "source": [
    "# ----------------------------------------------------END-----------------------------------------------------"
   ]
  }
 ],
 "metadata": {
  "kernelspec": {
   "display_name": "Python 3 (ipykernel)",
   "language": "python",
   "name": "python3"
  },
  "language_info": {
   "codemirror_mode": {
    "name": "ipython",
    "version": 3
   },
   "file_extension": ".py",
   "mimetype": "text/x-python",
   "name": "python",
   "nbconvert_exporter": "python",
   "pygments_lexer": "ipython3",
   "version": "3.9.13"
  }
 },
 "nbformat": 4,
 "nbformat_minor": 5
}
