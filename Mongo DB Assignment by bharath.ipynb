{
 "cells": [
  {
   "cell_type": "markdown",
   "id": "3260b5a4",
   "metadata": {},
   "source": [
    "# Mongo DB Assignment"
   ]
  },
  {
   "cell_type": "markdown",
   "id": "b7eed483",
   "metadata": {},
   "source": [
    "**Q1. What is MongoDB? Explain non-relational databases in short. In which scenarios it is preferred to use\n",
    "MongoDB over SQL databases?**\n",
    "\n",
    "Solution:"
   ]
  },
  {
   "cell_type": "markdown",
   "id": "e3a2f241",
   "metadata": {},
   "source": [
    "MongoDB is a popular document-oriented NoSQL (non-relational) database management system. It is designed to store and manage unstructured and semi-structured data in a flexible and scalable manner. Here's a brief explanation of non-relational databases and the scenarios where MongoDB is preferred over SQL databases:\n",
    "\n",
    "Non-relational Databases:\n",
    "Non-relational databases, also known as NoSQL databases, are a category of databases that differ from traditional SQL databases in their data model and storage approach. They are designed to handle large volumes of unstructured or semi-structured data and provide flexibility and scalability. Unlike SQL databases, which use structured tables and relationships, non-relational databases use various data models such as key-value, document, columnar, or graph. They offer horizontal scalability, high performance, and easier data modeling for certain use cases.\n",
    "\n",
    "MongoDB and its Advantages:\n",
    "MongoDB is a widely used NoSQL database that follows the document data model. Here are some scenarios where MongoDB is preferred over SQL databases:\n",
    "\n",
    "Flexible and Dynamic Schema: MongoDB does not enforce a rigid schema like SQL databases. It allows you to store documents with varying structures within the same collection, providing flexibility in handling evolving data models.\n",
    "\n",
    "Scalability: MongoDB is designed to scale horizontally by distributing data across multiple servers. It can handle large volumes of data and high traffic loads efficiently, making it suitable for applications with rapid data growth or high scalability requirements.\n",
    "\n",
    "High Performance: MongoDB's document-oriented model allows for efficient retrieval of related data, as it can store related information in a single document. It also supports indexing and provides features like sharding and replication to enhance performance and availability.\n",
    "\n",
    "Rapid Development: MongoDB's flexible data model and dynamic schema make it suitable for agile development environments. It allows developers to quickly iterate and adapt to changing application requirements without the need for frequent database schema modifications.\n",
    "\n",
    "Use Cases: MongoDB is commonly used in scenarios such as content management systems, real-time analytics, social media applications, e-commerce platforms, and applications that handle large amounts of unstructured or semi-structured data.\n",
    "\n",
    "It's important to note that while MongoDB offers advantages for certain use cases, SQL databases excel in scenarios that require complex transactions, strict data integrity constraints, and extensive relational querying capabilities.\n",
    "\n",
    "In summary, MongoDB is a NoSQL database that provides flexibility, scalability, and performance advantages for applications dealing with unstructured or semi-structured data, rapid development cycles, and high scalability requirements."
   ]
  },
  {
   "cell_type": "markdown",
   "id": "70a94805",
   "metadata": {},
   "source": [
    "**Q2. State and Explain the features of MongoDB.**\n",
    "\n",
    "Solution:"
   ]
  },
  {
   "cell_type": "markdown",
   "id": "0d3d7679",
   "metadata": {},
   "source": [
    "MongoDB offers several key features that make it a popular choice for data storage and management. Here are some of the prominent features of MongoDB:\n",
    "\n",
    "Document-Oriented:\n",
    "MongoDB follows a document-oriented data model, where data is stored in flexible, self-describing documents in the BSON (Binary JSON) format. Documents are similar to JSON objects and can have varying structures within the same collection. This allows for easy and efficient representation of complex data structures.\n",
    "\n",
    "No Schema Constraints:\n",
    "MongoDB does not enforce rigid schema constraints, providing a flexible and dynamic data model. It allows you to store documents with different structures within the same collection. This flexibility is particularly useful in scenarios where data schemas evolve over time or when dealing with semi-structured or unstructured data.\n",
    "\n",
    "Scalability and High Performance:\n",
    "MongoDB is designed to scale horizontally, allowing for easy distribution of data across multiple servers or clusters. It offers built-in sharding, which enables data partitioning and distribution across multiple machines, leading to improved performance and increased capacity to handle large data volumes and high traffic loads.\n",
    "\n",
    "Replication and High Availability:\n",
    "MongoDB provides support for replica sets, which are self-healing, highly available clusters of MongoDB instances. Replica sets ensure data redundancy and automatic failover, allowing for high availability and data durability.\n",
    "\n",
    "Indexing and Querying:\n",
    "MongoDB supports various types of indexes, including single-field, compound, geospatial, and text indexes. Indexes help improve query performance by allowing efficient data retrieval. MongoDB also provides a rich query language with support for a wide range of querying operators and expressions.\n",
    "\n",
    "Aggregation Framework:\n",
    "MongoDB's Aggregation Framework allows for advanced data processing and analysis. It offers a set of operators and stages to perform data transformations, filtering, grouping, joining, and computing aggregations. The Aggregation Framework is powerful for performing complex analytics and generating meaningful insights from data.\n",
    "\n",
    "Geospatial Capabilities:\n",
    "MongoDB includes built-in geospatial indexing and querying features, making it well-suited for applications that work with geolocation data. It supports complex geospatial queries like proximity searches, spatial joins, and bounding box queries.\n",
    "\n",
    "Full-text Search:\n",
    "MongoDB provides powerful full-text search capabilities through its text indexes. It supports language-aware text searches, stemming, and relevance-based ranking of search results. This feature is valuable for applications requiring efficient text search functionality.\n",
    "\n",
    "Security:\n",
    "MongoDB offers robust security features such as authentication, role-based access control, SSL/TLS encryption, and auditing capabilities. These features help protect sensitive data and ensure compliance with security standards.\n",
    "\n",
    "Rich Ecosystem and Community:\n",
    "MongoDB has a vibrant and active community, which contributes to its ecosystem. It provides drivers and libraries for various programming languages, along with numerous third-party tools and frameworks that integrate well with MongoDB.\n",
    "\n",
    "These features make MongoDB a powerful and flexible NoSQL database for a wide range of use cases, including web applications, content management systems, real-time analytics, IoT applications, and more."
   ]
  },
  {
   "cell_type": "markdown",
   "id": "bcfaac50",
   "metadata": {},
   "source": [
    "**Q3. Write a code to connect MongoDB to Python. Also, create a database and a collection in MongoDB.**\n",
    "\n",
    "Solution:"
   ]
  },
  {
   "cell_type": "code",
   "execution_count": null,
   "id": "c0180778",
   "metadata": {},
   "outputs": [],
   "source": [
    "import pymongo\n",
    "\n",
    "# Establish connection\n",
    "client = pymongo.MongoClient(\"mongodb://localhost:27017\")\n",
    "\n",
    "# Create a database\n",
    "database = client[\"your_database_name\"]\n",
    "\n",
    "# Create a collection\n",
    "collection = database[\"your_collection_name\"]\n",
    "\n",
    "# Insert a document\n",
    "document = {\"name\": \"John Doe\", \"age\": 30}\n",
    "collection.insert_one(document)\n",
    "\n",
    "# Close the connection\n",
    "client.close()\n"
   ]
  },
  {
   "cell_type": "markdown",
   "id": "77596b08",
   "metadata": {},
   "source": [
    "To connect MongoDB to Python, you can use the pymongo library, which provides a Python interface for working with MongoDB"
   ]
  },
  {
   "cell_type": "markdown",
   "id": "a3936972",
   "metadata": {},
   "source": [
    "Make sure you have MongoDB installed and running on your local machine before executing the code.\n",
    "\n",
    "Explanation of the code:\n",
    "\n",
    "pymongo module is imported to interact with MongoDB.\n",
    "\n",
    "The pymongo.MongoClient() method is used to establish a connection to the MongoDB server running on the default host and port (localhost:27017). If you're using a different host or port, adjust the connection URL accordingly.\n",
    "\n",
    "The client object represents the MongoDB connection.\n",
    "\n",
    "To create a database, you can access it using client[\"your_database_name\"]. Replace \"your_database_name\" with the desired name for your database.\n",
    "\n",
    "To create a collection within the database, you can access it using database[\"your_collection_name\"]. Replace \"your_collection_name\" with the desired name for your collection.\n",
    "\n",
    "You can insert a document into the collection using the insert_one() method. In the example, a document with name and age fields is inserted.\n",
    "\n",
    "Finally, the client.close() method is used to close the connection to the MongoDB server.\n",
    "\n",
    "Remember to replace \"your_database_name\" and \"your_collection_name\" with the actual names you want to use for your database and collection, respectively.\n",
    "\n"
   ]
  },
  {
   "cell_type": "markdown",
   "id": "5bef5603",
   "metadata": {},
   "source": [
    "**Q4. Using the database and the collection created in question number 3, write a code to insert one record,\n",
    "and insert many records. Use the find() and find_one() methods to print the inserted record.**\n",
    "\n",
    "Solution:"
   ]
  },
  {
   "cell_type": "code",
   "execution_count": null,
   "id": "d304250a",
   "metadata": {},
   "outputs": [],
   "source": [
    "import pymongo\n",
    "\n",
    "# Establish connection\n",
    "client = pymongo.MongoClient(\"mongodb://localhost:27017\")\n",
    "\n",
    "# Access the database and collection\n",
    "database = client[\"your_database_name\"]\n",
    "collection = database[\"your_collection_name\"]\n",
    "\n",
    "# Insert one record\n",
    "document_one = {\"name\": \"Alice\", \"age\": 25}\n",
    "inserted_one = collection.insert_one(document_one)\n",
    "print(\"Inserted record ID:\", inserted_one.inserted_id)\n",
    "\n",
    "# Insert many records\n",
    "documents_many = [\n",
    "    {\"name\": \"Bob\", \"age\": 30},\n",
    "    {\"name\": \"Charlie\", \"age\": 35},\n",
    "    {\"name\": \"David\", \"age\": 40}\n",
    "]\n",
    "inserted_many = collection.insert_many(documents_many)\n",
    "print(\"Inserted record IDs:\", inserted_many.inserted_ids)\n",
    "\n",
    "# Find and print the inserted record\n",
    "found_one = collection.find_one({\"name\": \"Alice\"})\n",
    "print(\"Found record:\", found_one)\n",
    "\n",
    "# Find and print all inserted records\n",
    "found_many = collection.find()\n",
    "print(\"Found records:\")\n",
    "for record in found_many:\n",
    "    print(record)\n",
    "\n",
    "# Close the connection\n",
    "client.close()\n"
   ]
  },
  {
   "cell_type": "markdown",
   "id": "c40ea066",
   "metadata": {},
   "source": [
    "In the above code:\n",
    "\n",
    "After establishing the connection and accessing the desired database and collection, we proceed with inserting records.\n",
    "\n",
    "The insert_one() method is used to insert a single record, and the inserted record's ID is printed.\n",
    "\n",
    "The insert_many() method is used to insert multiple records, and the IDs of the inserted records are printed.\n",
    "\n",
    "The find_one() method is used to retrieve and print the inserted record with the name \"Alice\".\n",
    "\n",
    "The find() method is used to retrieve all records from the collection, and each record is printed in a loop.\n",
    "\n",
    "Finally, the connection is closed using client.close()."
   ]
  },
  {
   "cell_type": "markdown",
   "id": "85a79272",
   "metadata": {},
   "source": [
    "By executing this code, you will insert one record and multiple records into the collection, and then retrieve and print the inserted record(s) using the find() and find_one() methods.\n",
    "\n",
    "\n",
    "\n",
    "\n"
   ]
  },
  {
   "cell_type": "markdown",
   "id": "daa5a758",
   "metadata": {},
   "source": [
    "**Q5. Explain how you can use the find() method to query the MongoDB database. Write a simple code to\n",
    "demonstrate this.**\n",
    "\n",
    "Solution:"
   ]
  },
  {
   "cell_type": "markdown",
   "id": "3a085ea0",
   "metadata": {},
   "source": [
    "In MongoDB, the find() method is used to query the database and retrieve documents that match specified criteria. It allows you to specify filtering conditions, projection of fields, sorting, and more. Here's a simple code example to demonstrate the usage of the find() method:"
   ]
  },
  {
   "cell_type": "code",
   "execution_count": null,
   "id": "0aaec8a2",
   "metadata": {},
   "outputs": [],
   "source": [
    "import pymongo\n",
    "\n",
    "# Establish connection\n",
    "client = pymongo.MongoClient(\"mongodb://localhost:27017\")\n",
    "\n",
    "# Access the database and collection\n",
    "database = client[\"your_database_name\"]\n",
    "collection = database[\"your_collection_name\"]\n",
    "\n",
    "# Perform a find query\n",
    "query = {\"age\": {\"$gt\": 25}}  # Retrieve documents where age is greater than 25\n",
    "results = collection.find(query)\n",
    "\n",
    "# Print the retrieved documents\n",
    "for document in results:\n",
    "    print(document)\n",
    "\n",
    "# Close the connection\n",
    "client.close()\n"
   ]
  },
  {
   "cell_type": "markdown",
   "id": "728f8023",
   "metadata": {},
   "source": [
    "In the code example:\n",
    "\n",
    "After establishing the connection and accessing the desired database and collection, we define a query using a dictionary. In this case, we want to retrieve documents where the \"age\" field is greater than 25.\n",
    "\n",
    "The find() method is called on the collection, passing the query as an argument. This executes the query and returns a cursor object containing the matching documents.\n",
    "\n",
    "We iterate over the cursor using a for loop to print each retrieved document.\n",
    "\n",
    "Finally, the connection is closed using client.close().\n",
    "\n",
    "By executing this code, you will perform a find query in MongoDB, retrieve and print the documents that match the specified criteria (age greater than 25 in this case). You can customize the query by modifying the filter conditions to suit your specific requirements."
   ]
  },
  {
   "cell_type": "markdown",
   "id": "c13557f4",
   "metadata": {},
   "source": [
    "**Q6. Explain the sort() method. Give an example to demonstrate sorting in MongoDB.**\n",
    "\n",
    "Solution:"
   ]
  },
  {
   "cell_type": "markdown",
   "id": "cf69a868",
   "metadata": {},
   "source": [
    "In MongoDB, the sort() method is used to specify the sorting order for the retrieved documents in a query result. It allows you to sort the documents based on one or more fields in ascending or descending order. Here's an explanation of the sort() method and an example to demonstrate sorting in MongoDB:\n",
    "\n",
    "Syntax of the sort() method:"
   ]
  },
  {
   "cell_type": "code",
   "execution_count": null,
   "id": "4bd37cbd",
   "metadata": {},
   "outputs": [],
   "source": [
    "collection.find(query).sort(sort_key, sort_direction)\n"
   ]
  },
  {
   "cell_type": "markdown",
   "id": "344e4090",
   "metadata": {},
   "source": [
    "query: The query that defines the filtering conditions for the documents.\n",
    "\n",
    "sort_key: The field based on which the sorting should be performed.\n",
    "\n",
    "sort_direction: The sorting order. Use pymongo.ASCENDING for ascending order and pymongo.DESCENDING for descending order.\n",
    "\n",
    "Example:"
   ]
  },
  {
   "cell_type": "code",
   "execution_count": null,
   "id": "0c6ffe96",
   "metadata": {},
   "outputs": [],
   "source": [
    "import pymongo\n",
    "\n",
    "# Establish connection\n",
    "client = pymongo.MongoClient(\"mongodb://localhost:27017\")\n",
    "\n",
    "# Access the database and collection\n",
    "database = client[\"your_database_name\"]\n",
    "collection = database[\"your_collection_name\"]\n",
    "\n",
    "# Perform a find query with sorting\n",
    "query = {\"age\": {\"$gt\": 25}}  # Retrieve documents where age is greater than 25\n",
    "sort_key = \"age\"  # Sort based on the \"age\" field\n",
    "sort_direction = pymongo.ASCENDING  # Sort in ascending order\n",
    "results = collection.find(query).sort(sort_key, sort_direction)\n",
    "\n",
    "# Print the retrieved documents\n",
    "for document in results:\n",
    "    print(document)\n",
    "\n",
    "# Close the connection\n",
    "client.close()\n"
   ]
  },
  {
   "cell_type": "markdown",
   "id": "43f6f58a",
   "metadata": {},
   "source": [
    "In the example code:\n",
    "\n",
    "After establishing the connection and accessing the desired database and collection, we define a query to retrieve documents where the \"age\" field is greater than 25.\n",
    "\n",
    "We specify the field \"age\" as the sorting key.\n",
    "\n",
    "The pymongo.ASCENDING constant is used to specify the sorting order as ascending.\n",
    "\n",
    "The sort() method is called on the find() query, passing the sorting parameters as arguments.\n",
    "\n",
    "We iterate over the cursor and print each retrieved document, which will be sorted in ascending order based on the \"age\" field.\n",
    "\n",
    "By executing this code, you will perform a find query in MongoDB, retrieve and print the documents that match the specified criteria, sorted in the specified order. You can modify the sorting key and direction to suit your specific requirements."
   ]
  },
  {
   "cell_type": "markdown",
   "id": "50d7c484",
   "metadata": {},
   "source": [
    "**Q7. Explain why delete_one(), delete_many(), and drop() is used.**\n",
    "\n",
    "Solution:"
   ]
  },
  {
   "cell_type": "markdown",
   "id": "3f3af398",
   "metadata": {},
   "source": [
    "In MongoDB, the delete_one(), delete_many(), and drop() methods are used for deleting data from a collection or dropping an entire collection. \n",
    "\n",
    "Here's an explanation of when and how each method is used:\n",
    "\n",
    "**delete_one()**:\n",
    "\n",
    "Use delete_one() when you want to delete a single document that matches a specific condition.\n",
    "It takes a filter as a parameter to identify the document(s) to delete. If multiple documents match the filter, only the first one encountered will be deleted.\n",
    "Example usage: Deleting a specific user from a user collection based on their unique identifier.\n",
    "\n",
    "**delete_many()**:\n",
    "\n",
    "Use delete_many() when you want to delete multiple documents that match a specific condition.\n",
    "It takes a filter as a parameter to identify the documents to delete. All documents that match the filter will be deleted.\n",
    "Example usage: Deleting all documents from a log collection that have a timestamp older than a certain date.\n",
    "\n",
    "**drop()**:\n",
    "\n",
    "Use drop() when you want to completely remove a collection from the database.\n",
    "It takes no parameters and drops the entire collection, including all its documents and indexes.\n",
    "Exercise caution when using this method, as it irreversibly deletes all data in the collection.\n",
    "Example usage: Dropping a temporary collection that is no longer needed.\n",
    "\n",
    "\n",
    "These methods provide different levels of granularity and flexibility in deleting data from MongoDB:\n",
    "\n",
    "delete_one() is used when you need to delete a specific document or the first matching document.\n",
    "\n",
    "delete_many() is used when you need to delete multiple documents that meet certain criteria.\n",
    "\n",
    "drop() is used when you want to delete an entire collection, including all its documents.\n",
    "\n",
    "It's important to note that deleting data from a database should be done with caution, as it permanently removes the data. Always double-check your delete operations and ensure that you have appropriate backups or safeguards in place to prevent accidental data loss.\n"
   ]
  },
  {
   "cell_type": "markdown",
   "id": "d8318edc",
   "metadata": {},
   "source": [
    "# --------------------------------------------------END-------------------------------------------------------"
   ]
  }
 ],
 "metadata": {
  "kernelspec": {
   "display_name": "Python 3 (ipykernel)",
   "language": "python",
   "name": "python3"
  },
  "language_info": {
   "codemirror_mode": {
    "name": "ipython",
    "version": 3
   },
   "file_extension": ".py",
   "mimetype": "text/x-python",
   "name": "python",
   "nbconvert_exporter": "python",
   "pygments_lexer": "ipython3",
   "version": "3.9.13"
  }
 },
 "nbformat": 4,
 "nbformat_minor": 5
}
